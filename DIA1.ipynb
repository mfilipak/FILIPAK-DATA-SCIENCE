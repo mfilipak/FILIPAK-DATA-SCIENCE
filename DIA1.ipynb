{
  "nbformat": 4,
  "nbformat_minor": 0,
  "metadata": {
    "colab": {
      "provenance": [],
      "authorship_tag": "ABX9TyOfxRO8Imk/bTTIpD9pDaac",
      "include_colab_link": true
    },
    "kernelspec": {
      "name": "python3",
      "display_name": "Python 3"
    },
    "language_info": {
      "name": "python"
    }
  },
  "cells": [
    {
      "cell_type": "markdown",
      "metadata": {
        "id": "view-in-github",
        "colab_type": "text"
      },
      "source": [
        "<a href=\"https://colab.research.google.com/github/mfilipak/FILIPAK-DATA-SCIENCE/blob/main/DIA1.ipynb\" target=\"_parent\"><img src=\"https://colab.research.google.com/assets/colab-badge.svg\" alt=\"Open In Colab\"/></a>"
      ]
    },
    {
      "cell_type": "markdown",
      "source": [
        "Dia 1 -\n",
        "\n",
        "Referências:\n",
        "* https://jakevdp.github.io/PythonDataScienceHandbook/ - Esse livro contém uma boa introdução ao Python e aos métodos \"clássicos\" de machine learning.\n",
        "*"
      ],
      "metadata": {
        "id": "HvScBrZm82El"
      }
    },
    {
      "cell_type": "code",
      "execution_count": 5,
      "metadata": {
        "id": "jqBxJvBk0wx0"
      },
      "outputs": [],
      "source": [
        "from sklearn.datasets import fetch_openml\n",
        "\n",
        "# Carregar os dados MNIST\n",
        "mnist = fetch_openml('mnist_784', version=1, parser=\"pandas\")\n",
        "\n",
        "# O conjunto de dados é retornado como um objeto semelhante a um dicionário com os dados e os alvos\n",
        "X, y = mnist[\"data\"], mnist[\"target\"]\n",
        "\n",
        "# X é o array de imagens, e y é o array de rótulos\n",
        "# Cada imagem é representada como um array 1D de 784 características (28x28 pixels)\n",
        "# Você pode querer converter os rótulos (y) para inteiros\n",
        "y = y.astype(int)\n",
        "\n",
        "# Agora você pode usar X e y para treinar um modelo de aprendizado de máquina"
      ]
    },
    {
      "cell_type": "code",
      "source": [
        "X = X.to_numpy()\n",
        "Y = y.to_numpy()\n",
        "X.shape, Y.shape"
      ],
      "metadata": {
        "colab": {
          "base_uri": "https://localhost:8080/"
        },
        "id": "5O5GencF1TnR",
        "outputId": "880f51df-85e3-49aa-a402-f7b5ad0edb75"
      },
      "execution_count": 6,
      "outputs": [
        {
          "output_type": "execute_result",
          "data": {
            "text/plain": [
              "((70000, 784), (70000,))"
            ]
          },
          "metadata": {},
          "execution_count": 6
        }
      ]
    },
    {
      "cell_type": "code",
      "source": [
        "plt.bar(list(range(len(X[0]))),X[0])"
      ],
      "metadata": {
        "id": "YTWBLURALdNF",
        "outputId": "b7d877c7-2043-496c-f520-00cd247519ac",
        "colab": {
          "base_uri": "https://localhost:8080/",
          "height": 448
        }
      },
      "execution_count": 15,
      "outputs": [
        {
          "output_type": "execute_result",
          "data": {
            "text/plain": [
              "<BarContainer object of 784 artists>"
            ]
          },
          "metadata": {},
          "execution_count": 15
        },
        {
          "output_type": "display_data",
          "data": {
            "text/plain": [
              "<Figure size 640x480 with 1 Axes>"
            ],
            "image/png": "[encoded data removed]"
          },
          "metadata": {}
        }
      ]
    },
    {
      "cell_type": "code",
      "source": [
        "plt.hist(X[0], bins=255)\n",
        "plt.yscale(\"log\")\n",
        "plt.show()"
      ],
      "metadata": {
        "id": "x9q9jjNLL1gt",
        "outputId": "198e3e10-2361-4bb3-fcc4-ce97004cd403",
        "colab": {
          "base_uri": "https://localhost:8080/",
          "height": 430
        }
      },
      "execution_count": 80,
      "outputs": [
        {
          "output_type": "display_data",
          "data": {
            "text/plain": [
              "<Figure size 640x480 with 1 Axes>"
            ],
            "image/png": "[encoded data removed]"
          },
          "metadata": {}
        }
      ]
    },
    {
      "cell_type": "code",
      "source": [
        "import matplotlib.pyplot as plt\n",
        "\n",
        "print(\"LABEL: \", Y[0])\n",
        "plt.imshow(X[0].reshape((28,28)), cmap=\"gray\")\n",
        "plt.show()"
      ],
      "metadata": {
        "colab": {
          "base_uri": "https://localhost:8080/",
          "height": 448
        },
        "id": "kW-b4F674SLa",
        "outputId": "3c8acad3-88b5-453e-8201-d6098f50dd58"
      },
      "execution_count": 21,
      "outputs": [
        {
          "output_type": "stream",
          "name": "stdout",
          "text": [
            "LABEL:  5\n"
          ]
        },
        {
          "output_type": "display_data",
          "data": {
            "text/plain": [
              "<Figure size 640x480 with 1 Axes>"
            ],
            "image/png": "[encoded data removed]"
          },
          "metadata": {}
        }
      ]
    },
    {
      "cell_type": "code",
      "source": [
        "from sklearn.linear_model import LinearRegression\n",
        "from sklearn.metrics import mean_squared_error"
      ],
      "metadata": {
        "id": "K8KyRBV88wTi"
      },
      "execution_count": 22,
      "outputs": []
    },
    {
      "cell_type": "code",
      "source": [
        "model1 = LinearRegression()\n",
        "model1.fit(X, Y)"
      ],
      "metadata": {
        "colab": {
          "base_uri": "https://localhost:8080/",
          "height": 74
        },
        "id": "g4kIHc_g2XvH",
        "outputId": "1d4069b0-0e9d-457b-d998-2deaf883fd69"
      },
      "execution_count": 23,
      "outputs": [
        {
          "output_type": "execute_result",
          "data": {
            "text/plain": [
              "LinearRegression()"
            ],
            "text/html": [
              "<style>#sk-container-id-1 {color: black;background-color: white;}#sk-container-id-1 pre{padding: 0;}#sk-container-id-1 div.sk-toggleable {background-color: white;}#sk-container-id-1 label.sk-toggleable__label {cursor: pointer;display: block;width: 100%;margin-bottom: 0;padding: 0.3em;box-sizing: border-box;text-align: center;}#sk-container-id-1 label.sk-toggleable__label-arrow:before {content: \"▸\";float: left;margin-right: 0.25em;color: #696969;}#sk-container-id-1 label.sk-toggleable__label-arrow:hover:before {color: black;}#sk-container-id-1 div.sk-estimator:hover label.sk-toggleable__label-arrow:before {color: black;}#sk-container-id-1 div.sk-toggleable__content {max-height: 0;max-width: 0;overflow: hidden;text-align: left;background-color: #f0f8ff;}#sk-container-id-1 div.sk-toggleable__content pre {margin: 0.2em;color: black;border-radius: 0.25em;background-color: #f0f8ff;}#sk-container-id-1 input.sk-toggleable__control:checked~div.sk-toggleable__content {max-height: 200px;max-width: 100%;overflow: auto;}#sk-container-id-1 input.sk-toggleable__control:checked~label.sk-toggleable__label-arrow:before {content: \"▾\";}#sk-container-id-1 div.sk-estimator input.sk-toggleable__control:checked~label.sk-toggleable__label {background-color: #d4ebff;}#sk-container-id-1 div.sk-label input.sk-toggleable__control:checked~label.sk-toggleable__label {background-color: #d4ebff;}#sk-container-id-1 input.sk-hidden--visually {border: 0;clip: rect(1px 1px 1px 1px);clip: rect(1px, 1px, 1px, 1px);height: 1px;margin: -1px;overflow: hidden;padding: 0;position: absolute;width: 1px;}#sk-container-id-1 div.sk-estimator {font-family: monospace;background-color: #f0f8ff;border: 1px dotted black;border-radius: 0.25em;box-sizing: border-box;margin-bottom: 0.5em;}#sk-container-id-1 div.sk-estimator:hover {background-color: #d4ebff;}#sk-container-id-1 div.sk-parallel-item::after {content: \"\";width: 100%;border-bottom: 1px solid gray;flex-grow: 1;}#sk-container-id-1 div.sk-label:hover label.sk-toggleable__label {background-color: #d4ebff;}#sk-container-id-1 div.sk-serial::before {content: \"\";position: absolute;border-left: 1px solid gray;box-sizing: border-box;top: 0;bottom: 0;left: 50%;z-index: 0;}#sk-container-id-1 div.sk-serial {display: flex;flex-direction: column;align-items: center;background-color: white;padding-right: 0.2em;padding-left: 0.2em;position: relative;}#sk-container-id-1 div.sk-item {position: relative;z-index: 1;}#sk-container-id-1 div.sk-parallel {display: flex;align-items: stretch;justify-content: center;background-color: white;position: relative;}#sk-container-id-1 div.sk-item::before, #sk-container-id-1 div.sk-parallel-item::before {content: \"\";position: absolute;border-left: 1px solid gray;box-sizing: border-box;top: 0;bottom: 0;left: 50%;z-index: -1;}#sk-container-id-1 div.sk-parallel-item {display: flex;flex-direction: column;z-index: 1;position: relative;background-color: white;}#sk-container-id-1 div.sk-parallel-item:first-child::after {align-self: flex-end;width: 50%;}#sk-container-id-1 div.sk-parallel-item:last-child::after {align-self: flex-start;width: 50%;}#sk-container-id-1 div.sk-parallel-item:only-child::after {width: 0;}#sk-container-id-1 div.sk-dashed-wrapped {border: 1px dashed gray;margin: 0 0.4em 0.5em 0.4em;box-sizing: border-box;padding-bottom: 0.4em;background-color: white;}#sk-container-id-1 div.sk-label label {font-family: monospace;font-weight: bold;display: inline-block;line-height: 1.2em;}#sk-container-id-1 div.sk-label-container {text-align: center;}#sk-container-id-1 div.sk-container {/* jupyter's `normalize.less` sets `[hidden] { display: none; }` but bootstrap.min.css set `[hidden] { display: none !important; }` so we also need the `!important` here to be able to override the default hidden behavior on the sphinx rendered scikit-learn.org. See: https://github.com/scikit-learn/scikit-learn/issues/21755 */display: inline-block !important;position: relative;}#sk-container-id-1 div.sk-text-repr-fallback {display: none;}</style><div id=\"sk-container-id-1\" class=\"sk-top-container\"><div class=\"sk-text-repr-fallback\"><pre>LinearRegression()</pre><b>In a Jupyter environment, please rerun this cell to show the HTML representation or trust the notebook. <br />On GitHub, the HTML representation is unable to render, please try loading this page with nbviewer.org.</b></div><div class=\"sk-container\" hidden><div class=\"sk-item\"><div class=\"sk-estimator sk-toggleable\"><input class=\"sk-toggleable__control sk-hidden--visually\" id=\"sk-estimator-id-1\" type=\"checkbox\" checked><label for=\"sk-estimator-id-1\" class=\"sk-toggleable__label sk-toggleable__label-arrow\">LinearRegression</label><div class=\"sk-toggleable__content\"><pre>LinearRegression()</pre></div></div></div></div></div>"
            ]
          },
          "metadata": {},
          "execution_count": 23
        }
      ]
    },
    {
      "cell_type": "code",
      "source": [
        "y1_pred = model1.predict(X)"
      ],
      "metadata": {
        "id": "euvXf_7rDZr6"
      },
      "execution_count": 24,
      "outputs": []
    },
    {
      "cell_type": "code",
      "source": [
        "y1_pred, Y"
      ],
      "metadata": {
        "colab": {
          "base_uri": "https://localhost:8080/"
        },
        "id": "I1cDj0Z7Dpe5",
        "outputId": "9f119975-b71f-4f07-a2c4-0d0b5550170c"
      },
      "execution_count": 25,
      "outputs": [
        {
          "output_type": "execute_result",
          "data": {
            "text/plain": [
              "(array([4.24166265, 1.18218974, 3.19922958, ..., 7.87853978, 5.58042962,\n",
              "        5.77723502]),\n",
              " array([5, 0, 4, ..., 4, 5, 6]))"
            ]
          },
          "metadata": {},
          "execution_count": 25
        }
      ]
    },
    {
      "cell_type": "code",
      "source": [
        "import numpy as np\n",
        "(y1_pred.round()==Y).sum()/len(X)"
      ],
      "metadata": {
        "id": "nsq3e0OIItX5",
        "outputId": "ae79c3b5-2893-4373-8f2d-760979453fd7",
        "colab": {
          "base_uri": "https://localhost:8080/"
        }
      },
      "execution_count": 29,
      "outputs": [
        {
          "output_type": "execute_result",
          "data": {
            "text/plain": [
              "0.22757142857142856"
            ]
          },
          "metadata": {},
          "execution_count": 29
        }
      ]
    },
    {
      "cell_type": "code",
      "source": [
        "import numpy as np\n",
        "model2 = LinearRegression()\n",
        "Y2 = np.array([np.eye(10)[_] for _ in Y])\n",
        "Y2[0]"
      ],
      "metadata": {
        "colab": {
          "base_uri": "https://localhost:8080/"
        },
        "id": "zkisS2puDrHZ",
        "outputId": "9cf6664e-f191-40ab-9084-cc2031eed6cc"
      },
      "execution_count": 31,
      "outputs": [
        {
          "output_type": "execute_result",
          "data": {
            "text/plain": [
              "array([0., 0., 0., 0., 0., 1., 0., 0., 0., 0.])"
            ]
          },
          "metadata": {},
          "execution_count": 31
        }
      ]
    },
    {
      "cell_type": "code",
      "source": [
        "model2.fit(X,Y2)"
      ],
      "metadata": {
        "colab": {
          "base_uri": "https://localhost:8080/",
          "height": 74
        },
        "id": "x8DImt8jD-Qy",
        "outputId": "ae71946c-e91c-4f3f-9d48-4599370ffbe7"
      },
      "execution_count": 32,
      "outputs": [
        {
          "output_type": "execute_result",
          "data": {
            "text/plain": [
              "LinearRegression()"
            ],
            "text/html": [
              "<style>#sk-container-id-2 {color: black;background-color: white;}#sk-container-id-2 pre{padding: 0;}#sk-container-id-2 div.sk-toggleable {background-color: white;}#sk-container-id-2 label.sk-toggleable__label {cursor: pointer;display: block;width: 100%;margin-bottom: 0;padding: 0.3em;box-sizing: border-box;text-align: center;}#sk-container-id-2 label.sk-toggleable__label-arrow:before {content: \"▸\";float: left;margin-right: 0.25em;color: #696969;}#sk-container-id-2 label.sk-toggleable__label-arrow:hover:before {color: black;}#sk-container-id-2 div.sk-estimator:hover label.sk-toggleable__label-arrow:before {color: black;}#sk-container-id-2 div.sk-toggleable__content {max-height: 0;max-width: 0;overflow: hidden;text-align: left;background-color: #f0f8ff;}#sk-container-id-2 div.sk-toggleable__content pre {margin: 0.2em;color: black;border-radius: 0.25em;background-color: #f0f8ff;}#sk-container-id-2 input.sk-toggleable__control:checked~div.sk-toggleable__content {max-height: 200px;max-width: 100%;overflow: auto;}#sk-container-id-2 input.sk-toggleable__control:checked~label.sk-toggleable__label-arrow:before {content: \"▾\";}#sk-container-id-2 div.sk-estimator input.sk-toggleable__control:checked~label.sk-toggleable__label {background-color: #d4ebff;}#sk-container-id-2 div.sk-label input.sk-toggleable__control:checked~label.sk-toggleable__label {background-color: #d4ebff;}#sk-container-id-2 input.sk-hidden--visually {border: 0;clip: rect(1px 1px 1px 1px);clip: rect(1px, 1px, 1px, 1px);height: 1px;margin: -1px;overflow: hidden;padding: 0;position: absolute;width: 1px;}#sk-container-id-2 div.sk-estimator {font-family: monospace;background-color: #f0f8ff;border: 1px dotted black;border-radius: 0.25em;box-sizing: border-box;margin-bottom: 0.5em;}#sk-container-id-2 div.sk-estimator:hover {background-color: #d4ebff;}#sk-container-id-2 div.sk-parallel-item::after {content: \"\";width: 100%;border-bottom: 1px solid gray;flex-grow: 1;}#sk-container-id-2 div.sk-label:hover label.sk-toggleable__label {background-color: #d4ebff;}#sk-container-id-2 div.sk-serial::before {content: \"\";position: absolute;border-left: 1px solid gray;box-sizing: border-box;top: 0;bottom: 0;left: 50%;z-index: 0;}#sk-container-id-2 div.sk-serial {display: flex;flex-direction: column;align-items: center;background-color: white;padding-right: 0.2em;padding-left: 0.2em;position: relative;}#sk-container-id-2 div.sk-item {position: relative;z-index: 1;}#sk-container-id-2 div.sk-parallel {display: flex;align-items: stretch;justify-content: center;background-color: white;position: relative;}#sk-container-id-2 div.sk-item::before, #sk-container-id-2 div.sk-parallel-item::before {content: \"\";position: absolute;border-left: 1px solid gray;box-sizing: border-box;top: 0;bottom: 0;left: 50%;z-index: -1;}#sk-container-id-2 div.sk-parallel-item {display: flex;flex-direction: column;z-index: 1;position: relative;background-color: white;}#sk-container-id-2 div.sk-parallel-item:first-child::after {align-self: flex-end;width: 50%;}#sk-container-id-2 div.sk-parallel-item:last-child::after {align-self: flex-start;width: 50%;}#sk-container-id-2 div.sk-parallel-item:only-child::after {width: 0;}#sk-container-id-2 div.sk-dashed-wrapped {border: 1px dashed gray;margin: 0 0.4em 0.5em 0.4em;box-sizing: border-box;padding-bottom: 0.4em;background-color: white;}#sk-container-id-2 div.sk-label label {font-family: monospace;font-weight: bold;display: inline-block;line-height: 1.2em;}#sk-container-id-2 div.sk-label-container {text-align: center;}#sk-container-id-2 div.sk-container {/* jupyter's `normalize.less` sets `[hidden] { display: none; }` but bootstrap.min.css set `[hidden] { display: none !important; }` so we also need the `!important` here to be able to override the default hidden behavior on the sphinx rendered scikit-learn.org. See: https://github.com/scikit-learn/scikit-learn/issues/21755 */display: inline-block !important;position: relative;}#sk-container-id-2 div.sk-text-repr-fallback {display: none;}</style><div id=\"sk-container-id-2\" class=\"sk-top-container\"><div class=\"sk-text-repr-fallback\"><pre>LinearRegression()</pre><b>In a Jupyter environment, please rerun this cell to show the HTML representation or trust the notebook. <br />On GitHub, the HTML representation is unable to render, please try loading this page with nbviewer.org.</b></div><div class=\"sk-container\" hidden><div class=\"sk-item\"><div class=\"sk-estimator sk-toggleable\"><input class=\"sk-toggleable__control sk-hidden--visually\" id=\"sk-estimator-id-2\" type=\"checkbox\" checked><label for=\"sk-estimator-id-2\" class=\"sk-toggleable__label sk-toggleable__label-arrow\">LinearRegression</label><div class=\"sk-toggleable__content\"><pre>LinearRegression()</pre></div></div></div></div></div>"
            ]
          },
          "metadata": {},
          "execution_count": 32
        }
      ]
    },
    {
      "cell_type": "code",
      "source": [
        "y2 = model2.predict(X)\n",
        "y2[0]"
      ],
      "metadata": {
        "colab": {
          "base_uri": "https://localhost:8080/"
        },
        "id": "G-bFhAcqEOty",
        "outputId": "400d9a4d-4fe1-4afa-8c40-d03dd97be1ae"
      },
      "execution_count": 35,
      "outputs": [
        {
          "output_type": "execute_result",
          "data": {
            "text/plain": [
              "array([ 8.06062936e-02,  1.33404311e-04, -7.81109236e-02,  4.02657611e-01,\n",
              "       -1.98306329e-01,  5.25759137e-01,  1.93141708e-01,  3.06880983e-01,\n",
              "       -1.40383422e-01, -9.32330784e-02])"
            ]
          },
          "metadata": {},
          "execution_count": 35
        }
      ]
    },
    {
      "cell_type": "code",
      "source": [
        "(np.argmax(y2, axis=-1) == np.argmax(Y2, axis=-1)).sum()/len(X)"
      ],
      "metadata": {
        "colab": {
          "base_uri": "https://localhost:8080/"
        },
        "id": "R6c1lvWgEVJI",
        "outputId": "c1c85d68-10a7-4583-d187-d12237e4da6d"
      },
      "execution_count": 28,
      "outputs": [
        {
          "output_type": "execute_result",
          "data": {
            "text/plain": [
              "0.8578857142857143"
            ]
          },
          "metadata": {},
          "execution_count": 28
        }
      ]
    },
    {
      "cell_type": "code",
      "source": [
        "model1.intercept_"
      ],
      "metadata": {
        "colab": {
          "base_uri": "https://localhost:8080/"
        },
        "id": "JDrYJ1GAEarw",
        "outputId": "2a5f2ff9-dfa7-493f-ea77-528ee30c0107"
      },
      "execution_count": 37,
      "outputs": [
        {
          "output_type": "execute_result",
          "data": {
            "text/plain": [
              "2.9755303100826485"
            ]
          },
          "metadata": {},
          "execution_count": 37
        }
      ]
    },
    {
      "cell_type": "code",
      "source": [
        "model2.intercept_"
      ],
      "metadata": {
        "id": "64SjgkRzNM6X",
        "outputId": "0251feed-eb59-4f2f-f240-d3453904ef3a",
        "colab": {
          "base_uri": "https://localhost:8080/"
        }
      },
      "execution_count": 39,
      "outputs": [
        {
          "output_type": "execute_result",
          "data": {
            "text/plain": [
              "array([ 0.16359   ,  0.2433623 ,  0.05103905,  0.01929909,  0.20569496,\n",
              "        0.18727076,  0.06903461,  0.14046435, -0.12390439,  0.04429453])"
            ]
          },
          "metadata": {},
          "execution_count": 39
        }
      ]
    },
    {
      "cell_type": "code",
      "source": [
        "from sklearn.tree import DecisionTreeRegressor\n",
        "model3 = DecisionTreeRegressor(random_state=42)"
      ],
      "metadata": {
        "id": "MW6PkR8fNQZI"
      },
      "execution_count": 69,
      "outputs": []
    },
    {
      "cell_type": "code",
      "source": [
        "model3.fit(X,Y)"
      ],
      "metadata": {
        "id": "BWYWa1slN4W_",
        "outputId": "45ce3222-9ece-4342-ebb9-260bbf772043",
        "colab": {
          "base_uri": "https://localhost:8080/",
          "height": 74
        }
      },
      "execution_count": 71,
      "outputs": [
        {
          "output_type": "execute_result",
          "data": {
            "text/plain": [
              "DecisionTreeRegressor(random_state=42)"
            ],
            "text/html": [
              "<style>#sk-container-id-6 {color: black;background-color: white;}#sk-container-id-6 pre{padding: 0;}#sk-container-id-6 div.sk-toggleable {background-color: white;}#sk-container-id-6 label.sk-toggleable__label {cursor: pointer;display: block;width: 100%;margin-bottom: 0;padding: 0.3em;box-sizing: border-box;text-align: center;}#sk-container-id-6 label.sk-toggleable__label-arrow:before {content: \"▸\";float: left;margin-right: 0.25em;color: #696969;}#sk-container-id-6 label.sk-toggleable__label-arrow:hover:before {color: black;}#sk-container-id-6 div.sk-estimator:hover label.sk-toggleable__label-arrow:before {color: black;}#sk-container-id-6 div.sk-toggleable__content {max-height: 0;max-width: 0;overflow: hidden;text-align: left;background-color: #f0f8ff;}#sk-container-id-6 div.sk-toggleable__content pre {margin: 0.2em;color: black;border-radius: 0.25em;background-color: #f0f8ff;}#sk-container-id-6 input.sk-toggleable__control:checked~div.sk-toggleable__content {max-height: 200px;max-width: 100%;overflow: auto;}#sk-container-id-6 input.sk-toggleable__control:checked~label.sk-toggleable__label-arrow:before {content: \"▾\";}#sk-container-id-6 div.sk-estimator input.sk-toggleable__control:checked~label.sk-toggleable__label {background-color: #d4ebff;}#sk-container-id-6 div.sk-label input.sk-toggleable__control:checked~label.sk-toggleable__label {background-color: #d4ebff;}#sk-container-id-6 input.sk-hidden--visually {border: 0;clip: rect(1px 1px 1px 1px);clip: rect(1px, 1px, 1px, 1px);height: 1px;margin: -1px;overflow: hidden;padding: 0;position: absolute;width: 1px;}#sk-container-id-6 div.sk-estimator {font-family: monospace;background-color: #f0f8ff;border: 1px dotted black;border-radius: 0.25em;box-sizing: border-box;margin-bottom: 0.5em;}#sk-container-id-6 div.sk-estimator:hover {background-color: #d4ebff;}#sk-container-id-6 div.sk-parallel-item::after {content: \"\";width: 100%;border-bottom: 1px solid gray;flex-grow: 1;}#sk-container-id-6 div.sk-label:hover label.sk-toggleable__label {background-color: #d4ebff;}#sk-container-id-6 div.sk-serial::before {content: \"\";position: absolute;border-left: 1px solid gray;box-sizing: border-box;top: 0;bottom: 0;left: 50%;z-index: 0;}#sk-container-id-6 div.sk-serial {display: flex;flex-direction: column;align-items: center;background-color: white;padding-right: 0.2em;padding-left: 0.2em;position: relative;}#sk-container-id-6 div.sk-item {position: relative;z-index: 1;}#sk-container-id-6 div.sk-parallel {display: flex;align-items: stretch;justify-content: center;background-color: white;position: relative;}#sk-container-id-6 div.sk-item::before, #sk-container-id-6 div.sk-parallel-item::before {content: \"\";position: absolute;border-left: 1px solid gray;box-sizing: border-box;top: 0;bottom: 0;left: 50%;z-index: -1;}#sk-container-id-6 div.sk-parallel-item {display: flex;flex-direction: column;z-index: 1;position: relative;background-color: white;}#sk-container-id-6 div.sk-parallel-item:first-child::after {align-self: flex-end;width: 50%;}#sk-container-id-6 div.sk-parallel-item:last-child::after {align-self: flex-start;width: 50%;}#sk-container-id-6 div.sk-parallel-item:only-child::after {width: 0;}#sk-container-id-6 div.sk-dashed-wrapped {border: 1px dashed gray;margin: 0 0.4em 0.5em 0.4em;box-sizing: border-box;padding-bottom: 0.4em;background-color: white;}#sk-container-id-6 div.sk-label label {font-family: monospace;font-weight: bold;display: inline-block;line-height: 1.2em;}#sk-container-id-6 div.sk-label-container {text-align: center;}#sk-container-id-6 div.sk-container {/* jupyter's `normalize.less` sets `[hidden] { display: none; }` but bootstrap.min.css set `[hidden] { display: none !important; }` so we also need the `!important` here to be able to override the default hidden behavior on the sphinx rendered scikit-learn.org. See: https://github.com/scikit-learn/scikit-learn/issues/21755 */display: inline-block !important;position: relative;}#sk-container-id-6 div.sk-text-repr-fallback {display: none;}</style><div id=\"sk-container-id-6\" class=\"sk-top-container\"><div class=\"sk-text-repr-fallback\"><pre>DecisionTreeRegressor(random_state=42)</pre><b>In a Jupyter environment, please rerun this cell to show the HTML representation or trust the notebook. <br />On GitHub, the HTML representation is unable to render, please try loading this page with nbviewer.org.</b></div><div class=\"sk-container\" hidden><div class=\"sk-item\"><div class=\"sk-estimator sk-toggleable\"><input class=\"sk-toggleable__control sk-hidden--visually\" id=\"sk-estimator-id-6\" type=\"checkbox\" checked><label for=\"sk-estimator-id-6\" class=\"sk-toggleable__label sk-toggleable__label-arrow\">DecisionTreeRegressor</label><div class=\"sk-toggleable__content\"><pre>DecisionTreeRegressor(random_state=42)</pre></div></div></div></div></div>"
            ]
          },
          "metadata": {},
          "execution_count": 71
        }
      ]
    },
    {
      "cell_type": "code",
      "source": [
        "y3 = model3.predict(X)"
      ],
      "metadata": {
        "id": "-57oot5COCkP"
      },
      "execution_count": 72,
      "outputs": []
    },
    {
      "cell_type": "code",
      "source": [
        "y3"
      ],
      "metadata": {
        "id": "cfKKxoCMQeQM",
        "outputId": "dbbb3631-62ed-46aa-a15c-2c9aff657366",
        "colab": {
          "base_uri": "https://localhost:8080/"
        }
      },
      "execution_count": 73,
      "outputs": [
        {
          "output_type": "execute_result",
          "data": {
            "text/plain": [
              "array([5., 0., 4., ..., 4., 5., 6.])"
            ]
          },
          "metadata": {},
          "execution_count": 73
        }
      ]
    },
    {
      "cell_type": "code",
      "source": [
        "(y3==Y).sum(axis=-1)/len(X)"
      ],
      "metadata": {
        "id": "9eQ2XM1vON_n",
        "outputId": "9896bffb-772e-49bf-81d8-20618ad77ee9",
        "colab": {
          "base_uri": "https://localhost:8080/"
        }
      },
      "execution_count": 74,
      "outputs": [
        {
          "output_type": "execute_result",
          "data": {
            "text/plain": [
              "1.0"
            ]
          },
          "metadata": {},
          "execution_count": 74
        }
      ]
    },
    {
      "cell_type": "code",
      "source": [
        "from sklearn import tree\n",
        "import matplotlib.pyplot as plt\n",
        "\n",
        "plt.figure(figsize=(20,10))\n",
        "tree.plot_tree(model3, filled=True, feature_names=[str(_) for _ in range(28*28)], max_depth=3)\n",
        "plt.show()"
      ],
      "metadata": {
        "id": "s7u4IPtHOO45",
        "outputId": "0f520e25-e293-46b6-fb50-479818f99a1b",
        "colab": {
          "base_uri": "https://localhost:8080/",
          "height": 807
        }
      },
      "execution_count": 77,
      "outputs": [
        {
          "output_type": "display_data",
          "data": {
            "text/plain": [
              "<Figure size 2000x1000 with 1 Axes>"
            ],
            "image/png": "[encoded data removed]"
          },
          "metadata": {}
        }
      ]
    },
    {
      "cell_type": "code",
      "source": [],
      "metadata": {
        "id": "N1uCAHaiO9Oz",
        "outputId": "dd34e88e-2d3a-49f0-a125-c0d703af5fc7",
        "colab": {
          "base_uri": "https://localhost:8080/"
        }
      },
      "execution_count": 55,
      "outputs": [
        {
          "output_type": "execute_result",
          "data": {
            "text/plain": [
              "['0',\n",
              " '1',\n",
              " '2',\n",
              " '3',\n",
              " '4',\n",
              " '5',\n",
              " '6',\n",
              " '7',\n",
              " '8',\n",
              " '9',\n",
              " '10',\n",
              " '11',\n",
              " '12',\n",
              " '13',\n",
              " '14',\n",
              " '15',\n",
              " '16',\n",
              " '17',\n",
              " '18',\n",
              " '19',\n",
              " '20',\n",
              " '21',\n",
              " '22',\n",
              " '23',\n",
              " '24',\n",
              " '25',\n",
              " '26',\n",
              " '27',\n",
              " '28',\n",
              " '29',\n",
              " '30',\n",
              " '31',\n",
              " '32',\n",
              " '33',\n",
              " '34',\n",
              " '35',\n",
              " '36',\n",
              " '37',\n",
              " '38',\n",
              " '39',\n",
              " '40',\n",
              " '41',\n",
              " '42',\n",
              " '43',\n",
              " '44',\n",
              " '45',\n",
              " '46',\n",
              " '47',\n",
              " '48',\n",
              " '49',\n",
              " '50',\n",
              " '51',\n",
              " '52',\n",
              " '53',\n",
              " '54',\n",
              " '55',\n",
              " '56',\n",
              " '57',\n",
              " '58',\n",
              " '59',\n",
              " '60',\n",
              " '61',\n",
              " '62',\n",
              " '63',\n",
              " '64',\n",
              " '65',\n",
              " '66',\n",
              " '67',\n",
              " '68',\n",
              " '69',\n",
              " '70',\n",
              " '71',\n",
              " '72',\n",
              " '73',\n",
              " '74',\n",
              " '75',\n",
              " '76',\n",
              " '77',\n",
              " '78',\n",
              " '79',\n",
              " '80',\n",
              " '81',\n",
              " '82',\n",
              " '83',\n",
              " '84',\n",
              " '85',\n",
              " '86',\n",
              " '87',\n",
              " '88',\n",
              " '89',\n",
              " '90',\n",
              " '91',\n",
              " '92',\n",
              " '93',\n",
              " '94',\n",
              " '95',\n",
              " '96',\n",
              " '97',\n",
              " '98',\n",
              " '99',\n",
              " '100',\n",
              " '101',\n",
              " '102',\n",
              " '103',\n",
              " '104',\n",
              " '105',\n",
              " '106',\n",
              " '107',\n",
              " '108',\n",
              " '109',\n",
              " '110',\n",
              " '111',\n",
              " '112',\n",
              " '113',\n",
              " '114',\n",
              " '115',\n",
              " '116',\n",
              " '117',\n",
              " '118',\n",
              " '119',\n",
              " '120',\n",
              " '121',\n",
              " '122',\n",
              " '123',\n",
              " '124',\n",
              " '125',\n",
              " '126',\n",
              " '127',\n",
              " '128',\n",
              " '129',\n",
              " '130',\n",
              " '131',\n",
              " '132',\n",
              " '133',\n",
              " '134',\n",
              " '135',\n",
              " '136',\n",
              " '137',\n",
              " '138',\n",
              " '139',\n",
              " '140',\n",
              " '141',\n",
              " '142',\n",
              " '143',\n",
              " '144',\n",
              " '145',\n",
              " '146',\n",
              " '147',\n",
              " '148',\n",
              " '149',\n",
              " '150',\n",
              " '151',\n",
              " '152',\n",
              " '153',\n",
              " '154',\n",
              " '155',\n",
              " '156',\n",
              " '157',\n",
              " '158',\n",
              " '159',\n",
              " '160',\n",
              " '161',\n",
              " '162',\n",
              " '163',\n",
              " '164',\n",
              " '165',\n",
              " '166',\n",
              " '167',\n",
              " '168',\n",
              " '169',\n",
              " '170',\n",
              " '171',\n",
              " '172',\n",
              " '173',\n",
              " '174',\n",
              " '175',\n",
              " '176',\n",
              " '177',\n",
              " '178',\n",
              " '179',\n",
              " '180',\n",
              " '181',\n",
              " '182',\n",
              " '183',\n",
              " '184',\n",
              " '185',\n",
              " '186',\n",
              " '187',\n",
              " '188',\n",
              " '189',\n",
              " '190',\n",
              " '191',\n",
              " '192',\n",
              " '193',\n",
              " '194',\n",
              " '195',\n",
              " '196',\n",
              " '197',\n",
              " '198',\n",
              " '199',\n",
              " '200',\n",
              " '201',\n",
              " '202',\n",
              " '203',\n",
              " '204',\n",
              " '205',\n",
              " '206',\n",
              " '207',\n",
              " '208',\n",
              " '209',\n",
              " '210',\n",
              " '211',\n",
              " '212',\n",
              " '213',\n",
              " '214',\n",
              " '215',\n",
              " '216',\n",
              " '217',\n",
              " '218',\n",
              " '219',\n",
              " '220',\n",
              " '221',\n",
              " '222',\n",
              " '223',\n",
              " '224',\n",
              " '225',\n",
              " '226',\n",
              " '227',\n",
              " '228',\n",
              " '229',\n",
              " '230',\n",
              " '231',\n",
              " '232',\n",
              " '233',\n",
              " '234',\n",
              " '235',\n",
              " '236',\n",
              " '237',\n",
              " '238',\n",
              " '239',\n",
              " '240',\n",
              " '241',\n",
              " '242',\n",
              " '243',\n",
              " '244',\n",
              " '245',\n",
              " '246',\n",
              " '247',\n",
              " '248',\n",
              " '249',\n",
              " '250',\n",
              " '251',\n",
              " '252',\n",
              " '253',\n",
              " '254',\n",
              " '255',\n",
              " '256',\n",
              " '257',\n",
              " '258',\n",
              " '259',\n",
              " '260',\n",
              " '261',\n",
              " '262',\n",
              " '263',\n",
              " '264',\n",
              " '265',\n",
              " '266',\n",
              " '267',\n",
              " '268',\n",
              " '269',\n",
              " '270',\n",
              " '271',\n",
              " '272',\n",
              " '273',\n",
              " '274',\n",
              " '275',\n",
              " '276',\n",
              " '277',\n",
              " '278',\n",
              " '279',\n",
              " '280',\n",
              " '281',\n",
              " '282',\n",
              " '283',\n",
              " '284',\n",
              " '285',\n",
              " '286',\n",
              " '287',\n",
              " '288',\n",
              " '289',\n",
              " '290',\n",
              " '291',\n",
              " '292',\n",
              " '293',\n",
              " '294',\n",
              " '295',\n",
              " '296',\n",
              " '297',\n",
              " '298',\n",
              " '299',\n",
              " '300',\n",
              " '301',\n",
              " '302',\n",
              " '303',\n",
              " '304',\n",
              " '305',\n",
              " '306',\n",
              " '307',\n",
              " '308',\n",
              " '309',\n",
              " '310',\n",
              " '311',\n",
              " '312',\n",
              " '313',\n",
              " '314',\n",
              " '315',\n",
              " '316',\n",
              " '317',\n",
              " '318',\n",
              " '319',\n",
              " '320',\n",
              " '321',\n",
              " '322',\n",
              " '323',\n",
              " '324',\n",
              " '325',\n",
              " '326',\n",
              " '327',\n",
              " '328',\n",
              " '329',\n",
              " '330',\n",
              " '331',\n",
              " '332',\n",
              " '333',\n",
              " '334',\n",
              " '335',\n",
              " '336',\n",
              " '337',\n",
              " '338',\n",
              " '339',\n",
              " '340',\n",
              " '341',\n",
              " '342',\n",
              " '343',\n",
              " '344',\n",
              " '345',\n",
              " '346',\n",
              " '347',\n",
              " '348',\n",
              " '349',\n",
              " '350',\n",
              " '351',\n",
              " '352',\n",
              " '353',\n",
              " '354',\n",
              " '355',\n",
              " '356',\n",
              " '357',\n",
              " '358',\n",
              " '359',\n",
              " '360',\n",
              " '361',\n",
              " '362',\n",
              " '363',\n",
              " '364',\n",
              " '365',\n",
              " '366',\n",
              " '367',\n",
              " '368',\n",
              " '369',\n",
              " '370',\n",
              " '371',\n",
              " '372',\n",
              " '373',\n",
              " '374',\n",
              " '375',\n",
              " '376',\n",
              " '377',\n",
              " '378',\n",
              " '379',\n",
              " '380',\n",
              " '381',\n",
              " '382',\n",
              " '383',\n",
              " '384',\n",
              " '385',\n",
              " '386',\n",
              " '387',\n",
              " '388',\n",
              " '389',\n",
              " '390',\n",
              " '391',\n",
              " '392',\n",
              " '393',\n",
              " '394',\n",
              " '395',\n",
              " '396',\n",
              " '397',\n",
              " '398',\n",
              " '399',\n",
              " '400',\n",
              " '401',\n",
              " '402',\n",
              " '403',\n",
              " '404',\n",
              " '405',\n",
              " '406',\n",
              " '407',\n",
              " '408',\n",
              " '409',\n",
              " '410',\n",
              " '411',\n",
              " '412',\n",
              " '413',\n",
              " '414',\n",
              " '415',\n",
              " '416',\n",
              " '417',\n",
              " '418',\n",
              " '419',\n",
              " '420',\n",
              " '421',\n",
              " '422',\n",
              " '423',\n",
              " '424',\n",
              " '425',\n",
              " '426',\n",
              " '427',\n",
              " '428',\n",
              " '429',\n",
              " '430',\n",
              " '431',\n",
              " '432',\n",
              " '433',\n",
              " '434',\n",
              " '435',\n",
              " '436',\n",
              " '437',\n",
              " '438',\n",
              " '439',\n",
              " '440',\n",
              " '441',\n",
              " '442',\n",
              " '443',\n",
              " '444',\n",
              " '445',\n",
              " '446',\n",
              " '447',\n",
              " '448',\n",
              " '449',\n",
              " '450',\n",
              " '451',\n",
              " '452',\n",
              " '453',\n",
              " '454',\n",
              " '455',\n",
              " '456',\n",
              " '457',\n",
              " '458',\n",
              " '459',\n",
              " '460',\n",
              " '461',\n",
              " '462',\n",
              " '463',\n",
              " '464',\n",
              " '465',\n",
              " '466',\n",
              " '467',\n",
              " '468',\n",
              " '469',\n",
              " '470',\n",
              " '471',\n",
              " '472',\n",
              " '473',\n",
              " '474',\n",
              " '475',\n",
              " '476',\n",
              " '477',\n",
              " '478',\n",
              " '479',\n",
              " '480',\n",
              " '481',\n",
              " '482',\n",
              " '483',\n",
              " '484',\n",
              " '485',\n",
              " '486',\n",
              " '487',\n",
              " '488',\n",
              " '489',\n",
              " '490',\n",
              " '491',\n",
              " '492',\n",
              " '493',\n",
              " '494',\n",
              " '495',\n",
              " '496',\n",
              " '497',\n",
              " '498',\n",
              " '499',\n",
              " '500',\n",
              " '501',\n",
              " '502',\n",
              " '503',\n",
              " '504',\n",
              " '505',\n",
              " '506',\n",
              " '507',\n",
              " '508',\n",
              " '509',\n",
              " '510',\n",
              " '511',\n",
              " '512',\n",
              " '513',\n",
              " '514',\n",
              " '515',\n",
              " '516',\n",
              " '517',\n",
              " '518',\n",
              " '519',\n",
              " '520',\n",
              " '521',\n",
              " '522',\n",
              " '523',\n",
              " '524',\n",
              " '525',\n",
              " '526',\n",
              " '527',\n",
              " '528',\n",
              " '529',\n",
              " '530',\n",
              " '531',\n",
              " '532',\n",
              " '533',\n",
              " '534',\n",
              " '535',\n",
              " '536',\n",
              " '537',\n",
              " '538',\n",
              " '539',\n",
              " '540',\n",
              " '541',\n",
              " '542',\n",
              " '543',\n",
              " '544',\n",
              " '545',\n",
              " '546',\n",
              " '547',\n",
              " '548',\n",
              " '549',\n",
              " '550',\n",
              " '551',\n",
              " '552',\n",
              " '553',\n",
              " '554',\n",
              " '555',\n",
              " '556',\n",
              " '557',\n",
              " '558',\n",
              " '559',\n",
              " '560',\n",
              " '561',\n",
              " '562',\n",
              " '563',\n",
              " '564',\n",
              " '565',\n",
              " '566',\n",
              " '567',\n",
              " '568',\n",
              " '569',\n",
              " '570',\n",
              " '571',\n",
              " '572',\n",
              " '573',\n",
              " '574',\n",
              " '575',\n",
              " '576',\n",
              " '577',\n",
              " '578',\n",
              " '579',\n",
              " '580',\n",
              " '581',\n",
              " '582',\n",
              " '583',\n",
              " '584',\n",
              " '585',\n",
              " '586',\n",
              " '587',\n",
              " '588',\n",
              " '589',\n",
              " '590',\n",
              " '591',\n",
              " '592',\n",
              " '593',\n",
              " '594',\n",
              " '595',\n",
              " '596',\n",
              " '597',\n",
              " '598',\n",
              " '599',\n",
              " '600',\n",
              " '601',\n",
              " '602',\n",
              " '603',\n",
              " '604',\n",
              " '605',\n",
              " '606',\n",
              " '607',\n",
              " '608',\n",
              " '609',\n",
              " '610',\n",
              " '611',\n",
              " '612',\n",
              " '613',\n",
              " '614',\n",
              " '615',\n",
              " '616',\n",
              " '617',\n",
              " '618',\n",
              " '619',\n",
              " '620',\n",
              " '621',\n",
              " '622',\n",
              " '623',\n",
              " '624',\n",
              " '625',\n",
              " '626',\n",
              " '627',\n",
              " '628',\n",
              " '629',\n",
              " '630',\n",
              " '631',\n",
              " '632',\n",
              " '633',\n",
              " '634',\n",
              " '635',\n",
              " '636',\n",
              " '637',\n",
              " '638',\n",
              " '639',\n",
              " '640',\n",
              " '641',\n",
              " '642',\n",
              " '643',\n",
              " '644',\n",
              " '645',\n",
              " '646',\n",
              " '647',\n",
              " '648',\n",
              " '649',\n",
              " '650',\n",
              " '651',\n",
              " '652',\n",
              " '653',\n",
              " '654',\n",
              " '655',\n",
              " '656',\n",
              " '657',\n",
              " '658',\n",
              " '659',\n",
              " '660',\n",
              " '661',\n",
              " '662',\n",
              " '663',\n",
              " '664',\n",
              " '665',\n",
              " '666',\n",
              " '667',\n",
              " '668',\n",
              " '669',\n",
              " '670',\n",
              " '671',\n",
              " '672',\n",
              " '673',\n",
              " '674',\n",
              " '675',\n",
              " '676',\n",
              " '677',\n",
              " '678',\n",
              " '679',\n",
              " '680',\n",
              " '681',\n",
              " '682',\n",
              " '683',\n",
              " '684',\n",
              " '685',\n",
              " '686',\n",
              " '687',\n",
              " '688',\n",
              " '689',\n",
              " '690',\n",
              " '691',\n",
              " '692',\n",
              " '693',\n",
              " '694',\n",
              " '695',\n",
              " '696',\n",
              " '697',\n",
              " '698',\n",
              " '699',\n",
              " '700',\n",
              " '701',\n",
              " '702',\n",
              " '703',\n",
              " '704',\n",
              " '705',\n",
              " '706',\n",
              " '707',\n",
              " '708',\n",
              " '709',\n",
              " '710',\n",
              " '711',\n",
              " '712',\n",
              " '713',\n",
              " '714',\n",
              " '715',\n",
              " '716',\n",
              " '717',\n",
              " '718',\n",
              " '719',\n",
              " '720',\n",
              " '721',\n",
              " '722',\n",
              " '723',\n",
              " '724',\n",
              " '725',\n",
              " '726',\n",
              " '727',\n",
              " '728',\n",
              " '729',\n",
              " '730',\n",
              " '731',\n",
              " '732',\n",
              " '733',\n",
              " '734',\n",
              " '735',\n",
              " '736',\n",
              " '737',\n",
              " '738',\n",
              " '739',\n",
              " '740',\n",
              " '741',\n",
              " '742',\n",
              " '743',\n",
              " '744',\n",
              " '745',\n",
              " '746',\n",
              " '747',\n",
              " '748',\n",
              " '749',\n",
              " '750',\n",
              " '751',\n",
              " '752',\n",
              " '753',\n",
              " '754',\n",
              " '755',\n",
              " '756',\n",
              " '757',\n",
              " '758',\n",
              " '759',\n",
              " '760',\n",
              " '761',\n",
              " '762',\n",
              " '763',\n",
              " '764',\n",
              " '765',\n",
              " '766',\n",
              " '767',\n",
              " '768',\n",
              " '769',\n",
              " '770',\n",
              " '771',\n",
              " '772',\n",
              " '773',\n",
              " '774',\n",
              " '775',\n",
              " '776',\n",
              " '777',\n",
              " '778',\n",
              " '779',\n",
              " '780',\n",
              " '781',\n",
              " '782',\n",
              " '783']"
            ]
          },
          "metadata": {},
          "execution_count": 55
        }
      ]
    },
    {
      "cell_type": "code",
      "source": [],
      "metadata": {
        "id": "rdKJp2FLPGkb"
      },
      "execution_count": null,
      "outputs": []
    }
  ]
}