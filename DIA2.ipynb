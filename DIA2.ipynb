{
  "nbformat": 4,
  "nbformat_minor": 0,
  "metadata": {
    "colab": {
      "provenance": [],
      "authorship_tag": "ABX9TyM/sihvO7pvv33Qskoq0ZJn",
      "include_colab_link": true
    },
    "kernelspec": {
      "name": "python3",
      "display_name": "Python 3"
    },
    "language_info": {
      "name": "python"
    }
  },
  "cells": [
    {
      "cell_type": "markdown",
      "metadata": {
        "id": "view-in-github",
        "colab_type": "text"
      },
      "source": [
        "<a href=\"https://colab.research.google.com/github/mfilipak/FILIPAK-DATA-SCIENCE/blob/main/DIA2.ipynb\" target=\"_parent\"><img src=\"https://colab.research.google.com/assets/colab-badge.svg\" alt=\"Open In Colab\"/></a>"
      ]
    },
    {
      "cell_type": "markdown",
      "source": [
        "# Dia 2 - REDES CONVOLUCIONAIS DE CLASSIFICAÇÃO (Testando vários classificadores)"
      ],
      "metadata": {
        "id": "HvScBrZm82El"
      }
    },
    {
      "cell_type": "code",
      "execution_count": 1,
      "metadata": {
        "id": "jqBxJvBk0wx0",
        "colab": {
          "base_uri": "https://localhost:8080/"
        },
        "outputId": "5c8c76d9-7033-42b5-efd3-586faa391d25"
      },
      "outputs": [
        {
          "output_type": "execute_result",
          "data": {
            "text/plain": [
              "((70000, 784), (70000,))"
            ]
          },
          "metadata": {},
          "execution_count": 1
        }
      ],
      "source": [
        "from sklearn.datasets import fetch_openml\n",
        "\n",
        "# Carregar os dados MNIST\n",
        "mnist = fetch_openml('mnist_784', version=1, parser=\"pandas\")\n",
        "X, y = mnist[\"data\"], mnist[\"target\"]\n",
        "y = y.astype(int)\n",
        "\n",
        "#Convertendo para uma matriz numpy ao invés de dataframe.\n",
        "X = X.to_numpy()\n",
        "Y = y.to_numpy()\n",
        "X.shape, Y.shape"
      ]
    },
    {
      "cell_type": "code",
      "source": [
        "import random\n",
        "import matplotlib.pyplot as plt\n",
        "j=1\n",
        "plt.figure(figsize=(10,10))\n",
        "for i in random.sample(range(len(X)), 5):\n",
        "  plt.subplot(1,5,j)\n",
        "  plt.title(f\"POS:{i}\\nLABEL: {Y[i]}\")\n",
        "  plt.imshow(X[i].reshape((28,28)), cmap=\"gray\")\n",
        "  j+=1\n",
        "plt.show()"
      ],
      "metadata": {
        "colab": {
          "base_uri": "https://localhost:8080/",
          "height": 237
        },
        "id": "kW-b4F674SLa",
        "outputId": "024c9836-6f8b-45e0-b487-0a1e657c3ed5"
      },
      "execution_count": 3,
      "outputs": [
        {
          "output_type": "display_data",
          "data": {
            "text/plain": [
              "<Figure size 1000x1000 with 5 Axes>"
            ],
            "image/png": "[encoded data removed]"
          },
          "metadata": {}
        }
      ]
    },
    {
      "cell_type": "markdown",
      "source": [
        "# Experimento 1 - Rede neural densa"
      ],
      "metadata": {
        "id": "bA1CORt67Rdi"
      }
    },
    {
      "cell_type": "code",
      "source": [
        "import numpy as np\n",
        "Y2 = np.array([np.eye(10)[_] for _ in Y])\n",
        "Y2[0]"
      ],
      "metadata": {
        "colab": {
          "base_uri": "https://localhost:8080/"
        },
        "id": "zkisS2puDrHZ",
        "outputId": "6a74b864-3991-4c51-cf26-36e50c7584e6"
      },
      "execution_count": 4,
      "outputs": [
        {
          "output_type": "execute_result",
          "data": {
            "text/plain": [
              "array([0., 0., 0., 0., 0., 1., 0., 0., 0., 0.])"
            ]
          },
          "metadata": {},
          "execution_count": 4
        }
      ]
    },
    {
      "cell_type": "code",
      "source": [
        "from sklearn.model_selection import train_test_split\n",
        "X_train, X_test, Y_train, Y_test = train_test_split(X, Y2, test_size=0.2, random_state=42)\n"
      ],
      "metadata": {
        "id": "fQCUG8For11D"
      },
      "execution_count": 5,
      "outputs": []
    },
    {
      "cell_type": "code",
      "source": [
        "X_train.shape, X_test.shape, Y_train.shape, Y_test.shape"
      ],
      "metadata": {
        "colab": {
          "base_uri": "https://localhost:8080/"
        },
        "id": "3EjR2I9fsTYx",
        "outputId": "ab4c904d-3fab-4a4d-b2e9-cf1e785fa3c8"
      },
      "execution_count": 6,
      "outputs": [
        {
          "output_type": "execute_result",
          "data": {
            "text/plain": [
              "((56000, 784), (14000, 784), (56000, 10), (14000, 10))"
            ]
          },
          "metadata": {},
          "execution_count": 6
        }
      ]
    },
    {
      "cell_type": "code",
      "source": [
        "import tensorflow as tf\n",
        "from tensorflow.keras import layers, models\n",
        "\n",
        "# Define o modelo sequencial\n",
        "model = models.Sequential()\n",
        "\n",
        "# Adiciona a camada de entrada e a primeira camada oculta\n",
        "model.add(layers.Dense(64, activation='relu', input_shape=(784,)))\n",
        "\n",
        "# Adiciona a camada de saída\n",
        "model.add(layers.Dense(10, activation='softmax'))\n",
        "\n",
        "# Compila o modelo\n",
        "model.compile(optimizer='adam', loss='categorical_crossentropy', metrics=['accuracy'])\n",
        "\n",
        "# Resumo do modelo\n",
        "model.summary()"
      ],
      "metadata": {
        "id": "b1YGXkk61x_Z",
        "colab": {
          "base_uri": "https://localhost:8080/"
        },
        "outputId": "d541cad7-3c99-4dd0-ed4b-6a63eb1ec805"
      },
      "execution_count": 13,
      "outputs": [
        {
          "output_type": "stream",
          "name": "stdout",
          "text": [
            "Model: \"sequential_2\"\n",
            "_________________________________________________________________\n",
            " Layer (type)                Output Shape              Param #   \n",
            "=================================================================\n",
            " dense_4 (Dense)             (None, 64)                50240     \n",
            "                                                                 \n",
            " dense_5 (Dense)             (None, 10)                650       \n",
            "                                                                 \n",
            "=================================================================\n",
            "Total params: 50890 (198.79 KB)\n",
            "Trainable params: 50890 (198.79 KB)\n",
            "Non-trainable params: 0 (0.00 Byte)\n",
            "_________________________________________________________________\n"
          ]
        }
      ]
    },
    {
      "cell_type": "code",
      "source": [
        "# Treina o modelo\n",
        "history = model.fit(X_train, Y_train, epochs=30, validation_data=(X_test, Y_test))"
      ],
      "metadata": {
        "id": "aUDTCT4PTSYN",
        "outputId": "613e1357-6e4b-4245-d478-9e152b04b3ef",
        "colab": {
          "base_uri": "https://localhost:8080/"
        }
      },
      "execution_count": 14,
      "outputs": [
        {
          "output_type": "stream",
          "name": "stdout",
          "text": [
            "Epoch 1/30\n",
            "1750/1750 [==============================] - 6s 3ms/step - loss: 2.6186 - accuracy: 0.7782 - val_loss: 0.7142 - val_accuracy: 0.8238\n",
            "Epoch 2/30\n",
            "1750/1750 [==============================] - 4s 3ms/step - loss: 0.5027 - accuracy: 0.8727 - val_loss: 0.4938 - val_accuracy: 0.8812\n",
            "Epoch 3/30\n",
            "1750/1750 [==============================] - 6s 3ms/step - loss: 0.3621 - accuracy: 0.9043 - val_loss: 0.3667 - val_accuracy: 0.9158\n",
            "Epoch 4/30\n",
            "1750/1750 [==============================] - 4s 2ms/step - loss: 0.2870 - accuracy: 0.9233 - val_loss: 0.2976 - val_accuracy: 0.9261\n",
            "Epoch 5/30\n",
            "1750/1750 [==============================] - 5s 3ms/step - loss: 0.2561 - accuracy: 0.9311 - val_loss: 0.3058 - val_accuracy: 0.9233\n",
            "Epoch 6/30\n",
            "1750/1750 [==============================] - 5s 3ms/step - loss: 0.2389 - accuracy: 0.9343 - val_loss: 0.2956 - val_accuracy: 0.9304\n",
            "Epoch 7/30\n",
            "1750/1750 [==============================] - 7s 4ms/step - loss: 0.2219 - accuracy: 0.9383 - val_loss: 0.3134 - val_accuracy: 0.9240\n",
            "Epoch 8/30\n",
            "1750/1750 [==============================] - 5s 3ms/step - loss: 0.2278 - accuracy: 0.9399 - val_loss: 0.2951 - val_accuracy: 0.9318\n",
            "Epoch 9/30\n",
            "1750/1750 [==============================] - 4s 3ms/step - loss: 0.2058 - accuracy: 0.9450 - val_loss: 0.2774 - val_accuracy: 0.9386\n",
            "Epoch 10/30\n",
            "1750/1750 [==============================] - 5s 3ms/step - loss: 0.2009 - accuracy: 0.9464 - val_loss: 0.2927 - val_accuracy: 0.9418\n",
            "Epoch 11/30\n",
            "1750/1750 [==============================] - 4s 3ms/step - loss: 0.2015 - accuracy: 0.9461 - val_loss: 0.2996 - val_accuracy: 0.9309\n",
            "Epoch 12/30\n",
            "1750/1750 [==============================] - 4s 2ms/step - loss: 0.1901 - accuracy: 0.9485 - val_loss: 0.2753 - val_accuracy: 0.9380\n",
            "Epoch 13/30\n",
            "1750/1750 [==============================] - 5s 3ms/step - loss: 0.1872 - accuracy: 0.9499 - val_loss: 0.2757 - val_accuracy: 0.9364\n",
            "Epoch 14/30\n",
            "1750/1750 [==============================] - 5s 3ms/step - loss: 0.1848 - accuracy: 0.9516 - val_loss: 0.3039 - val_accuracy: 0.9351\n",
            "Epoch 15/30\n",
            "1750/1750 [==============================] - 5s 3ms/step - loss: 0.1899 - accuracy: 0.9504 - val_loss: 0.2860 - val_accuracy: 0.9422\n",
            "Epoch 16/30\n",
            "1750/1750 [==============================] - 5s 3ms/step - loss: 0.1805 - accuracy: 0.9530 - val_loss: 0.2732 - val_accuracy: 0.9419\n",
            "Epoch 17/30\n",
            "1750/1750 [==============================] - 4s 3ms/step - loss: 0.1767 - accuracy: 0.9539 - val_loss: 0.2799 - val_accuracy: 0.9391\n",
            "Epoch 18/30\n",
            "1750/1750 [==============================] - 5s 3ms/step - loss: 0.1768 - accuracy: 0.9530 - val_loss: 0.2828 - val_accuracy: 0.9421\n",
            "Epoch 19/30\n",
            "1750/1750 [==============================] - 4s 2ms/step - loss: 0.1658 - accuracy: 0.9557 - val_loss: 0.3177 - val_accuracy: 0.9367\n",
            "Epoch 20/30\n",
            "1750/1750 [==============================] - 4s 3ms/step - loss: 0.1704 - accuracy: 0.9548 - val_loss: 0.3418 - val_accuracy: 0.9329\n",
            "Epoch 21/30\n",
            "1750/1750 [==============================] - 6s 3ms/step - loss: 0.1687 - accuracy: 0.9546 - val_loss: 0.3669 - val_accuracy: 0.9409\n",
            "Epoch 22/30\n",
            "1750/1750 [==============================] - 4s 2ms/step - loss: 0.1677 - accuracy: 0.9555 - val_loss: 0.3369 - val_accuracy: 0.9362\n",
            "Epoch 23/30\n",
            "1750/1750 [==============================] - 5s 3ms/step - loss: 0.1662 - accuracy: 0.9561 - val_loss: 0.3412 - val_accuracy: 0.9401\n",
            "Epoch 24/30\n",
            "1750/1750 [==============================] - 5s 3ms/step - loss: 0.1623 - accuracy: 0.9569 - val_loss: 0.3443 - val_accuracy: 0.9381\n",
            "Epoch 25/30\n",
            "1750/1750 [==============================] - 4s 2ms/step - loss: 0.1637 - accuracy: 0.9577 - val_loss: 0.3824 - val_accuracy: 0.9389\n",
            "Epoch 26/30\n",
            "1750/1750 [==============================] - 5s 3ms/step - loss: 0.1584 - accuracy: 0.9586 - val_loss: 0.3382 - val_accuracy: 0.9406\n",
            "Epoch 27/30\n",
            "1750/1750 [==============================] - 4s 2ms/step - loss: 0.1626 - accuracy: 0.9577 - val_loss: 0.3736 - val_accuracy: 0.9322\n",
            "Epoch 28/30\n",
            "1750/1750 [==============================] - 6s 3ms/step - loss: 0.1604 - accuracy: 0.9578 - val_loss: 0.3694 - val_accuracy: 0.9364\n",
            "Epoch 29/30\n",
            "1750/1750 [==============================] - 4s 2ms/step - loss: 0.1597 - accuracy: 0.9586 - val_loss: 0.3479 - val_accuracy: 0.9406\n",
            "Epoch 30/30\n",
            "1750/1750 [==============================] - 4s 3ms/step - loss: 0.1584 - accuracy: 0.9590 - val_loss: 0.3478 - val_accuracy: 0.9397\n"
          ]
        }
      ]
    },
    {
      "cell_type": "code",
      "source": [
        "plt.plot(history.history[\"loss\"])\n",
        "plt.plot(history.history[\"val_loss\"])\n",
        "plt.yscale(\"log\")\n"
      ],
      "metadata": {
        "id": "HZ31m2ecUIvF",
        "outputId": "320164ed-046b-4306-afba-46e2ffbfe463",
        "colab": {
          "base_uri": "https://localhost:8080/",
          "height": 430
        }
      },
      "execution_count": 15,
      "outputs": [
        {
          "output_type": "display_data",
          "data": {
            "text/plain": [
              "<Figure size 640x480 with 1 Axes>"
            ],
            "image/png": "[encoded data removed]"
          },
          "metadata": {}
        }
      ]
    },
    {
      "cell_type": "code",
      "source": [],
      "metadata": {
        "id": "8eEdqf-fUi1z"
      },
      "execution_count": null,
      "outputs": []
    }
  ]
}