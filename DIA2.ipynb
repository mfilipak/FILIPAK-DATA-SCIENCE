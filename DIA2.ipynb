{
  "nbformat": 4,
  "nbformat_minor": 0,
  "metadata": {
    "colab": {
      "provenance": [],
      "authorship_tag": "ABX9TyOpA3INb2Fe1oGjxrW+F+1N",
      "include_colab_link": true
    },
    "kernelspec": {
      "name": "python3",
      "display_name": "Python 3"
    },
    "language_info": {
      "name": "python"
    }
  },
  "cells": [
    {
      "cell_type": "markdown",
      "metadata": {
        "id": "view-in-github",
        "colab_type": "text"
      },
      "source": [
        "<a href=\"https://colab.research.google.com/github/mfilipak/FILIPAK-DATA-SCIENCE/blob/main/DIA2.ipynb\" target=\"_parent\"><img src=\"https://colab.research.google.com/assets/colab-badge.svg\" alt=\"Open In Colab\"/></a>"
      ]
    },
    {
      "cell_type": "markdown",
      "source": [
        "# Dia 2 - REDES CONVOLUCIONAIS DE CLASSIFICAÇÃO (Testando vários classificadores)"
      ],
      "metadata": {
        "id": "HvScBrZm82El"
      }
    },
    {
      "cell_type": "code",
      "execution_count": 1,
      "metadata": {
        "id": "jqBxJvBk0wx0",
        "colab": {
          "base_uri": "https://localhost:8080/"
        },
        "outputId": "02ea04f4-73e8-49ba-d09f-dc8ec652c8bb"
      },
      "outputs": [
        {
          "output_type": "execute_result",
          "data": {
            "text/plain": [
              "((70000, 784), (70000,))"
            ]
          },
          "metadata": {},
          "execution_count": 1
        }
      ],
      "source": [
        "from sklearn.datasets import fetch_openml\n",
        "\n",
        "# Carregar os dados MNIST\n",
        "mnist = fetch_openml('mnist_784', version=1, parser=\"pandas\")\n",
        "X, y = mnist[\"data\"], mnist[\"target\"]\n",
        "y = y.astype(int)\n",
        "\n",
        "#Convertendo para uma matriz numpy ao invés de dataframe.\n",
        "X = X.to_numpy()\n",
        "Y = y.to_numpy()\n",
        "X.shape, Y.shape"
      ]
    },
    {
      "cell_type": "code",
      "source": [
        "import random\n",
        "import matplotlib.pyplot as plt\n",
        "j=1\n",
        "plt.figure(figsize=(10,10))\n",
        "for i in random.sample(range(len(X)), 5):\n",
        "  plt.subplot(1,5,j)\n",
        "  plt.title(f\"POS:{i}\\nLABEL: {Y[i]}\")\n",
        "  plt.imshow(X[i].reshape((28,28)), cmap=\"gray\")\n",
        "  j+=1\n",
        "plt.show()"
      ],
      "metadata": {
        "colab": {
          "base_uri": "https://localhost:8080/",
          "height": 237
        },
        "id": "kW-b4F674SLa",
        "outputId": "bc784736-5e65-4b8f-9617-5aa721b46d48"
      },
      "execution_count": 2,
      "outputs": [
        {
          "output_type": "display_data",
          "data": {
            "text/plain": [
              "<Figure size 1000x1000 with 5 Axes>"
            ],
            "image/png": "[encoded data removed]"
          },
          "metadata": {}
        }
      ]
    },
    {
      "cell_type": "markdown",
      "source": [
        "# Experimento 1 - Rede neural densa"
      ],
      "metadata": {
        "id": "bA1CORt67Rdi"
      }
    },
    {
      "cell_type": "code",
      "source": [
        "import numpy as np\n",
        "Y2 = np.array([np.eye(10)[_] for _ in Y])\n",
        "Y2[0]"
      ],
      "metadata": {
        "colab": {
          "base_uri": "https://localhost:8080/"
        },
        "id": "zkisS2puDrHZ",
        "outputId": "b580abf7-79ab-471f-a090-092089ef0711"
      },
      "execution_count": 3,
      "outputs": [
        {
          "output_type": "execute_result",
          "data": {
            "text/plain": [
              "array([0., 0., 0., 0., 0., 1., 0., 0., 0., 0.])"
            ]
          },
          "metadata": {},
          "execution_count": 3
        }
      ]
    },
    {
      "cell_type": "code",
      "source": [
        "from sklearn.model_selection import train_test_split\n",
        "X_train, X_test, Y_train, Y_test = train_test_split(X, Y2, test_size=0.2, random_state=42)\n",
        "X_train = X_train/255\n",
        "X_test = X_test/255"
      ],
      "metadata": {
        "id": "fQCUG8For11D"
      },
      "execution_count": 4,
      "outputs": []
    },
    {
      "cell_type": "code",
      "source": [
        "X_train.shape, X_test.shape, Y_train.shape, Y_test.shape"
      ],
      "metadata": {
        "colab": {
          "base_uri": "https://localhost:8080/"
        },
        "id": "3EjR2I9fsTYx",
        "outputId": "c39fb39a-264f-42b0-957e-c9534731b999"
      },
      "execution_count": 5,
      "outputs": [
        {
          "output_type": "execute_result",
          "data": {
            "text/plain": [
              "((56000, 784), (14000, 784), (56000, 10), (14000, 10))"
            ]
          },
          "metadata": {},
          "execution_count": 5
        }
      ]
    },
    {
      "cell_type": "code",
      "source": [
        "import tensorflow as tf\n",
        "from tensorflow.keras import layers, models\n",
        "\n",
        "# Define o modelo sequencial\n",
        "model = models.Sequential()\n",
        "\n",
        "# Adiciona a camada de entrada e a primeira camada oculta\n",
        "model.add(layers.Dense(64, activation='relu', input_shape=(784,)))\n",
        "\n",
        "# Adiciona a camada de saída\n",
        "model.add(layers.Dense(10, activation='softmax'))\n",
        "\n",
        "# Compila o modelo\n",
        "model.compile(optimizer='adam', loss='categorical_crossentropy', metrics=['accuracy'])\n",
        "\n",
        "# Resumo do modelo\n",
        "model.summary()"
      ],
      "metadata": {
        "id": "b1YGXkk61x_Z",
        "colab": {
          "base_uri": "https://localhost:8080/"
        },
        "outputId": "30d5c6e4-1b1c-4169-8289-d988a54f0f15"
      },
      "execution_count": 6,
      "outputs": [
        {
          "output_type": "stream",
          "name": "stdout",
          "text": [
            "Model: \"sequential\"\n",
            "_________________________________________________________________\n",
            " Layer (type)                Output Shape              Param #   \n",
            "=================================================================\n",
            " dense (Dense)               (None, 64)                50240     \n",
            "                                                                 \n",
            " dense_1 (Dense)             (None, 10)                650       \n",
            "                                                                 \n",
            "=================================================================\n",
            "Total params: 50890 (198.79 KB)\n",
            "Trainable params: 50890 (198.79 KB)\n",
            "Non-trainable params: 0 (0.00 Byte)\n",
            "_________________________________________________________________\n"
          ]
        }
      ]
    },
    {
      "cell_type": "code",
      "source": [
        "history = model.fit(X_train, Y_train, epochs=30, validation_data=(X_test, Y_test))"
      ],
      "metadata": {
        "colab": {
          "base_uri": "https://localhost:8080/"
        },
        "id": "8NjCDwK7Xh0A",
        "outputId": "af8be2ce-78d2-4dac-8793-848eacb876fd"
      },
      "execution_count": 7,
      "outputs": [
        {
          "output_type": "stream",
          "name": "stdout",
          "text": [
            "Epoch 1/30\n",
            "1750/1750 [==============================] - 5s 3ms/step - loss: 0.3055 - accuracy: 0.9152 - val_loss: 0.1780 - val_accuracy: 0.9496\n",
            "Epoch 2/30\n",
            "1750/1750 [==============================] - 5s 3ms/step - loss: 0.1395 - accuracy: 0.9591 - val_loss: 0.1352 - val_accuracy: 0.9610\n",
            "Epoch 3/30\n",
            "1750/1750 [==============================] - 5s 3ms/step - loss: 0.1023 - accuracy: 0.9696 - val_loss: 0.1134 - val_accuracy: 0.9671\n",
            "Epoch 4/30\n",
            "1750/1750 [==============================] - 4s 3ms/step - loss: 0.0818 - accuracy: 0.9760 - val_loss: 0.1058 - val_accuracy: 0.9686\n",
            "Epoch 5/30\n",
            "1750/1750 [==============================] - 5s 3ms/step - loss: 0.0661 - accuracy: 0.9798 - val_loss: 0.0970 - val_accuracy: 0.9711\n",
            "Epoch 6/30\n",
            "1750/1750 [==============================] - 4s 3ms/step - loss: 0.0550 - accuracy: 0.9833 - val_loss: 0.0978 - val_accuracy: 0.9728\n",
            "Epoch 7/30\n",
            "1750/1750 [==============================] - 5s 3ms/step - loss: 0.0469 - accuracy: 0.9856 - val_loss: 0.0958 - val_accuracy: 0.9732\n",
            "Epoch 8/30\n",
            "1750/1750 [==============================] - 4s 3ms/step - loss: 0.0401 - accuracy: 0.9874 - val_loss: 0.0959 - val_accuracy: 0.9728\n",
            "Epoch 9/30\n",
            "1750/1750 [==============================] - 4s 3ms/step - loss: 0.0347 - accuracy: 0.9892 - val_loss: 0.1033 - val_accuracy: 0.9719\n",
            "Epoch 10/30\n",
            "1750/1750 [==============================] - 6s 3ms/step - loss: 0.0293 - accuracy: 0.9910 - val_loss: 0.1009 - val_accuracy: 0.9712\n",
            "Epoch 11/30\n",
            "1750/1750 [==============================] - 4s 3ms/step - loss: 0.0261 - accuracy: 0.9919 - val_loss: 0.0972 - val_accuracy: 0.9741\n",
            "Epoch 12/30\n",
            "1750/1750 [==============================] - 5s 3ms/step - loss: 0.0219 - accuracy: 0.9936 - val_loss: 0.1052 - val_accuracy: 0.9727\n",
            "Epoch 13/30\n",
            "1750/1750 [==============================] - 5s 3ms/step - loss: 0.0204 - accuracy: 0.9938 - val_loss: 0.1077 - val_accuracy: 0.9715\n",
            "Epoch 14/30\n",
            "1750/1750 [==============================] - 4s 3ms/step - loss: 0.0165 - accuracy: 0.9951 - val_loss: 0.1082 - val_accuracy: 0.9729\n",
            "Epoch 15/30\n",
            "1750/1750 [==============================] - 5s 3ms/step - loss: 0.0153 - accuracy: 0.9954 - val_loss: 0.1150 - val_accuracy: 0.9721\n",
            "Epoch 16/30\n",
            "1750/1750 [==============================] - 4s 2ms/step - loss: 0.0129 - accuracy: 0.9964 - val_loss: 0.1141 - val_accuracy: 0.9727\n",
            "Epoch 17/30\n",
            "1750/1750 [==============================] - 4s 2ms/step - loss: 0.0120 - accuracy: 0.9966 - val_loss: 0.1096 - val_accuracy: 0.9741\n",
            "Epoch 18/30\n",
            "1750/1750 [==============================] - 6s 3ms/step - loss: 0.0109 - accuracy: 0.9968 - val_loss: 0.1228 - val_accuracy: 0.9719\n",
            "Epoch 19/30\n",
            "1750/1750 [==============================] - 4s 2ms/step - loss: 0.0096 - accuracy: 0.9971 - val_loss: 0.1291 - val_accuracy: 0.9734\n",
            "Epoch 20/30\n",
            "1750/1750 [==============================] - 6s 3ms/step - loss: 0.0095 - accuracy: 0.9971 - val_loss: 0.1373 - val_accuracy: 0.9704\n",
            "Epoch 21/30\n",
            "1750/1750 [==============================] - 4s 2ms/step - loss: 0.0082 - accuracy: 0.9977 - val_loss: 0.1334 - val_accuracy: 0.9714\n",
            "Epoch 22/30\n",
            "1750/1750 [==============================] - 4s 2ms/step - loss: 0.0076 - accuracy: 0.9976 - val_loss: 0.1266 - val_accuracy: 0.9738\n",
            "Epoch 23/30\n",
            "1750/1750 [==============================] - 5s 3ms/step - loss: 0.0060 - accuracy: 0.9983 - val_loss: 0.1446 - val_accuracy: 0.9729\n",
            "Epoch 24/30\n",
            "1750/1750 [==============================] - 4s 2ms/step - loss: 0.0076 - accuracy: 0.9977 - val_loss: 0.1532 - val_accuracy: 0.9700\n",
            "Epoch 25/30\n",
            "1750/1750 [==============================] - 5s 3ms/step - loss: 0.0044 - accuracy: 0.9989 - val_loss: 0.1401 - val_accuracy: 0.9719\n",
            "Epoch 26/30\n",
            "1750/1750 [==============================] - 5s 3ms/step - loss: 0.0064 - accuracy: 0.9979 - val_loss: 0.1381 - val_accuracy: 0.9743\n",
            "Epoch 27/30\n",
            "1750/1750 [==============================] - 4s 2ms/step - loss: 0.0058 - accuracy: 0.9981 - val_loss: 0.1413 - val_accuracy: 0.9737\n",
            "Epoch 28/30\n",
            "1750/1750 [==============================] - 5s 3ms/step - loss: 0.0036 - accuracy: 0.9992 - val_loss: 0.1625 - val_accuracy: 0.9701\n",
            "Epoch 29/30\n",
            "1750/1750 [==============================] - 4s 2ms/step - loss: 0.0062 - accuracy: 0.9979 - val_loss: 0.1507 - val_accuracy: 0.9739\n",
            "Epoch 30/30\n",
            "1750/1750 [==============================] - 4s 2ms/step - loss: 0.0039 - accuracy: 0.9989 - val_loss: 0.1527 - val_accuracy: 0.9736\n"
          ]
        }
      ]
    },
    {
      "cell_type": "code",
      "source": [
        "plt.plot(history.history[\"loss\"])\n",
        "plt.plot(history.history[\"val_loss\"])\n",
        "plt.yscale(\"log\")\n"
      ],
      "metadata": {
        "colab": {
          "base_uri": "https://localhost:8080/",
          "height": 430
        },
        "id": "HZ31m2ecUIvF",
        "outputId": "194da464-823d-448e-8dcc-b1b56ba2cb12"
      },
      "execution_count": 8,
      "outputs": [
        {
          "output_type": "display_data",
          "data": {
            "text/plain": [
              "<Figure size 640x480 with 1 Axes>"
            ],
            "image/png": "[encoded data removed]"
          },
          "metadata": {}
        }
      ]
    },
    {
      "cell_type": "code",
      "source": [
        "X_train2 = X_train.reshape( (-1,28,28,1) )\n",
        "X_test2 = X_test.reshape( (-1,28,28,1) )\n",
        "X_train2 = np.pad(X_train2,((0,0),(2,2),(2,2),(0,0)))\n",
        "X_test2 = np.pad(X_test2,((0,0),(2,2),(2,2),(0,0)))"
      ],
      "metadata": {
        "id": "P-KbVIySZe_Y"
      },
      "execution_count": 9,
      "outputs": []
    },
    {
      "cell_type": "code",
      "source": [
        "import tensorflow as tf\n",
        "from tensorflow.keras import models, layers\n",
        "\n",
        "model2 = models.Sequential([\n",
        "    # C1: Camada de Convolução\n",
        "    layers.Conv2D(6, kernel_size=(5, 5), activation='relu', input_shape=(32, 32, 1)),\n",
        "    # S2: Camada de Subamostragem\n",
        "    layers.AveragePooling2D(pool_size=(2, 2)),\n",
        "\n",
        "    # C3: Camada de Convolução\n",
        "    layers.Conv2D(16, kernel_size=(5, 5), activation='relu'),\n",
        "    # S4: Camada de Subamostragem\n",
        "    layers.AveragePooling2D(pool_size=(2, 2)),\n",
        "\n",
        "    # C5: Camada de Convolução, atua como uma camada densa pela forma como é aplicada\n",
        "    layers.Conv2D(120, kernel_size=(5, 5), activation='relu'),\n",
        "\n",
        "    # Flatten antes das camadas densas\n",
        "    layers.Flatten(),\n",
        "\n",
        "    # F6: Camada Densa\n",
        "    layers.Dense(84, activation='relu'),\n",
        "\n",
        "    # Camada de Saída\n",
        "    layers.Dense(10, activation='softmax')\n",
        "])\n",
        "\n",
        "# Compila o modelo\n",
        "model2.compile(optimizer='adam',\n",
        "              loss='categorical_crossentropy',\n",
        "              metrics=['accuracy'])\n",
        "\n",
        "# Mostra um resumo do modelo\n",
        "model2.summary()\n"
      ],
      "metadata": {
        "colab": {
          "base_uri": "https://localhost:8080/"
        },
        "id": "8eEdqf-fUi1z",
        "outputId": "fc08ae9b-f161-46d5-9717-2e23a0a117c4"
      },
      "execution_count": 10,
      "outputs": [
        {
          "output_type": "stream",
          "name": "stdout",
          "text": [
            "Model: \"sequential_1\"\n",
            "_________________________________________________________________\n",
            " Layer (type)                Output Shape              Param #   \n",
            "=================================================================\n",
            " conv2d (Conv2D)             (None, 28, 28, 6)         156       \n",
            "                                                                 \n",
            " average_pooling2d (Average  (None, 14, 14, 6)         0         \n",
            " Pooling2D)                                                      \n",
            "                                                                 \n",
            " conv2d_1 (Conv2D)           (None, 10, 10, 16)        2416      \n",
            "                                                                 \n",
            " average_pooling2d_1 (Avera  (None, 5, 5, 16)          0         \n",
            " gePooling2D)                                                    \n",
            "                                                                 \n",
            " conv2d_2 (Conv2D)           (None, 1, 1, 120)         48120     \n",
            "                                                                 \n",
            " flatten (Flatten)           (None, 120)               0         \n",
            "                                                                 \n",
            " dense_2 (Dense)             (None, 84)                10164     \n",
            "                                                                 \n",
            " dense_3 (Dense)             (None, 10)                850       \n",
            "                                                                 \n",
            "=================================================================\n",
            "Total params: 61706 (241.04 KB)\n",
            "Trainable params: 61706 (241.04 KB)\n",
            "Non-trainable params: 0 (0.00 Byte)\n",
            "_________________________________________________________________\n"
          ]
        }
      ]
    },
    {
      "cell_type": "code",
      "source": [
        "history = model2.fit(X_train2, Y_train, epochs=30, validation_data=(X_test2, Y_test))"
      ],
      "metadata": {
        "colab": {
          "base_uri": "https://localhost:8080/"
        },
        "id": "ovplHgYJYhdn",
        "outputId": "461c1ce5-eb00-4e2a-a936-b35ecab7a29f"
      },
      "execution_count": 11,
      "outputs": [
        {
          "output_type": "stream",
          "name": "stdout",
          "text": [
            "Epoch 1/30\n",
            "1750/1750 [==============================] - 33s 19ms/step - loss: 0.2330 - accuracy: 0.9282 - val_loss: 0.1020 - val_accuracy: 0.9691\n",
            "Epoch 2/30\n",
            "1750/1750 [==============================] - 33s 19ms/step - loss: 0.0745 - accuracy: 0.9766 - val_loss: 0.0729 - val_accuracy: 0.9778\n",
            "Epoch 3/30\n",
            "1750/1750 [==============================] - 34s 20ms/step - loss: 0.0535 - accuracy: 0.9828 - val_loss: 0.0648 - val_accuracy: 0.9796\n",
            "Epoch 4/30\n",
            "1750/1750 [==============================] - 32s 18ms/step - loss: 0.0428 - accuracy: 0.9864 - val_loss: 0.0569 - val_accuracy: 0.9824\n",
            "Epoch 5/30\n",
            "1750/1750 [==============================] - 33s 19ms/step - loss: 0.0340 - accuracy: 0.9889 - val_loss: 0.0472 - val_accuracy: 0.9864\n",
            "Epoch 6/30\n",
            "1750/1750 [==============================] - 32s 18ms/step - loss: 0.0290 - accuracy: 0.9905 - val_loss: 0.0372 - val_accuracy: 0.9884\n",
            "Epoch 7/30\n",
            "1750/1750 [==============================] - 33s 19ms/step - loss: 0.0234 - accuracy: 0.9921 - val_loss: 0.0451 - val_accuracy: 0.9859\n",
            "Epoch 8/30\n",
            "1750/1750 [==============================] - 33s 19ms/step - loss: 0.0205 - accuracy: 0.9934 - val_loss: 0.0503 - val_accuracy: 0.9860\n",
            "Epoch 9/30\n",
            "1750/1750 [==============================] - 32s 18ms/step - loss: 0.0171 - accuracy: 0.9947 - val_loss: 0.0427 - val_accuracy: 0.9878\n",
            "Epoch 10/30\n",
            "1750/1750 [==============================] - 33s 19ms/step - loss: 0.0158 - accuracy: 0.9949 - val_loss: 0.0392 - val_accuracy: 0.9883\n",
            "Epoch 11/30\n",
            "1750/1750 [==============================] - 33s 19ms/step - loss: 0.0136 - accuracy: 0.9957 - val_loss: 0.0439 - val_accuracy: 0.9870\n",
            "Epoch 12/30\n",
            "1750/1750 [==============================] - 36s 21ms/step - loss: 0.0114 - accuracy: 0.9967 - val_loss: 0.0426 - val_accuracy: 0.9882\n",
            "Epoch 13/30\n",
            "1750/1750 [==============================] - 36s 21ms/step - loss: 0.0118 - accuracy: 0.9961 - val_loss: 0.0470 - val_accuracy: 0.9867\n",
            "Epoch 14/30\n",
            "1750/1750 [==============================] - 34s 19ms/step - loss: 0.0107 - accuracy: 0.9965 - val_loss: 0.0424 - val_accuracy: 0.9902\n",
            "Epoch 15/30\n",
            "1750/1750 [==============================] - 33s 19ms/step - loss: 0.0090 - accuracy: 0.9971 - val_loss: 0.0402 - val_accuracy: 0.9890\n",
            "Epoch 16/30\n",
            "1750/1750 [==============================] - 34s 19ms/step - loss: 0.0097 - accuracy: 0.9970 - val_loss: 0.0513 - val_accuracy: 0.9881\n",
            "Epoch 17/30\n",
            "1750/1750 [==============================] - 34s 19ms/step - loss: 0.0082 - accuracy: 0.9974 - val_loss: 0.0541 - val_accuracy: 0.9893\n",
            "Epoch 18/30\n",
            "1750/1750 [==============================] - 33s 19ms/step - loss: 0.0079 - accuracy: 0.9977 - val_loss: 0.0517 - val_accuracy: 0.9894\n",
            "Epoch 19/30\n",
            "1750/1750 [==============================] - 34s 19ms/step - loss: 0.0081 - accuracy: 0.9977 - val_loss: 0.0561 - val_accuracy: 0.9886\n",
            "Epoch 20/30\n",
            "1750/1750 [==============================] - 33s 19ms/step - loss: 0.0064 - accuracy: 0.9979 - val_loss: 0.0555 - val_accuracy: 0.9891\n",
            "Epoch 21/30\n",
            "1750/1750 [==============================] - 36s 20ms/step - loss: 0.0072 - accuracy: 0.9976 - val_loss: 0.0494 - val_accuracy: 0.9896\n",
            "Epoch 22/30\n",
            "1750/1750 [==============================] - 36s 21ms/step - loss: 0.0063 - accuracy: 0.9979 - val_loss: 0.0486 - val_accuracy: 0.9901\n",
            "Epoch 23/30\n",
            "1750/1750 [==============================] - 34s 19ms/step - loss: 0.0050 - accuracy: 0.9984 - val_loss: 0.0454 - val_accuracy: 0.9909\n",
            "Epoch 24/30\n",
            "1750/1750 [==============================] - 33s 19ms/step - loss: 0.0064 - accuracy: 0.9981 - val_loss: 0.0585 - val_accuracy: 0.9897\n",
            "Epoch 25/30\n",
            "1750/1750 [==============================] - 36s 21ms/step - loss: 0.0056 - accuracy: 0.9982 - val_loss: 0.0514 - val_accuracy: 0.9897\n",
            "Epoch 26/30\n",
            "1750/1750 [==============================] - 34s 20ms/step - loss: 0.0047 - accuracy: 0.9986 - val_loss: 0.0539 - val_accuracy: 0.9899\n",
            "Epoch 27/30\n",
            "1750/1750 [==============================] - 34s 20ms/step - loss: 0.0056 - accuracy: 0.9980 - val_loss: 0.0702 - val_accuracy: 0.9879\n",
            "Epoch 28/30\n",
            "1750/1750 [==============================] - 33s 19ms/step - loss: 0.0046 - accuracy: 0.9985 - val_loss: 0.0637 - val_accuracy: 0.9894\n",
            "Epoch 29/30\n",
            "1750/1750 [==============================] - 34s 20ms/step - loss: 0.0045 - accuracy: 0.9986 - val_loss: 0.0708 - val_accuracy: 0.9888\n",
            "Epoch 30/30\n",
            "1750/1750 [==============================] - 34s 20ms/step - loss: 0.0056 - accuracy: 0.9985 - val_loss: 0.0682 - val_accuracy: 0.9868\n"
          ]
        }
      ]
    },
    {
      "cell_type": "code",
      "source": [
        "plt.plot(history.history[\"loss\"])\n",
        "plt.plot(history.history[\"val_loss\"])\n",
        "plt.yscale(\"log\")\n",
        "plt.show()\n",
        "plt.plot(history.history[\"accuracy\"])\n",
        "plt.plot(history.history[\"val_accuracy\"])\n",
        "plt.yscale(\"log\")"
      ],
      "metadata": {
        "colab": {
          "base_uri": "https://localhost:8080/",
          "height": 843
        },
        "id": "_1IV7BK8Z_FO",
        "outputId": "f75522b6-c392-4864-d328-1646eb429090"
      },
      "execution_count": 12,
      "outputs": [
        {
          "output_type": "display_data",
          "data": {
            "text/plain": [
              "<Figure size 640x480 with 1 Axes>"
            ],
            "image/png": "[encoded data removed]"
          },
          "metadata": {}
        },
        {
          "output_type": "display_data",
          "data": {
            "text/plain": [
              "<Figure size 640x480 with 1 Axes>"
            ],
            "image/png": "[encoded data removed]"
          },
          "metadata": {}
        }
      ]
    },
    {
      "cell_type": "code",
      "source": [
        "model2.layers[-3].output_shape"
      ],
      "metadata": {
        "colab": {
          "base_uri": "https://localhost:8080/"
        },
        "id": "_f8hpURCl7hR",
        "outputId": "af165d0f-91e1-4270-e586-3194e0dfa397"
      },
      "execution_count": 13,
      "outputs": [
        {
          "output_type": "execute_result",
          "data": {
            "text/plain": [
              "(None, 120)"
            ]
          },
          "metadata": {},
          "execution_count": 13
        }
      ]
    },
    {
      "cell_type": "code",
      "source": [
        "from tensorflow.keras.models import Model\n",
        "intermediate_layer_model = Model(inputs=model2.input, outputs=model2.layers[-3].output)"
      ],
      "metadata": {
        "id": "b1zih4Hzn4m3"
      },
      "execution_count": 14,
      "outputs": []
    },
    {
      "cell_type": "code",
      "source": [
        "embeddings_train = intermediate_layer_model.predict(X_train2)"
      ],
      "metadata": {
        "colab": {
          "base_uri": "https://localhost:8080/"
        },
        "id": "riUQRIjqoOlH",
        "outputId": "e9fade91-e061-4a63-ac39-35b09498e34c"
      },
      "execution_count": 15,
      "outputs": [
        {
          "output_type": "stream",
          "name": "stdout",
          "text": [
            "1750/1750 [==============================] - 13s 7ms/step\n"
          ]
        }
      ]
    },
    {
      "cell_type": "code",
      "source": [
        "Y_cattegorical = np.argmax(Y_train, axis=1)"
      ],
      "metadata": {
        "id": "afsyx4WVocf3"
      },
      "execution_count": 16,
      "outputs": []
    },
    {
      "cell_type": "code",
      "source": [
        "from sklearn.ensemble import RandomForestClassifier"
      ],
      "metadata": {
        "id": "99aqVPq4oyeW"
      },
      "execution_count": 17,
      "outputs": []
    },
    {
      "cell_type": "code",
      "source": [
        "model3 = RandomForestClassifier(n_estimators=20, random_state=42)\n",
        ""
      ],
      "metadata": {
        "id": "h09mN2ITpFaH"
      },
      "execution_count": 18,
      "outputs": []
    },
    {
      "cell_type": "code",
      "source": [
        "model3.fit(embeddings_train, Y_cattegorical)"
      ],
      "metadata": {
        "colab": {
          "base_uri": "https://localhost:8080/",
          "height": 75
        },
        "id": "M25hquspp1N-",
        "outputId": "2baa0192-6446-4207-a496-382a1d332d19"
      },
      "execution_count": 19,
      "outputs": [
        {
          "output_type": "execute_result",
          "data": {
            "text/plain": [
              "RandomForestClassifier(n_estimators=20, random_state=42)"
            ],
            "text/html": [
              "<style>#sk-container-id-1 {color: black;background-color: white;}#sk-container-id-1 pre{padding: 0;}#sk-container-id-1 div.sk-toggleable {background-color: white;}#sk-container-id-1 label.sk-toggleable__label {cursor: pointer;display: block;width: 100%;margin-bottom: 0;padding: 0.3em;box-sizing: border-box;text-align: center;}#sk-container-id-1 label.sk-toggleable__label-arrow:before {content: \"▸\";float: left;margin-right: 0.25em;color: #696969;}#sk-container-id-1 label.sk-toggleable__label-arrow:hover:before {color: black;}#sk-container-id-1 div.sk-estimator:hover label.sk-toggleable__label-arrow:before {color: black;}#sk-container-id-1 div.sk-toggleable__content {max-height: 0;max-width: 0;overflow: hidden;text-align: left;background-color: #f0f8ff;}#sk-container-id-1 div.sk-toggleable__content pre {margin: 0.2em;color: black;border-radius: 0.25em;background-color: #f0f8ff;}#sk-container-id-1 input.sk-toggleable__control:checked~div.sk-toggleable__content {max-height: 200px;max-width: 100%;overflow: auto;}#sk-container-id-1 input.sk-toggleable__control:checked~label.sk-toggleable__label-arrow:before {content: \"▾\";}#sk-container-id-1 div.sk-estimator input.sk-toggleable__control:checked~label.sk-toggleable__label {background-color: #d4ebff;}#sk-container-id-1 div.sk-label input.sk-toggleable__control:checked~label.sk-toggleable__label {background-color: #d4ebff;}#sk-container-id-1 input.sk-hidden--visually {border: 0;clip: rect(1px 1px 1px 1px);clip: rect(1px, 1px, 1px, 1px);height: 1px;margin: -1px;overflow: hidden;padding: 0;position: absolute;width: 1px;}#sk-container-id-1 div.sk-estimator {font-family: monospace;background-color: #f0f8ff;border: 1px dotted black;border-radius: 0.25em;box-sizing: border-box;margin-bottom: 0.5em;}#sk-container-id-1 div.sk-estimator:hover {background-color: #d4ebff;}#sk-container-id-1 div.sk-parallel-item::after {content: \"\";width: 100%;border-bottom: 1px solid gray;flex-grow: 1;}#sk-container-id-1 div.sk-label:hover label.sk-toggleable__label {background-color: #d4ebff;}#sk-container-id-1 div.sk-serial::before {content: \"\";position: absolute;border-left: 1px solid gray;box-sizing: border-box;top: 0;bottom: 0;left: 50%;z-index: 0;}#sk-container-id-1 div.sk-serial {display: flex;flex-direction: column;align-items: center;background-color: white;padding-right: 0.2em;padding-left: 0.2em;position: relative;}#sk-container-id-1 div.sk-item {position: relative;z-index: 1;}#sk-container-id-1 div.sk-parallel {display: flex;align-items: stretch;justify-content: center;background-color: white;position: relative;}#sk-container-id-1 div.sk-item::before, #sk-container-id-1 div.sk-parallel-item::before {content: \"\";position: absolute;border-left: 1px solid gray;box-sizing: border-box;top: 0;bottom: 0;left: 50%;z-index: -1;}#sk-container-id-1 div.sk-parallel-item {display: flex;flex-direction: column;z-index: 1;position: relative;background-color: white;}#sk-container-id-1 div.sk-parallel-item:first-child::after {align-self: flex-end;width: 50%;}#sk-container-id-1 div.sk-parallel-item:last-child::after {align-self: flex-start;width: 50%;}#sk-container-id-1 div.sk-parallel-item:only-child::after {width: 0;}#sk-container-id-1 div.sk-dashed-wrapped {border: 1px dashed gray;margin: 0 0.4em 0.5em 0.4em;box-sizing: border-box;padding-bottom: 0.4em;background-color: white;}#sk-container-id-1 div.sk-label label {font-family: monospace;font-weight: bold;display: inline-block;line-height: 1.2em;}#sk-container-id-1 div.sk-label-container {text-align: center;}#sk-container-id-1 div.sk-container {/* jupyter's `normalize.less` sets `[hidden] { display: none; }` but bootstrap.min.css set `[hidden] { display: none !important; }` so we also need the `!important` here to be able to override the default hidden behavior on the sphinx rendered scikit-learn.org. See: https://github.com/scikit-learn/scikit-learn/issues/21755 */display: inline-block !important;position: relative;}#sk-container-id-1 div.sk-text-repr-fallback {display: none;}</style><div id=\"sk-container-id-1\" class=\"sk-top-container\"><div class=\"sk-text-repr-fallback\"><pre>RandomForestClassifier(n_estimators=20, random_state=42)</pre><b>In a Jupyter environment, please rerun this cell to show the HTML representation or trust the notebook. <br />On GitHub, the HTML representation is unable to render, please try loading this page with nbviewer.org.</b></div><div class=\"sk-container\" hidden><div class=\"sk-item\"><div class=\"sk-estimator sk-toggleable\"><input class=\"sk-toggleable__control sk-hidden--visually\" id=\"sk-estimator-id-1\" type=\"checkbox\" checked><label for=\"sk-estimator-id-1\" class=\"sk-toggleable__label sk-toggleable__label-arrow\">RandomForestClassifier</label><div class=\"sk-toggleable__content\"><pre>RandomForestClassifier(n_estimators=20, random_state=42)</pre></div></div></div></div></div>"
            ]
          },
          "metadata": {},
          "execution_count": 19
        }
      ]
    },
    {
      "cell_type": "code",
      "source": [
        "(model3.predict(embeddings_train)==Y_cattegorical).sum()/len(embeddings_train)"
      ],
      "metadata": {
        "colab": {
          "base_uri": "https://localhost:8080/"
        },
        "id": "tQKTWBnip7ae",
        "outputId": "ff30919c-24b1-4dc7-f98f-5eba90b586c0"
      },
      "execution_count": 20,
      "outputs": [
        {
          "output_type": "execute_result",
          "data": {
            "text/plain": [
              "0.9999821428571428"
            ]
          },
          "metadata": {},
          "execution_count": 20
        }
      ]
    },
    {
      "cell_type": "code",
      "source": [
        "model2.predict(X_train2)"
      ],
      "metadata": {
        "colab": {
          "base_uri": "https://localhost:8080/"
        },
        "id": "SbdI5BrhqAqV",
        "outputId": "0918f882-9e6f-41b7-9f65-d4949d285f66"
      },
      "execution_count": 21,
      "outputs": [
        {
          "output_type": "stream",
          "name": "stdout",
          "text": [
            "1750/1750 [==============================] - 13s 7ms/step\n"
          ]
        },
        {
          "output_type": "execute_result",
          "data": {
            "text/plain": [
              "array([[5.6126190e-15, 1.5669035e-13, 6.6302424e-19, ..., 8.9635945e-17,\n",
              "        8.9168825e-11, 7.8799689e-10],\n",
              "       [4.5582330e-19, 2.3789452e-15, 1.2896348e-17, ..., 5.3262831e-14,\n",
              "        4.4026713e-16, 4.1187672e-15],\n",
              "       [1.2448975e-09, 2.4506417e-07, 7.4558244e-08, ..., 1.4059589e-08,\n",
              "        9.9990338e-01, 1.0387992e-08],\n",
              "       ...,\n",
              "       [3.4517875e-21, 9.9999994e-01, 3.9053644e-21, ..., 3.0170453e-16,\n",
              "        9.6906308e-16, 1.5012972e-16],\n",
              "       [9.9999994e-01, 4.3376131e-28, 4.6833963e-26, ..., 3.5738073e-31,\n",
              "        3.7296546e-28, 6.3313764e-27],\n",
              "       [9.9999994e-01, 1.8606010e-14, 6.0680287e-11, ..., 2.7483861e-13,\n",
              "        2.3164257e-14, 9.1311062e-19]], dtype=float32)"
            ]
          },
          "metadata": {},
          "execution_count": 21
        }
      ]
    },
    {
      "cell_type": "code",
      "source": [
        "%timeit model3.predict(embeddings_train)"
      ],
      "metadata": {
        "colab": {
          "base_uri": "https://localhost:8080/"
        },
        "id": "iM6FXFZdqiX2",
        "outputId": "524dbc8a-f9d5-4657-a3eb-b6169cf2f7be"
      },
      "execution_count": 22,
      "outputs": [
        {
          "output_type": "stream",
          "name": "stdout",
          "text": [
            "225 ms ± 2.83 ms per loop (mean ± std. dev. of 7 runs, 1 loop each)\n"
          ]
        }
      ]
    },
    {
      "cell_type": "code",
      "source": [
        "(model3.predict(intermediate_layer_model(X_test2))==np.argmax(Y_test, axis=1)).sum()/len(X_test2)"
      ],
      "metadata": {
        "colab": {
          "base_uri": "https://localhost:8080/"
        },
        "id": "l2W5CdXeq2Cv",
        "outputId": "37535b68-aa86-4ed7-8dd0-766dc82a9021"
      },
      "execution_count": 23,
      "outputs": [
        {
          "output_type": "execute_result",
          "data": {
            "text/plain": [
              "0.9879285714285714"
            ]
          },
          "metadata": {},
          "execution_count": 23
        }
      ]
    },
    {
      "cell_type": "code",
      "source": [
        "np.argmax(Y_test, axis=1)"
      ],
      "metadata": {
        "colab": {
          "base_uri": "https://localhost:8080/"
        },
        "id": "0u0PvyFJrLYE",
        "outputId": "35f329fd-4205-44d5-9f96-2f8c3dc9d7e5"
      },
      "execution_count": 24,
      "outputs": [
        {
          "output_type": "execute_result",
          "data": {
            "text/plain": [
              "array([8, 4, 8, ..., 2, 7, 1])"
            ]
          },
          "metadata": {},
          "execution_count": 24
        }
      ]
    },
    {
      "cell_type": "code",
      "source": [
        "classisfier_layer_model = Model(inputs=model2.layers[-2].input, outputs=model2.output)"
      ],
      "metadata": {
        "id": "R57ghMckrbsM"
      },
      "execution_count": 25,
      "outputs": []
    },
    {
      "cell_type": "code",
      "source": [
        "np.argmax(classisfier_layer_model.predict(embeddings_train), axis=-1)"
      ],
      "metadata": {
        "id": "c4pVOj-Fz3N0",
        "outputId": "13d8a2ea-1dbd-4fbf-ae2f-41bdfabc9924",
        "colab": {
          "base_uri": "https://localhost:8080/"
        }
      },
      "execution_count": 26,
      "outputs": [
        {
          "output_type": "stream",
          "name": "stdout",
          "text": [
            "1750/1750 [==============================] - 3s 2ms/step\n"
          ]
        },
        {
          "output_type": "execute_result",
          "data": {
            "text/plain": [
              "array([5, 4, 8, ..., 1, 0, 0])"
            ]
          },
          "metadata": {},
          "execution_count": 26
        }
      ]
    },
    {
      "cell_type": "code",
      "source": [],
      "metadata": {
        "id": "rpj-9MHp0m7z"
      },
      "execution_count": 26,
      "outputs": []
    }
  ]
}