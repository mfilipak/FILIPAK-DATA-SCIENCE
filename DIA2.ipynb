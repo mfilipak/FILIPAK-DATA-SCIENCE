{
  "nbformat": 4,
  "nbformat_minor": 0,
  "metadata": {
    "colab": {
      "provenance": [],
      "authorship_tag": "ABX9TyOtOeZidM9H6ZEGjVoMkJ5o",
      "include_colab_link": true
    },
    "kernelspec": {
      "name": "python3",
      "display_name": "Python 3"
    },
    "language_info": {
      "name": "python"
    }
  },
  "cells": [
    {
      "cell_type": "markdown",
      "metadata": {
        "id": "view-in-github",
        "colab_type": "text"
      },
      "source": [
        "<a href=\"https://colab.research.google.com/github/mfilipak/FILIPAK-DATA-SCIENCE/blob/main/DIA2.ipynb\" target=\"_parent\"><img src=\"https://colab.research.google.com/assets/colab-badge.svg\" alt=\"Open In Colab\"/></a>"
      ]
    },
    {
      "cell_type": "markdown",
      "source": [
        "# Dia 2 - REDES CONVOLUCIONAIS DE CLASSIFICAÇÃO (Testando vários classificadores)"
      ],
      "metadata": {
        "id": "HvScBrZm82El"
      }
    },
    {
      "cell_type": "code",
      "execution_count": 1,
      "metadata": {
        "id": "jqBxJvBk0wx0",
        "colab": {
          "base_uri": "https://localhost:8080/"
        },
        "outputId": "5c8c76d9-7033-42b5-efd3-586faa391d25"
      },
      "outputs": [
        {
          "output_type": "execute_result",
          "data": {
            "text/plain": [
              "((70000, 784), (70000,))"
            ]
          },
          "metadata": {},
          "execution_count": 1
        }
      ],
      "source": [
        "from sklearn.datasets import fetch_openml\n",
        "\n",
        "# Carregar os dados MNIST\n",
        "mnist = fetch_openml('mnist_784', version=1, parser=\"pandas\")\n",
        "X, y = mnist[\"data\"], mnist[\"target\"]\n",
        "y = y.astype(int)\n",
        "\n",
        "#Convertendo para uma matriz numpy ao invés de dataframe.\n",
        "X = X.to_numpy()\n",
        "Y = y.to_numpy()\n",
        "X.shape, Y.shape"
      ]
    },
    {
      "cell_type": "code",
      "source": [
        "import random\n",
        "import matplotlib.pyplot as plt\n",
        "j=1\n",
        "plt.figure(figsize=(10,10))\n",
        "for i in random.sample(range(len(X)), 5):\n",
        "  plt.subplot(1,5,j)\n",
        "  plt.title(f\"POS:{i}\\nLABEL: {Y[i]}\")\n",
        "  plt.imshow(X[i].reshape((28,28)), cmap=\"gray\")\n",
        "  j+=1\n",
        "plt.show()"
      ],
      "metadata": {
        "colab": {
          "base_uri": "https://localhost:8080/",
          "height": 237
        },
        "id": "kW-b4F674SLa",
        "outputId": "024c9836-6f8b-45e0-b487-0a1e657c3ed5"
      },
      "execution_count": 3,
      "outputs": [
        {
          "output_type": "display_data",
          "data": {
            "text/plain": [
              "<Figure size 1000x1000 with 5 Axes>"
            ],
            "image/png": "[encoded data removed]"
          },
          "metadata": {}
        }
      ]
    },
    {
      "cell_type": "markdown",
      "source": [
        "# Experimento 1 - Rede neural densa"
      ],
      "metadata": {
        "id": "bA1CORt67Rdi"
      }
    },
    {
      "cell_type": "code",
      "source": [
        "import numpy as np\n",
        "Y2 = np.array([np.eye(10)[_] for _ in Y])\n",
        "Y2[0]"
      ],
      "metadata": {
        "colab": {
          "base_uri": "https://localhost:8080/"
        },
        "id": "zkisS2puDrHZ",
        "outputId": "6a74b864-3991-4c51-cf26-36e50c7584e6"
      },
      "execution_count": 4,
      "outputs": [
        {
          "output_type": "execute_result",
          "data": {
            "text/plain": [
              "array([0., 0., 0., 0., 0., 1., 0., 0., 0., 0.])"
            ]
          },
          "metadata": {},
          "execution_count": 4
        }
      ]
    },
    {
      "cell_type": "code",
      "source": [
        "from sklearn.model_selection import train_test_split\n",
        "X_train, X_test, Y_train, Y_test = train_test_split(X, Y2, test_size=0.2, random_state=42)\n",
        "X_train = X_train/255\n",
        "X_test = X_test/255"
      ],
      "metadata": {
        "id": "fQCUG8For11D"
      },
      "execution_count": 48,
      "outputs": []
    },
    {
      "cell_type": "code",
      "source": [
        "X_train.shape, X_test.shape, Y_train.shape, Y_test.shape"
      ],
      "metadata": {
        "colab": {
          "base_uri": "https://localhost:8080/"
        },
        "id": "3EjR2I9fsTYx",
        "outputId": "ab4c904d-3fab-4a4d-b2e9-cf1e785fa3c8"
      },
      "execution_count": 6,
      "outputs": [
        {
          "output_type": "execute_result",
          "data": {
            "text/plain": [
              "((56000, 784), (14000, 784), (56000, 10), (14000, 10))"
            ]
          },
          "metadata": {},
          "execution_count": 6
        }
      ]
    },
    {
      "cell_type": "code",
      "source": [
        "import tensorflow as tf\n",
        "from tensorflow.keras import layers, models\n",
        "\n",
        "# Define o modelo sequencial\n",
        "model = models.Sequential()\n",
        "\n",
        "# Adiciona a camada de entrada e a primeira camada oculta\n",
        "model.add(layers.Dense(64, activation='relu', input_shape=(784,)))\n",
        "\n",
        "# Adiciona a camada de saída\n",
        "model.add(layers.Dense(10, activation='softmax'))\n",
        "\n",
        "# Compila o modelo\n",
        "model.compile(optimizer='adam', loss='categorical_crossentropy', metrics=['accuracy'])\n",
        "\n",
        "# Resumo do modelo\n",
        "model.summary()"
      ],
      "metadata": {
        "id": "b1YGXkk61x_Z",
        "colab": {
          "base_uri": "https://localhost:8080/"
        },
        "outputId": "d541cad7-3c99-4dd0-ed4b-6a63eb1ec805"
      },
      "execution_count": 13,
      "outputs": [
        {
          "output_type": "stream",
          "name": "stdout",
          "text": [
            "Model: \"sequential_2\"\n",
            "_________________________________________________________________\n",
            " Layer (type)                Output Shape              Param #   \n",
            "=================================================================\n",
            " dense_4 (Dense)             (None, 64)                50240     \n",
            "                                                                 \n",
            " dense_5 (Dense)             (None, 10)                650       \n",
            "                                                                 \n",
            "=================================================================\n",
            "Total params: 50890 (198.79 KB)\n",
            "Trainable params: 50890 (198.79 KB)\n",
            "Non-trainable params: 0 (0.00 Byte)\n",
            "_________________________________________________________________\n"
          ]
        }
      ]
    },
    {
      "cell_type": "code",
      "source": [
        "history = model.fit(X_train, Y_train, epochs=30, validation_data=(X_test, Y_test))"
      ],
      "metadata": {
        "colab": {
          "base_uri": "https://localhost:8080/"
        },
        "id": "8NjCDwK7Xh0A",
        "outputId": "39297fb5-c4bd-400c-adec-4d118774f089"
      },
      "execution_count": 23,
      "outputs": [
        {
          "output_type": "stream",
          "name": "stdout",
          "text": [
            "Epoch 1/30\n",
            "1750/1750 [==============================] - 5s 3ms/step - loss: 0.4161 - accuracy: 0.8733 - val_loss: 0.2262 - val_accuracy: 0.9353\n",
            "Epoch 2/30\n",
            "1750/1750 [==============================] - 5s 3ms/step - loss: 0.1793 - accuracy: 0.9484 - val_loss: 0.1756 - val_accuracy: 0.9505\n",
            "Epoch 3/30\n",
            "1750/1750 [==============================] - 4s 2ms/step - loss: 0.1345 - accuracy: 0.9610 - val_loss: 0.1448 - val_accuracy: 0.9581\n",
            "Epoch 4/30\n",
            "1750/1750 [==============================] - 5s 3ms/step - loss: 0.1060 - accuracy: 0.9691 - val_loss: 0.1257 - val_accuracy: 0.9644\n",
            "Epoch 5/30\n",
            "1750/1750 [==============================] - 4s 2ms/step - loss: 0.0851 - accuracy: 0.9746 - val_loss: 0.1120 - val_accuracy: 0.9670\n",
            "Epoch 6/30\n",
            "1750/1750 [==============================] - 4s 2ms/step - loss: 0.0704 - accuracy: 0.9789 - val_loss: 0.1038 - val_accuracy: 0.9694\n",
            "Epoch 7/30\n",
            "1750/1750 [==============================] - 5s 3ms/step - loss: 0.0596 - accuracy: 0.9816 - val_loss: 0.1023 - val_accuracy: 0.9692\n",
            "Epoch 8/30\n",
            "1750/1750 [==============================] - 4s 2ms/step - loss: 0.0515 - accuracy: 0.9846 - val_loss: 0.1017 - val_accuracy: 0.9709\n",
            "Epoch 9/30\n",
            "1750/1750 [==============================] - 4s 3ms/step - loss: 0.0455 - accuracy: 0.9862 - val_loss: 0.1003 - val_accuracy: 0.9713\n",
            "Epoch 10/30\n",
            "1750/1750 [==============================] - 5s 3ms/step - loss: 0.0399 - accuracy: 0.9882 - val_loss: 0.1035 - val_accuracy: 0.9705\n",
            "Epoch 11/30\n",
            "1750/1750 [==============================] - 4s 2ms/step - loss: 0.0355 - accuracy: 0.9894 - val_loss: 0.0996 - val_accuracy: 0.9711\n",
            "Epoch 12/30\n",
            "1750/1750 [==============================] - 5s 3ms/step - loss: 0.0316 - accuracy: 0.9904 - val_loss: 0.0966 - val_accuracy: 0.9724\n",
            "Epoch 13/30\n",
            "1750/1750 [==============================] - 4s 2ms/step - loss: 0.0283 - accuracy: 0.9915 - val_loss: 0.1045 - val_accuracy: 0.9702\n",
            "Epoch 14/30\n",
            "1750/1750 [==============================] - 4s 2ms/step - loss: 0.0251 - accuracy: 0.9924 - val_loss: 0.1115 - val_accuracy: 0.9694\n",
            "Epoch 15/30\n",
            "1750/1750 [==============================] - 5s 3ms/step - loss: 0.0226 - accuracy: 0.9935 - val_loss: 0.1052 - val_accuracy: 0.9726\n",
            "Epoch 16/30\n",
            "1750/1750 [==============================] - 5s 3ms/step - loss: 0.0210 - accuracy: 0.9942 - val_loss: 0.1104 - val_accuracy: 0.9720\n",
            "Epoch 17/30\n",
            "1750/1750 [==============================] - 4s 2ms/step - loss: 0.0189 - accuracy: 0.9947 - val_loss: 0.1109 - val_accuracy: 0.9715\n",
            "Epoch 18/30\n",
            "1750/1750 [==============================] - 5s 3ms/step - loss: 0.0164 - accuracy: 0.9952 - val_loss: 0.1219 - val_accuracy: 0.9699\n",
            "Epoch 19/30\n",
            "1750/1750 [==============================] - 4s 2ms/step - loss: 0.0150 - accuracy: 0.9956 - val_loss: 0.1183 - val_accuracy: 0.9706\n",
            "Epoch 20/30\n",
            "1750/1750 [==============================] - 6s 3ms/step - loss: 0.0139 - accuracy: 0.9961 - val_loss: 0.1196 - val_accuracy: 0.9716\n",
            "Epoch 21/30\n",
            "1750/1750 [==============================] - 4s 2ms/step - loss: 0.0113 - accuracy: 0.9973 - val_loss: 0.1208 - val_accuracy: 0.9706\n",
            "Epoch 22/30\n",
            "1750/1750 [==============================] - 4s 2ms/step - loss: 0.0114 - accuracy: 0.9971 - val_loss: 0.1279 - val_accuracy: 0.9712\n",
            "Epoch 23/30\n",
            "1750/1750 [==============================] - 5s 3ms/step - loss: 0.0101 - accuracy: 0.9972 - val_loss: 0.1219 - val_accuracy: 0.9716\n",
            "Epoch 24/30\n",
            "1750/1750 [==============================] - 4s 2ms/step - loss: 0.0087 - accuracy: 0.9979 - val_loss: 0.1344 - val_accuracy: 0.9709\n",
            "Epoch 25/30\n",
            "1750/1750 [==============================] - 5s 3ms/step - loss: 0.0086 - accuracy: 0.9976 - val_loss: 0.1365 - val_accuracy: 0.9711\n",
            "Epoch 26/30\n",
            "1750/1750 [==============================] - 5s 3ms/step - loss: 0.0073 - accuracy: 0.9983 - val_loss: 0.1449 - val_accuracy: 0.9701\n",
            "Epoch 27/30\n",
            "1750/1750 [==============================] - 4s 3ms/step - loss: 0.0076 - accuracy: 0.9980 - val_loss: 0.1432 - val_accuracy: 0.9711\n",
            "Epoch 28/30\n",
            "1750/1750 [==============================] - 5s 3ms/step - loss: 0.0062 - accuracy: 0.9985 - val_loss: 0.1388 - val_accuracy: 0.9719\n",
            "Epoch 29/30\n",
            "1750/1750 [==============================] - 5s 3ms/step - loss: 0.0058 - accuracy: 0.9986 - val_loss: 0.1440 - val_accuracy: 0.9710\n",
            "Epoch 30/30\n",
            "1750/1750 [==============================] - 6s 3ms/step - loss: 0.0051 - accuracy: 0.9990 - val_loss: 0.1578 - val_accuracy: 0.9693\n"
          ]
        }
      ]
    },
    {
      "cell_type": "code",
      "source": [
        "plt.plot(history.history[\"loss\"])\n",
        "plt.plot(history.history[\"val_loss\"])\n",
        "plt.yscale(\"log\")\n"
      ],
      "metadata": {
        "colab": {
          "base_uri": "https://localhost:8080/",
          "height": 430
        },
        "id": "HZ31m2ecUIvF",
        "outputId": "5a7c6fa2-8912-4edf-eb26-a5553d54e130"
      },
      "execution_count": 24,
      "outputs": [
        {
          "output_type": "display_data",
          "data": {
            "text/plain": [
              "<Figure size 640x480 with 1 Axes>"
            ],
            "image/png": "[encoded data removed]"
          },
          "metadata": {}
        }
      ]
    },
    {
      "cell_type": "code",
      "source": [
        "X_train2 = X_train.reshape( (-1,28,28,1) )\n",
        "X_test2 = X_test.reshape( (-1,28,28,1) )\n",
        "X_train2 = np.pad(X_train2,((0,0),(2,2),(2,2),(0,0)))\n",
        "X_test2 = np.pad(X_test2,((0,0),(2,2),(2,2),(0,0)))"
      ],
      "metadata": {
        "id": "P-KbVIySZe_Y"
      },
      "execution_count": 54,
      "outputs": []
    },
    {
      "cell_type": "code",
      "source": [
        "import tensorflow as tf\n",
        "from tensorflow.keras import models, layers\n",
        "\n",
        "model2 = models.Sequential([\n",
        "    # C1: Camada de Convolução\n",
        "    layers.Conv2D(6, kernel_size=(5, 5), activation='relu', input_shape=(32, 32, 1)),\n",
        "    # S2: Camada de Subamostragem\n",
        "    layers.AveragePooling2D(pool_size=(2, 2)),\n",
        "\n",
        "    # C3: Camada de Convolução\n",
        "    layers.Conv2D(16, kernel_size=(5, 5), activation='relu'),\n",
        "    # S4: Camada de Subamostragem\n",
        "    layers.AveragePooling2D(pool_size=(2, 2)),\n",
        "\n",
        "    # C5: Camada de Convolução, atua como uma camada densa pela forma como é aplicada\n",
        "    layers.Conv2D(120, kernel_size=(5, 5), activation='relu'),\n",
        "\n",
        "    # Flatten antes das camadas densas\n",
        "    layers.Flatten(),\n",
        "\n",
        "    # F6: Camada Densa\n",
        "    layers.Dense(84, activation='relu'),\n",
        "\n",
        "    # Camada de Saída\n",
        "    layers.Dense(10, activation='softmax')\n",
        "])\n",
        "\n",
        "# Compila o modelo\n",
        "model2.compile(optimizer='adam',\n",
        "              loss='categorical_crossentropy',\n",
        "              metrics=['accuracy'])\n",
        "\n",
        "# Mostra um resumo do modelo\n",
        "model2.summary()\n"
      ],
      "metadata": {
        "colab": {
          "base_uri": "https://localhost:8080/"
        },
        "id": "8eEdqf-fUi1z",
        "outputId": "4f9c845c-d7b6-4f49-8de4-f277d7669c72"
      },
      "execution_count": 55,
      "outputs": [
        {
          "output_type": "stream",
          "name": "stdout",
          "text": [
            "Model: \"sequential_16\"\n",
            "_________________________________________________________________\n",
            " Layer (type)                Output Shape              Param #   \n",
            "=================================================================\n",
            " conv2d_38 (Conv2D)          (None, 28, 28, 6)         156       \n",
            "                                                                 \n",
            " average_pooling2d_2 (Avera  (None, 14, 14, 6)         0         \n",
            " gePooling2D)                                                    \n",
            "                                                                 \n",
            " conv2d_39 (Conv2D)          (None, 10, 10, 16)        2416      \n",
            "                                                                 \n",
            " average_pooling2d_3 (Avera  (None, 5, 5, 16)          0         \n",
            " gePooling2D)                                                    \n",
            "                                                                 \n",
            " conv2d_40 (Conv2D)          (None, 1, 1, 120)         48120     \n",
            "                                                                 \n",
            " flatten_13 (Flatten)        (None, 120)               0         \n",
            "                                                                 \n",
            " dense_32 (Dense)            (None, 84)                10164     \n",
            "                                                                 \n",
            " dense_33 (Dense)            (None, 10)                850       \n",
            "                                                                 \n",
            "=================================================================\n",
            "Total params: 61706 (241.04 KB)\n",
            "Trainable params: 61706 (241.04 KB)\n",
            "Non-trainable params: 0 (0.00 Byte)\n",
            "_________________________________________________________________\n"
          ]
        }
      ]
    },
    {
      "cell_type": "code",
      "source": [
        "history = model2.fit(X_train2, Y_train, epochs=30, validation_data=(X_test2, Y_test))"
      ],
      "metadata": {
        "colab": {
          "base_uri": "https://localhost:8080/"
        },
        "id": "ovplHgYJYhdn",
        "outputId": "9080ce18-fa04-42f7-a7da-c5dcb0120994"
      },
      "execution_count": 57,
      "outputs": [
        {
          "output_type": "stream",
          "name": "stdout",
          "text": [
            "Epoch 1/30\n",
            "1750/1750 [==============================] - 36s 19ms/step - loss: 0.2457 - accuracy: 0.9245 - val_loss: 0.1136 - val_accuracy: 0.9659\n",
            "Epoch 2/30\n",
            "1750/1750 [==============================] - 32s 18ms/step - loss: 0.0755 - accuracy: 0.9763 - val_loss: 0.0736 - val_accuracy: 0.9771\n",
            "Epoch 3/30\n",
            "1750/1750 [==============================] - 34s 19ms/step - loss: 0.0534 - accuracy: 0.9834 - val_loss: 0.0572 - val_accuracy: 0.9830\n",
            "Epoch 4/30\n",
            "1750/1750 [==============================] - 38s 22ms/step - loss: 0.0424 - accuracy: 0.9872 - val_loss: 0.0510 - val_accuracy: 0.9849\n",
            "Epoch 5/30\n",
            "1750/1750 [==============================] - 33s 19ms/step - loss: 0.0345 - accuracy: 0.9893 - val_loss: 0.0399 - val_accuracy: 0.9881\n",
            "Epoch 6/30\n",
            "1750/1750 [==============================] - 35s 20ms/step - loss: 0.0289 - accuracy: 0.9907 - val_loss: 0.0448 - val_accuracy: 0.9872\n",
            "Epoch 7/30\n",
            "1750/1750 [==============================] - 32s 18ms/step - loss: 0.0250 - accuracy: 0.9922 - val_loss: 0.0412 - val_accuracy: 0.9868\n",
            "Epoch 8/30\n",
            "1750/1750 [==============================] - 33s 19ms/step - loss: 0.0213 - accuracy: 0.9931 - val_loss: 0.0386 - val_accuracy: 0.9893\n",
            "Epoch 9/30\n",
            "1750/1750 [==============================] - 32s 18ms/step - loss: 0.0174 - accuracy: 0.9945 - val_loss: 0.0405 - val_accuracy: 0.9890\n",
            "Epoch 10/30\n",
            "1750/1750 [==============================] - 33s 19ms/step - loss: 0.0166 - accuracy: 0.9952 - val_loss: 0.0368 - val_accuracy: 0.9892\n",
            "Epoch 11/30\n",
            "1750/1750 [==============================] - 32s 18ms/step - loss: 0.0141 - accuracy: 0.9954 - val_loss: 0.0373 - val_accuracy: 0.9886\n",
            "Epoch 12/30\n",
            "1750/1750 [==============================] - 33s 19ms/step - loss: 0.0134 - accuracy: 0.9959 - val_loss: 0.0361 - val_accuracy: 0.9889\n",
            "Epoch 13/30\n",
            "1750/1750 [==============================] - 35s 20ms/step - loss: 0.0116 - accuracy: 0.9962 - val_loss: 0.0393 - val_accuracy: 0.9889\n",
            "Epoch 14/30\n",
            "1750/1750 [==============================] - 32s 18ms/step - loss: 0.0109 - accuracy: 0.9966 - val_loss: 0.0424 - val_accuracy: 0.9891\n",
            "Epoch 15/30\n",
            "1750/1750 [==============================] - 33s 19ms/step - loss: 0.0098 - accuracy: 0.9967 - val_loss: 0.0448 - val_accuracy: 0.9886\n",
            "Epoch 16/30\n",
            "1750/1750 [==============================] - 33s 19ms/step - loss: 0.0096 - accuracy: 0.9969 - val_loss: 0.0521 - val_accuracy: 0.9878\n",
            "Epoch 17/30\n",
            "1750/1750 [==============================] - 32s 18ms/step - loss: 0.0082 - accuracy: 0.9973 - val_loss: 0.0432 - val_accuracy: 0.9896\n",
            "Epoch 18/30\n",
            "1750/1750 [==============================] - 33s 19ms/step - loss: 0.0074 - accuracy: 0.9978 - val_loss: 0.0437 - val_accuracy: 0.9895\n",
            "Epoch 19/30\n",
            "1750/1750 [==============================] - 32s 18ms/step - loss: 0.0070 - accuracy: 0.9976 - val_loss: 0.0426 - val_accuracy: 0.9890\n",
            "Epoch 20/30\n",
            "1750/1750 [==============================] - 33s 19ms/step - loss: 0.0076 - accuracy: 0.9976 - val_loss: 0.0483 - val_accuracy: 0.9879\n",
            "Epoch 21/30\n",
            "1750/1750 [==============================] - 35s 20ms/step - loss: 0.0055 - accuracy: 0.9981 - val_loss: 0.0493 - val_accuracy: 0.9888\n",
            "Epoch 22/30\n",
            "1750/1750 [==============================] - 32s 18ms/step - loss: 0.0072 - accuracy: 0.9976 - val_loss: 0.0397 - val_accuracy: 0.9898\n",
            "Epoch 23/30\n",
            "1750/1750 [==============================] - 34s 19ms/step - loss: 0.0049 - accuracy: 0.9984 - val_loss: 0.0537 - val_accuracy: 0.9890\n",
            "Epoch 24/30\n",
            "1750/1750 [==============================] - 35s 20ms/step - loss: 0.0057 - accuracy: 0.9981 - val_loss: 0.0415 - val_accuracy: 0.9907\n",
            "Epoch 25/30\n",
            "1750/1750 [==============================] - 32s 18ms/step - loss: 0.0062 - accuracy: 0.9981 - val_loss: 0.0532 - val_accuracy: 0.9884\n",
            "Epoch 26/30\n",
            "1750/1750 [==============================] - 33s 19ms/step - loss: 0.0048 - accuracy: 0.9984 - val_loss: 0.0465 - val_accuracy: 0.9909\n",
            "Epoch 27/30\n",
            "1750/1750 [==============================] - 33s 19ms/step - loss: 0.0047 - accuracy: 0.9985 - val_loss: 0.0503 - val_accuracy: 0.9896\n",
            "Epoch 28/30\n",
            "1750/1750 [==============================] - 32s 19ms/step - loss: 0.0057 - accuracy: 0.9983 - val_loss: 0.0457 - val_accuracy: 0.9903\n",
            "Epoch 29/30\n",
            "1750/1750 [==============================] - 32s 18ms/step - loss: 0.0041 - accuracy: 0.9988 - val_loss: 0.0490 - val_accuracy: 0.9895\n",
            "Epoch 30/30\n",
            "1750/1750 [==============================] - 32s 18ms/step - loss: 0.0050 - accuracy: 0.9983 - val_loss: 0.0592 - val_accuracy: 0.9899\n"
          ]
        }
      ]
    },
    {
      "cell_type": "code",
      "source": [
        "plt.plot(history.history[\"loss\"])\n",
        "plt.plot(history.history[\"val_loss\"])\n",
        "plt.yscale(\"log\")\n",
        "plt.show()\n",
        "plt.plot(history.history[\"accuracy\"])\n",
        "plt.plot(history.history[\"val_accuracy\"])\n",
        "plt.yscale(\"log\")"
      ],
      "metadata": {
        "colab": {
          "base_uri": "https://localhost:8080/",
          "height": 843
        },
        "id": "_1IV7BK8Z_FO",
        "outputId": "44c240de-b40d-4327-f984-fb88c3ea5407"
      },
      "execution_count": 59,
      "outputs": [
        {
          "output_type": "display_data",
          "data": {
            "text/plain": [
              "<Figure size 640x480 with 1 Axes>"
            ],
            "image/png": "[encoded data removed]"
          },
          "metadata": {}
        },
        {
          "output_type": "display_data",
          "data": {
            "text/plain": [
              "<Figure size 640x480 with 1 Axes>"
            ],
            "image/png": "[encoded data removed]"
          },
          "metadata": {}
        }
      ]
    },
    {
      "cell_type": "code",
      "source": [
        "model2.layers[-3].output_shape"
      ],
      "metadata": {
        "colab": {
          "base_uri": "https://localhost:8080/"
        },
        "id": "_f8hpURCl7hR",
        "outputId": "f0b992ee-9aa9-4f53-8494-c0e5bbbcd906"
      },
      "execution_count": 65,
      "outputs": [
        {
          "output_type": "execute_result",
          "data": {
            "text/plain": [
              "(None, 120)"
            ]
          },
          "metadata": {},
          "execution_count": 65
        }
      ]
    },
    {
      "cell_type": "code",
      "source": [
        "from tensorflow.keras.models import Model\n",
        "intermediate_layer_model = Model(inputs=model2.input, outputs=model2.layers[-3].output)"
      ],
      "metadata": {
        "id": "b1zih4Hzn4m3"
      },
      "execution_count": 68,
      "outputs": []
    },
    {
      "cell_type": "code",
      "source": [
        "embeddings_train = intermediate_layer_model.predict(X_train2)"
      ],
      "metadata": {
        "id": "riUQRIjqoOlH",
        "outputId": "12761d15-136d-45f0-a122-829af5f406b9",
        "colab": {
          "base_uri": "https://localhost:8080/"
        }
      },
      "execution_count": 70,
      "outputs": [
        {
          "output_type": "stream",
          "name": "stdout",
          "text": [
            "1750/1750 [==============================] - 16s 9ms/step\n"
          ]
        }
      ]
    },
    {
      "cell_type": "code",
      "source": [
        "Y_cattegorical = np.argmax(Y_train, axis=1)"
      ],
      "metadata": {
        "id": "afsyx4WVocf3"
      },
      "execution_count": 82,
      "outputs": []
    },
    {
      "cell_type": "code",
      "source": [
        "from sklearn.ensemble import RandomForestClassifier"
      ],
      "metadata": {
        "id": "99aqVPq4oyeW"
      },
      "execution_count": 84,
      "outputs": []
    },
    {
      "cell_type": "code",
      "source": [
        "model3 = RandomForestClassifier(n_estimators=20, random_state=42)\n",
        ""
      ],
      "metadata": {
        "id": "h09mN2ITpFaH"
      },
      "execution_count": 109,
      "outputs": []
    },
    {
      "cell_type": "code",
      "source": [
        "model3.fit(embeddings_train, Y_cattegorical)"
      ],
      "metadata": {
        "id": "M25hquspp1N-",
        "outputId": "cbd39002-f912-4be6-c337-b95b8450758d",
        "colab": {
          "base_uri": "https://localhost:8080/",
          "height": 75
        }
      },
      "execution_count": 110,
      "outputs": [
        {
          "output_type": "execute_result",
          "data": {
            "text/plain": [
              "RandomForestClassifier(n_estimators=20, random_state=42)"
            ],
            "text/html": [
              "<style>#sk-container-id-4 {color: black;background-color: white;}#sk-container-id-4 pre{padding: 0;}#sk-container-id-4 div.sk-toggleable {background-color: white;}#sk-container-id-4 label.sk-toggleable__label {cursor: pointer;display: block;width: 100%;margin-bottom: 0;padding: 0.3em;box-sizing: border-box;text-align: center;}#sk-container-id-4 label.sk-toggleable__label-arrow:before {content: \"▸\";float: left;margin-right: 0.25em;color: #696969;}#sk-container-id-4 label.sk-toggleable__label-arrow:hover:before {color: black;}#sk-container-id-4 div.sk-estimator:hover label.sk-toggleable__label-arrow:before {color: black;}#sk-container-id-4 div.sk-toggleable__content {max-height: 0;max-width: 0;overflow: hidden;text-align: left;background-color: #f0f8ff;}#sk-container-id-4 div.sk-toggleable__content pre {margin: 0.2em;color: black;border-radius: 0.25em;background-color: #f0f8ff;}#sk-container-id-4 input.sk-toggleable__control:checked~div.sk-toggleable__content {max-height: 200px;max-width: 100%;overflow: auto;}#sk-container-id-4 input.sk-toggleable__control:checked~label.sk-toggleable__label-arrow:before {content: \"▾\";}#sk-container-id-4 div.sk-estimator input.sk-toggleable__control:checked~label.sk-toggleable__label {background-color: #d4ebff;}#sk-container-id-4 div.sk-label input.sk-toggleable__control:checked~label.sk-toggleable__label {background-color: #d4ebff;}#sk-container-id-4 input.sk-hidden--visually {border: 0;clip: rect(1px 1px 1px 1px);clip: rect(1px, 1px, 1px, 1px);height: 1px;margin: -1px;overflow: hidden;padding: 0;position: absolute;width: 1px;}#sk-container-id-4 div.sk-estimator {font-family: monospace;background-color: #f0f8ff;border: 1px dotted black;border-radius: 0.25em;box-sizing: border-box;margin-bottom: 0.5em;}#sk-container-id-4 div.sk-estimator:hover {background-color: #d4ebff;}#sk-container-id-4 div.sk-parallel-item::after {content: \"\";width: 100%;border-bottom: 1px solid gray;flex-grow: 1;}#sk-container-id-4 div.sk-label:hover label.sk-toggleable__label {background-color: #d4ebff;}#sk-container-id-4 div.sk-serial::before {content: \"\";position: absolute;border-left: 1px solid gray;box-sizing: border-box;top: 0;bottom: 0;left: 50%;z-index: 0;}#sk-container-id-4 div.sk-serial {display: flex;flex-direction: column;align-items: center;background-color: white;padding-right: 0.2em;padding-left: 0.2em;position: relative;}#sk-container-id-4 div.sk-item {position: relative;z-index: 1;}#sk-container-id-4 div.sk-parallel {display: flex;align-items: stretch;justify-content: center;background-color: white;position: relative;}#sk-container-id-4 div.sk-item::before, #sk-container-id-4 div.sk-parallel-item::before {content: \"\";position: absolute;border-left: 1px solid gray;box-sizing: border-box;top: 0;bottom: 0;left: 50%;z-index: -1;}#sk-container-id-4 div.sk-parallel-item {display: flex;flex-direction: column;z-index: 1;position: relative;background-color: white;}#sk-container-id-4 div.sk-parallel-item:first-child::after {align-self: flex-end;width: 50%;}#sk-container-id-4 div.sk-parallel-item:last-child::after {align-self: flex-start;width: 50%;}#sk-container-id-4 div.sk-parallel-item:only-child::after {width: 0;}#sk-container-id-4 div.sk-dashed-wrapped {border: 1px dashed gray;margin: 0 0.4em 0.5em 0.4em;box-sizing: border-box;padding-bottom: 0.4em;background-color: white;}#sk-container-id-4 div.sk-label label {font-family: monospace;font-weight: bold;display: inline-block;line-height: 1.2em;}#sk-container-id-4 div.sk-label-container {text-align: center;}#sk-container-id-4 div.sk-container {/* jupyter's `normalize.less` sets `[hidden] { display: none; }` but bootstrap.min.css set `[hidden] { display: none !important; }` so we also need the `!important` here to be able to override the default hidden behavior on the sphinx rendered scikit-learn.org. See: https://github.com/scikit-learn/scikit-learn/issues/21755 */display: inline-block !important;position: relative;}#sk-container-id-4 div.sk-text-repr-fallback {display: none;}</style><div id=\"sk-container-id-4\" class=\"sk-top-container\"><div class=\"sk-text-repr-fallback\"><pre>RandomForestClassifier(n_estimators=20, random_state=42)</pre><b>In a Jupyter environment, please rerun this cell to show the HTML representation or trust the notebook. <br />On GitHub, the HTML representation is unable to render, please try loading this page with nbviewer.org.</b></div><div class=\"sk-container\" hidden><div class=\"sk-item\"><div class=\"sk-estimator sk-toggleable\"><input class=\"sk-toggleable__control sk-hidden--visually\" id=\"sk-estimator-id-4\" type=\"checkbox\" checked><label for=\"sk-estimator-id-4\" class=\"sk-toggleable__label sk-toggleable__label-arrow\">RandomForestClassifier</label><div class=\"sk-toggleable__content\"><pre>RandomForestClassifier(n_estimators=20, random_state=42)</pre></div></div></div></div></div>"
            ]
          },
          "metadata": {},
          "execution_count": 110
        }
      ]
    },
    {
      "cell_type": "code",
      "source": [
        "(model3.predict(embeddings_train)==Y_cattegorical).sum()/len(embeddings_train)"
      ],
      "metadata": {
        "id": "tQKTWBnip7ae",
        "outputId": "e31d854a-f419-47f6-ced5-224e2f068523",
        "colab": {
          "base_uri": "https://localhost:8080/"
        }
      },
      "execution_count": 111,
      "outputs": [
        {
          "output_type": "execute_result",
          "data": {
            "text/plain": [
              "0.9999464285714286"
            ]
          },
          "metadata": {},
          "execution_count": 111
        }
      ]
    },
    {
      "cell_type": "code",
      "source": [
        "model2.predict(X_train2)"
      ],
      "metadata": {
        "id": "SbdI5BrhqAqV",
        "outputId": "7c73a7f8-6b98-497a-91a4-2d8c2a346e36",
        "colab": {
          "base_uri": "https://localhost:8080/"
        }
      },
      "execution_count": 91,
      "outputs": [
        {
          "output_type": "stream",
          "name": "stdout",
          "text": [
            "1750/1750 [==============================] - 19s 11ms/step\n"
          ]
        },
        {
          "output_type": "execute_result",
          "data": {
            "text/plain": [
              "array([[9.8565027e-23, 9.3730989e-20, 1.5375574e-22, ..., 2.0224198e-25,\n",
              "        2.4608618e-17, 1.6159872e-15],\n",
              "       [2.3578757e-23, 2.6670932e-19, 3.6944033e-24, ..., 6.5668678e-17,\n",
              "        4.2593928e-16, 6.4157631e-13],\n",
              "       [2.0099083e-12, 8.8156652e-12, 1.2490681e-13, ..., 5.8332935e-12,\n",
              "        9.9999994e-01, 5.2265974e-12],\n",
              "       ...,\n",
              "       [2.3343052e-13, 9.9999994e-01, 4.1421258e-19, ..., 7.4327575e-12,\n",
              "        2.0417284e-11, 3.8537001e-14],\n",
              "       [9.9999994e-01, 2.7352814e-20, 4.0519769e-21, ..., 8.3502525e-22,\n",
              "        9.5837861e-26, 1.7229138e-24],\n",
              "       [9.9999994e-01, 5.3975596e-12, 2.2210727e-12, ..., 8.9670923e-15,\n",
              "        1.9941548e-14, 4.3633153e-15]], dtype=float32)"
            ]
          },
          "metadata": {},
          "execution_count": 91
        }
      ]
    },
    {
      "cell_type": "code",
      "source": [
        "%timeit model3.predict(embeddings_train)"
      ],
      "metadata": {
        "id": "iM6FXFZdqiX2",
        "outputId": "450a93bf-3ea4-441f-ac52-2e6fc0947e16",
        "colab": {
          "base_uri": "https://localhost:8080/"
        }
      },
      "execution_count": 113,
      "outputs": [
        {
          "output_type": "stream",
          "name": "stdout",
          "text": [
            "247 ms ± 17.6 ms per loop (mean ± std. dev. of 7 runs, 1 loop each)\n"
          ]
        }
      ]
    },
    {
      "cell_type": "code",
      "source": [
        "(model3.predict(intermediate_layer_model(X_test2))==np.argmax(Y_test, axis=1)).sum()/len(X_test2)"
      ],
      "metadata": {
        "id": "l2W5CdXeq2Cv",
        "outputId": "32fb6980-d8b8-408e-b796-913bed2cf181",
        "colab": {
          "base_uri": "https://localhost:8080/"
        }
      },
      "execution_count": 112,
      "outputs": [
        {
          "output_type": "execute_result",
          "data": {
            "text/plain": [
              "0.9881428571428571"
            ]
          },
          "metadata": {},
          "execution_count": 112
        }
      ]
    },
    {
      "cell_type": "code",
      "source": [
        "np.argmax(Y_test, axis=1)"
      ],
      "metadata": {
        "id": "0u0PvyFJrLYE",
        "outputId": "274ff896-f19c-4627-f8cb-95491081ccc4",
        "colab": {
          "base_uri": "https://localhost:8080/"
        }
      },
      "execution_count": 97,
      "outputs": [
        {
          "output_type": "execute_result",
          "data": {
            "text/plain": [
              "array([8, 4, 8, ..., 2, 7, 1])"
            ]
          },
          "metadata": {},
          "execution_count": 97
        }
      ]
    },
    {
      "cell_type": "code",
      "source": [],
      "metadata": {
        "id": "R57ghMckrbsM"
      },
      "execution_count": null,
      "outputs": []
    }
  ]
}