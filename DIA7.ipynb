{
 "cells": [
  {
   "cell_type": "markdown",
   "metadata": {
    "colab_type": "text",
    "id": "view-in-github"
   },
   "source": [
    "<a href=\"https://colab.research.google.com/github/mfilipak/FILIPAK-DATA-SCIENCE/blob/main/DIA7.ipynb\" target=\"_parent\"><img src=\"https://colab.research.google.com/assets/colab-badge.svg\" alt=\"Open In Colab\"/></a>"
   ]
  },
  {
   "cell_type": "code",
   "execution_count": 1,
   "metadata": {
    "colab": {
     "base_uri": "https://localhost:8080/"
    },
    "id": "1HCrffZNmWqM",
    "outputId": "cd5e3447-b8ec-483b-b87a-d5addd450643"
   },
   "outputs": [
    {
     "name": "stderr",
     "output_type": "stream",
     "text": [
      "'wget' nÆo ‚ reconhecido como um comando interno\n",
      "ou externo, um programa oper vel ou um arquivo em lotes.\n"
     ]
    }
   ],
   "source": [
    "!wget https://github.com/mfilipak/FILIPAK-DATA-SCIENCE/raw/main/DATA/2021_Time_Volume_Price.zip"
   ]
  },
  {
   "cell_type": "code",
   "execution_count": 2,
   "metadata": {
    "colab": {
     "base_uri": "https://localhost:8080/"
    },
    "id": "tVIv8DCqneuL",
    "outputId": "a4d55c4e-b7a5-446f-a1d6-107b4ec74247"
   },
   "outputs": [
    {
     "name": "stderr",
     "output_type": "stream",
     "text": [
      "'ls' nÆo ‚ reconhecido como um comando interno\n",
      "ou externo, um programa oper vel ou um arquivo em lotes.\n"
     ]
    }
   ],
   "source": [
    "!ls"
   ]
  },
  {
   "cell_type": "code",
   "execution_count": 106,
   "metadata": {
    "id": "ne-5VzSumuQ3"
   },
   "outputs": [],
   "source": [
    "import pandas as pd\n",
    "import matplotlib.pyplot as plt\n",
    "import numpy as np\n",
    "from glob import glob\n",
    "import os\n",
    "import cv2\n",
    "import random"
   ]
  },
  {
   "cell_type": "code",
   "execution_count": 75,
   "metadata": {
    "id": "dvqR__iKm043"
   },
   "outputs": [],
   "source": [
    "df = pd.read_csv(\"./2021_Time_Volume_Price.zip\", index_col=0)\n",
    "df = df.drop([\"MeanPrice\", \"MinPrice\", \"MaxPrice\", \"OpenPrice\"], axis=1)"
   ]
  },
  {
   "cell_type": "code",
   "execution_count": 76,
   "metadata": {
    "colab": {
     "base_uri": "https://localhost:8080/",
     "height": 455
    },
    "id": "Avlcn5wom77H",
    "outputId": "c8247f60-45f5-47a0-e598-5627a19d62b6"
   },
   "outputs": [
    {
     "data": {
      "text/html": [
       "<div>\n",
       "<style scoped>\n",
       "    .dataframe tbody tr th:only-of-type {\n",
       "        vertical-align: middle;\n",
       "    }\n",
       "\n",
       "    .dataframe tbody tr th {\n",
       "        vertical-align: top;\n",
       "    }\n",
       "\n",
       "    .dataframe thead th {\n",
       "        text-align: right;\n",
       "    }\n",
       "</style>\n",
       "<table border=\"1\" class=\"dataframe\">\n",
       "  <thead>\n",
       "    <tr style=\"text-align: right;\">\n",
       "      <th></th>\n",
       "      <th>Volume</th>\n",
       "      <th>ClosePrice</th>\n",
       "    </tr>\n",
       "    <tr>\n",
       "      <th>Seconds</th>\n",
       "      <th></th>\n",
       "      <th></th>\n",
       "    </tr>\n",
       "  </thead>\n",
       "  <tbody>\n",
       "    <tr>\n",
       "      <th>61045175.0</th>\n",
       "      <td>0.0</td>\n",
       "      <td>114590.0</td>\n",
       "    </tr>\n",
       "    <tr>\n",
       "      <th>61045176.0</th>\n",
       "      <td>0.0</td>\n",
       "      <td>114590.0</td>\n",
       "    </tr>\n",
       "    <tr>\n",
       "      <th>61045177.0</th>\n",
       "      <td>0.0</td>\n",
       "      <td>114590.0</td>\n",
       "    </tr>\n",
       "    <tr>\n",
       "      <th>61045178.0</th>\n",
       "      <td>0.0</td>\n",
       "      <td>114590.0</td>\n",
       "    </tr>\n",
       "    <tr>\n",
       "      <th>61045179.0</th>\n",
       "      <td>0.0</td>\n",
       "      <td>114590.0</td>\n",
       "    </tr>\n",
       "    <tr>\n",
       "      <th>...</th>\n",
       "      <td>...</td>\n",
       "      <td>...</td>\n",
       "    </tr>\n",
       "    <tr>\n",
       "      <th>72899705.0</th>\n",
       "      <td>0.0</td>\n",
       "      <td>121200.0</td>\n",
       "    </tr>\n",
       "    <tr>\n",
       "      <th>72899706.0</th>\n",
       "      <td>0.0</td>\n",
       "      <td>121200.0</td>\n",
       "    </tr>\n",
       "    <tr>\n",
       "      <th>72899707.0</th>\n",
       "      <td>0.0</td>\n",
       "      <td>121200.0</td>\n",
       "    </tr>\n",
       "    <tr>\n",
       "      <th>72899708.0</th>\n",
       "      <td>0.0</td>\n",
       "      <td>121200.0</td>\n",
       "    </tr>\n",
       "    <tr>\n",
       "      <th>72900218.0</th>\n",
       "      <td>10.0</td>\n",
       "      <td>121220.0</td>\n",
       "    </tr>\n",
       "  </tbody>\n",
       "</table>\n",
       "<p>2649168 rows × 2 columns</p>\n",
       "</div>"
      ],
      "text/plain": [
       "            Volume  ClosePrice\n",
       "Seconds                       \n",
       "61045175.0     0.0    114590.0\n",
       "61045176.0     0.0    114590.0\n",
       "61045177.0     0.0    114590.0\n",
       "61045178.0     0.0    114590.0\n",
       "61045179.0     0.0    114590.0\n",
       "...            ...         ...\n",
       "72899705.0     0.0    121200.0\n",
       "72899706.0     0.0    121200.0\n",
       "72899707.0     0.0    121200.0\n",
       "72899708.0     0.0    121200.0\n",
       "72900218.0    10.0    121220.0\n",
       "\n",
       "[2649168 rows x 2 columns]"
      ]
     },
     "execution_count": 76,
     "metadata": {},
     "output_type": "execute_result"
    }
   ],
   "source": [
    "df"
   ]
  },
  {
   "cell_type": "code",
   "execution_count": 77,
   "metadata": {
    "colab": {
     "base_uri": "https://localhost:8080/",
     "height": 896
    },
    "id": "PNVWDgV-oNU-",
    "outputId": "3daa3e17-74f9-44a8-d9a5-b743ef5f6972"
   },
   "outputs": [
    {
     "data": {
      "image/png": "[encoded data removed]",
      "text/plain": [
       "<Figure size 432x288 with 1 Axes>"
      ]
     },
     "metadata": {
      "needs_background": "light"
     },
     "output_type": "display_data"
    },
    {
     "data": {
      "text/plain": [
       "[<matplotlib.lines.Line2D at 0x21a8c0a7b88>]"
      ]
     },
     "execution_count": 77,
     "metadata": {},
     "output_type": "execute_result"
    },
    {
     "data": {
      "image/png": "[encoded data removed]",
      "text/plain": [
       "<Figure size 432x288 with 1 Axes>"
      ]
     },
     "metadata": {
      "needs_background": "light"
     },
     "output_type": "display_data"
    }
   ],
   "source": [
    "plt.plot(df[\"Volume\"])\n",
    "plt.show()\n",
    "plt.plot(df[\"ClosePrice\"])"
   ]
  },
  {
   "cell_type": "code",
   "execution_count": 78,
   "metadata": {
    "id": "uBB1bC91oP92"
   },
   "outputs": [],
   "source": [
    "delta_t = [0]+list(df.index[1:]-df.index[:-1])\n",
    "df[\"DELTA_T\"] = delta_t\n"
   ]
  },
  {
   "cell_type": "code",
   "execution_count": 79,
   "metadata": {
    "id": "8azBZsQLooce"
   },
   "outputs": [],
   "source": [
    "decay = 0.01\n",
    "mean_volume = [0]\n",
    "for v in np.array(df[\"Volume\"]):\n",
    "  mean_volume += [mean_volume[-1]*(1-decay)+decay*v]\n",
    "\n",
    "decay = 0.00001\n",
    "mean_price = [df.iloc[0][\"ClosePrice\"]]\n",
    "for p in np.array(df[\"ClosePrice\"]):\n",
    "  mean_price += [mean_price[-1]*(1-decay)+decay*p]\n",
    "\n",
    "\n"
   ]
  },
  {
   "cell_type": "code",
   "execution_count": 80,
   "metadata": {
    "id": "vxNWdqITwf_o"
   },
   "outputs": [
    {
     "data": {
      "text/html": [
       "<div>\n",
       "<style scoped>\n",
       "    .dataframe tbody tr th:only-of-type {\n",
       "        vertical-align: middle;\n",
       "    }\n",
       "\n",
       "    .dataframe tbody tr th {\n",
       "        vertical-align: top;\n",
       "    }\n",
       "\n",
       "    .dataframe thead th {\n",
       "        text-align: right;\n",
       "    }\n",
       "</style>\n",
       "<table border=\"1\" class=\"dataframe\">\n",
       "  <thead>\n",
       "    <tr style=\"text-align: right;\">\n",
       "      <th></th>\n",
       "      <th>Volume</th>\n",
       "      <th>ClosePrice</th>\n",
       "      <th>DELTA_T</th>\n",
       "      <th>MEAN_PRICE</th>\n",
       "      <th>MEAN_VOLUME</th>\n",
       "    </tr>\n",
       "    <tr>\n",
       "      <th>Seconds</th>\n",
       "      <th></th>\n",
       "      <th></th>\n",
       "      <th></th>\n",
       "      <th></th>\n",
       "      <th></th>\n",
       "    </tr>\n",
       "  </thead>\n",
       "  <tbody>\n",
       "    <tr>\n",
       "      <th>61045175.0</th>\n",
       "      <td>0.0</td>\n",
       "      <td>114590.0</td>\n",
       "      <td>0.0</td>\n",
       "      <td>114590.000000</td>\n",
       "      <td>0.000000</td>\n",
       "    </tr>\n",
       "    <tr>\n",
       "      <th>61045176.0</th>\n",
       "      <td>0.0</td>\n",
       "      <td>114590.0</td>\n",
       "      <td>1.0</td>\n",
       "      <td>114590.000000</td>\n",
       "      <td>0.000000</td>\n",
       "    </tr>\n",
       "    <tr>\n",
       "      <th>61045177.0</th>\n",
       "      <td>0.0</td>\n",
       "      <td>114590.0</td>\n",
       "      <td>1.0</td>\n",
       "      <td>114590.000000</td>\n",
       "      <td>0.000000</td>\n",
       "    </tr>\n",
       "    <tr>\n",
       "      <th>61045178.0</th>\n",
       "      <td>0.0</td>\n",
       "      <td>114590.0</td>\n",
       "      <td>1.0</td>\n",
       "      <td>114590.000000</td>\n",
       "      <td>0.000000</td>\n",
       "    </tr>\n",
       "    <tr>\n",
       "      <th>61045179.0</th>\n",
       "      <td>0.0</td>\n",
       "      <td>114590.0</td>\n",
       "      <td>1.0</td>\n",
       "      <td>114590.000000</td>\n",
       "      <td>0.000000</td>\n",
       "    </tr>\n",
       "    <tr>\n",
       "      <th>...</th>\n",
       "      <td>...</td>\n",
       "      <td>...</td>\n",
       "      <td>...</td>\n",
       "      <td>...</td>\n",
       "      <td>...</td>\n",
       "    </tr>\n",
       "    <tr>\n",
       "      <th>72899705.0</th>\n",
       "      <td>0.0</td>\n",
       "      <td>121200.0</td>\n",
       "      <td>1.0</td>\n",
       "      <td>118761.903649</td>\n",
       "      <td>1.988666</td>\n",
       "    </tr>\n",
       "    <tr>\n",
       "      <th>72899706.0</th>\n",
       "      <td>0.0</td>\n",
       "      <td>121200.0</td>\n",
       "      <td>1.0</td>\n",
       "      <td>118761.928030</td>\n",
       "      <td>1.968779</td>\n",
       "    </tr>\n",
       "    <tr>\n",
       "      <th>72899707.0</th>\n",
       "      <td>0.0</td>\n",
       "      <td>121200.0</td>\n",
       "      <td>1.0</td>\n",
       "      <td>118761.952411</td>\n",
       "      <td>1.949092</td>\n",
       "    </tr>\n",
       "    <tr>\n",
       "      <th>72899708.0</th>\n",
       "      <td>0.0</td>\n",
       "      <td>121200.0</td>\n",
       "      <td>1.0</td>\n",
       "      <td>118761.976791</td>\n",
       "      <td>1.929601</td>\n",
       "    </tr>\n",
       "    <tr>\n",
       "      <th>72900218.0</th>\n",
       "      <td>10.0</td>\n",
       "      <td>121220.0</td>\n",
       "      <td>510.0</td>\n",
       "      <td>118762.001371</td>\n",
       "      <td>2.010305</td>\n",
       "    </tr>\n",
       "  </tbody>\n",
       "</table>\n",
       "<p>2649168 rows × 5 columns</p>\n",
       "</div>"
      ],
      "text/plain": [
       "            Volume  ClosePrice  DELTA_T     MEAN_PRICE  MEAN_VOLUME\n",
       "Seconds                                                            \n",
       "61045175.0     0.0    114590.0      0.0  114590.000000     0.000000\n",
       "61045176.0     0.0    114590.0      1.0  114590.000000     0.000000\n",
       "61045177.0     0.0    114590.0      1.0  114590.000000     0.000000\n",
       "61045178.0     0.0    114590.0      1.0  114590.000000     0.000000\n",
       "61045179.0     0.0    114590.0      1.0  114590.000000     0.000000\n",
       "...            ...         ...      ...            ...          ...\n",
       "72899705.0     0.0    121200.0      1.0  118761.903649     1.988666\n",
       "72899706.0     0.0    121200.0      1.0  118761.928030     1.968779\n",
       "72899707.0     0.0    121200.0      1.0  118761.952411     1.949092\n",
       "72899708.0     0.0    121200.0      1.0  118761.976791     1.929601\n",
       "72900218.0    10.0    121220.0    510.0  118762.001371     2.010305\n",
       "\n",
       "[2649168 rows x 5 columns]"
      ]
     },
     "execution_count": 80,
     "metadata": {},
     "output_type": "execute_result"
    }
   ],
   "source": [
    "df[\"MEAN_PRICE\"] = mean_price[1:]\n",
    "df[\"MEAN_VOLUME\"] = mean_volume[1:]\n",
    "df"
   ]
  },
  {
   "cell_type": "code",
   "execution_count": 81,
   "metadata": {
    "colab": {
     "base_uri": "https://localhost:8080/",
     "height": 465
    },
    "id": "UsQriBWau-Ke",
    "outputId": "f32efbba-2d1a-4b36-ec9b-0898761750c6"
   },
   "outputs": [
    {
     "data": {
      "text/plain": [
       "[<matplotlib.lines.Line2D at 0x21a8c515208>]"
      ]
     },
     "execution_count": 81,
     "metadata": {},
     "output_type": "execute_result"
    },
    {
     "data": {
      "image/png": "[encoded data removed]",
      "text/plain": [
       "<Figure size 432x288 with 1 Axes>"
      ]
     },
     "metadata": {
      "needs_background": "light"
     },
     "output_type": "display_data"
    }
   ],
   "source": [
    "plt.plot(df[\"MEAN_PRICE\"])\n",
    "plt.plot(df[\"ClosePrice\"])"
   ]
  },
  {
   "cell_type": "code",
   "execution_count": 82,
   "metadata": {
    "colab": {
     "base_uri": "https://localhost:8080/",
     "height": 465
    },
    "id": "_UMrMUMiw9gL",
    "outputId": "8f4f6d4b-628a-4113-c132-b279b58e1bc0"
   },
   "outputs": [
    {
     "data": {
      "text/plain": [
       "[<matplotlib.lines.Line2D at 0x21a8c51f188>]"
      ]
     },
     "execution_count": 82,
     "metadata": {},
     "output_type": "execute_result"
    },
    {
     "data": {
      "image/png": "[encoded data removed]",
      "text/plain": [
       "<Figure size 432x288 with 1 Axes>"
      ]
     },
     "metadata": {
      "needs_background": "light"
     },
     "output_type": "display_data"
    }
   ],
   "source": [
    "plt.yscale(\"log\")\n",
    "plt.plot(df[\"MEAN_VOLUME\"])\n",
    "plt.plot(df[\"Volume\"], alpha=0.5)"
   ]
  },
  {
   "cell_type": "code",
   "execution_count": 108,
   "metadata": {
    "colab": {
     "base_uri": "https://localhost:8080/",
     "height": 455
    },
    "id": "x-Z7neXzqx7j",
    "outputId": "035a7c07-c0e7-4236-ec2c-c651f785b7ff"
   },
   "outputs": [
    {
     "data": {
      "application/vnd.google.colaboratory.intrinsic+json": {
       "type": "dataframe",
       "variable_name": "df"
      },
      "text/html": [
       "\n",
       "  <div id=\"df-3b46e132-eeca-4ddf-b0c9-4cd4411ce06a\" class=\"colab-df-container\">\n",
       "    <div>\n",
       "<style scoped>\n",
       "    .dataframe tbody tr th:only-of-type {\n",
       "        vertical-align: middle;\n",
       "    }\n",
       "\n",
       "    .dataframe tbody tr th {\n",
       "        vertical-align: top;\n",
       "    }\n",
       "\n",
       "    .dataframe thead th {\n",
       "        text-align: right;\n",
       "    }\n",
       "</style>\n",
       "<table border=\"1\" class=\"dataframe\">\n",
       "  <thead>\n",
       "    <tr style=\"text-align: right;\">\n",
       "      <th></th>\n",
       "      <th>Volume</th>\n",
       "      <th>ClosePrice</th>\n",
       "      <th>DELTA_T</th>\n",
       "      <th>MEAN_PRICE</th>\n",
       "      <th>MEAN_VOLUME</th>\n",
       "    </tr>\n",
       "    <tr>\n",
       "      <th>Seconds</th>\n",
       "      <th></th>\n",
       "      <th></th>\n",
       "      <th></th>\n",
       "      <th></th>\n",
       "      <th></th>\n",
       "    </tr>\n",
       "  </thead>\n",
       "  <tbody>\n",
       "    <tr>\n",
       "      <th>61045175.0</th>\n",
       "      <td>0.0</td>\n",
       "      <td>114590.0</td>\n",
       "      <td>0.0</td>\n",
       "      <td>114590.000000</td>\n",
       "      <td>0.000000</td>\n",
       "    </tr>\n",
       "    <tr>\n",
       "      <th>61045176.0</th>\n",
       "      <td>0.0</td>\n",
       "      <td>114590.0</td>\n",
       "      <td>1.0</td>\n",
       "      <td>114590.000000</td>\n",
       "      <td>0.000000</td>\n",
       "    </tr>\n",
       "    <tr>\n",
       "      <th>61045177.0</th>\n",
       "      <td>0.0</td>\n",
       "      <td>114590.0</td>\n",
       "      <td>1.0</td>\n",
       "      <td>114590.000000</td>\n",
       "      <td>0.000000</td>\n",
       "    </tr>\n",
       "    <tr>\n",
       "      <th>61045178.0</th>\n",
       "      <td>0.0</td>\n",
       "      <td>114590.0</td>\n",
       "      <td>1.0</td>\n",
       "      <td>114590.000000</td>\n",
       "      <td>0.000000</td>\n",
       "    </tr>\n",
       "    <tr>\n",
       "      <th>61045179.0</th>\n",
       "      <td>0.0</td>\n",
       "      <td>114590.0</td>\n",
       "      <td>1.0</td>\n",
       "      <td>114590.000000</td>\n",
       "      <td>0.000000</td>\n",
       "    </tr>\n",
       "    <tr>\n",
       "      <th>...</th>\n",
       "      <td>...</td>\n",
       "      <td>...</td>\n",
       "      <td>...</td>\n",
       "      <td>...</td>\n",
       "      <td>...</td>\n",
       "    </tr>\n",
       "    <tr>\n",
       "      <th>72899705.0</th>\n",
       "      <td>0.0</td>\n",
       "      <td>121200.0</td>\n",
       "      <td>1.0</td>\n",
       "      <td>118761.903649</td>\n",
       "      <td>1.988666</td>\n",
       "    </tr>\n",
       "    <tr>\n",
       "      <th>72899706.0</th>\n",
       "      <td>0.0</td>\n",
       "      <td>121200.0</td>\n",
       "      <td>1.0</td>\n",
       "      <td>118761.928030</td>\n",
       "      <td>1.968779</td>\n",
       "    </tr>\n",
       "    <tr>\n",
       "      <th>72899707.0</th>\n",
       "      <td>0.0</td>\n",
       "      <td>121200.0</td>\n",
       "      <td>1.0</td>\n",
       "      <td>118761.952411</td>\n",
       "      <td>1.949092</td>\n",
       "    </tr>\n",
       "    <tr>\n",
       "      <th>72899708.0</th>\n",
       "      <td>0.0</td>\n",
       "      <td>121200.0</td>\n",
       "      <td>1.0</td>\n",
       "      <td>118761.976791</td>\n",
       "      <td>1.929601</td>\n",
       "    </tr>\n",
       "    <tr>\n",
       "      <th>72900218.0</th>\n",
       "      <td>10.0</td>\n",
       "      <td>121220.0</td>\n",
       "      <td>510.0</td>\n",
       "      <td>118762.001371</td>\n",
       "      <td>2.010305</td>\n",
       "    </tr>\n",
       "  </tbody>\n",
       "</table>\n",
       "<p>2649168 rows × 5 columns</p>\n",
       "</div>\n",
       "    <div class=\"colab-df-buttons\">\n",
       "\n",
       "  <div class=\"colab-df-container\">\n",
       "    <button class=\"colab-df-convert\" onclick=\"convertToInteractive('df-3b46e132-eeca-4ddf-b0c9-4cd4411ce06a')\"\n",
       "            title=\"Convert this dataframe to an interactive table.\"\n",
       "            style=\"display:none;\">\n",
       "\n",
       "  <svg xmlns=\"http://www.w3.org/2000/svg\" height=\"24px\" viewBox=\"0 -960 960 960\">\n",
       "    <path d=\"M120-120v-720h720v720H120Zm60-500h600v-160H180v160Zm220 220h160v-160H400v160Zm0 220h160v-160H400v160ZM180-400h160v-160H180v160Zm440 0h160v-160H620v160ZM180-180h160v-160H180v160Zm440 0h160v-160H620v160Z\"/>\n",
       "  </svg>\n",
       "    </button>\n",
       "\n",
       "  <style>\n",
       "    .colab-df-container {\n",
       "      display:flex;\n",
       "      gap: 12px;\n",
       "    }\n",
       "\n",
       "    .colab-df-convert {\n",
       "      background-color: #E8F0FE;\n",
       "      border: none;\n",
       "      border-radius: 50%;\n",
       "      cursor: pointer;\n",
       "      display: none;\n",
       "      fill: #1967D2;\n",
       "      height: 32px;\n",
       "      padding: 0 0 0 0;\n",
       "      width: 32px;\n",
       "    }\n",
       "\n",
       "    .colab-df-convert:hover {\n",
       "      background-color: #E2EBFA;\n",
       "      box-shadow: 0px 1px 2px rgba(60, 64, 67, 0.3), 0px 1px 3px 1px rgba(60, 64, 67, 0.15);\n",
       "      fill: #174EA6;\n",
       "    }\n",
       "\n",
       "    .colab-df-buttons div {\n",
       "      margin-bottom: 4px;\n",
       "    }\n",
       "\n",
       "    [theme=dark] .colab-df-convert {\n",
       "      background-color: #3B4455;\n",
       "      fill: #D2E3FC;\n",
       "    }\n",
       "\n",
       "    [theme=dark] .colab-df-convert:hover {\n",
       "      background-color: #434B5C;\n",
       "      box-shadow: 0px 1px 3px 1px rgba(0, 0, 0, 0.15);\n",
       "      filter: drop-shadow(0px 1px 2px rgba(0, 0, 0, 0.3));\n",
       "      fill: #FFFFFF;\n",
       "    }\n",
       "  </style>\n",
       "\n",
       "    <script>\n",
       "      const buttonEl =\n",
       "        document.querySelector('#df-3b46e132-eeca-4ddf-b0c9-4cd4411ce06a button.colab-df-convert');\n",
       "      buttonEl.style.display =\n",
       "        google.colab.kernel.accessAllowed ? 'block' : 'none';\n",
       "\n",
       "      async function convertToInteractive(key) {\n",
       "        const element = document.querySelector('#df-3b46e132-eeca-4ddf-b0c9-4cd4411ce06a');\n",
       "        const dataTable =\n",
       "          await google.colab.kernel.invokeFunction('convertToInteractive',\n",
       "                                                    [key], {});\n",
       "        if (!dataTable) return;\n",
       "\n",
       "        const docLinkHtml = 'Like what you see? Visit the ' +\n",
       "          '<a target=\"_blank\" href=https://colab.research.google.com/notebooks/data_table.ipynb>data table notebook</a>'\n",
       "          + ' to learn more about interactive tables.';\n",
       "        element.innerHTML = '';\n",
       "        dataTable['output_type'] = 'display_data';\n",
       "        await google.colab.output.renderOutput(dataTable, element);\n",
       "        const docLink = document.createElement('div');\n",
       "        docLink.innerHTML = docLinkHtml;\n",
       "        element.appendChild(docLink);\n",
       "      }\n",
       "    </script>\n",
       "  </div>\n",
       "\n",
       "\n",
       "<div id=\"df-7d291769-b79a-410a-9059-a968e9d6c413\">\n",
       "  <button class=\"colab-df-quickchart\" onclick=\"quickchart('df-7d291769-b79a-410a-9059-a968e9d6c413')\"\n",
       "            title=\"Suggest charts\"\n",
       "            style=\"display:none;\">\n",
       "\n",
       "<svg xmlns=\"http://www.w3.org/2000/svg\" height=\"24px\"viewBox=\"0 0 24 24\"\n",
       "     width=\"24px\">\n",
       "    <g>\n",
       "        <path d=\"M19 3H5c-1.1 0-2 .9-2 2v14c0 1.1.9 2 2 2h14c1.1 0 2-.9 2-2V5c0-1.1-.9-2-2-2zM9 17H7v-7h2v7zm4 0h-2V7h2v10zm4 0h-2v-4h2v4z\"/>\n",
       "    </g>\n",
       "</svg>\n",
       "  </button>\n",
       "\n",
       "<style>\n",
       "  .colab-df-quickchart {\n",
       "      --bg-color: #E8F0FE;\n",
       "      --fill-color: #1967D2;\n",
       "      --hover-bg-color: #E2EBFA;\n",
       "      --hover-fill-color: #174EA6;\n",
       "      --disabled-fill-color: #AAA;\n",
       "      --disabled-bg-color: #DDD;\n",
       "  }\n",
       "\n",
       "  [theme=dark] .colab-df-quickchart {\n",
       "      --bg-color: #3B4455;\n",
       "      --fill-color: #D2E3FC;\n",
       "      --hover-bg-color: #434B5C;\n",
       "      --hover-fill-color: #FFFFFF;\n",
       "      --disabled-bg-color: #3B4455;\n",
       "      --disabled-fill-color: #666;\n",
       "  }\n",
       "\n",
       "  .colab-df-quickchart {\n",
       "    background-color: var(--bg-color);\n",
       "    border: none;\n",
       "    border-radius: 50%;\n",
       "    cursor: pointer;\n",
       "    display: none;\n",
       "    fill: var(--fill-color);\n",
       "    height: 32px;\n",
       "    padding: 0;\n",
       "    width: 32px;\n",
       "  }\n",
       "\n",
       "  .colab-df-quickchart:hover {\n",
       "    background-color: var(--hover-bg-color);\n",
       "    box-shadow: 0 1px 2px rgba(60, 64, 67, 0.3), 0 1px 3px 1px rgba(60, 64, 67, 0.15);\n",
       "    fill: var(--button-hover-fill-color);\n",
       "  }\n",
       "\n",
       "  .colab-df-quickchart-complete:disabled,\n",
       "  .colab-df-quickchart-complete:disabled:hover {\n",
       "    background-color: var(--disabled-bg-color);\n",
       "    fill: var(--disabled-fill-color);\n",
       "    box-shadow: none;\n",
       "  }\n",
       "\n",
       "  .colab-df-spinner {\n",
       "    border: 2px solid var(--fill-color);\n",
       "    border-color: transparent;\n",
       "    border-bottom-color: var(--fill-color);\n",
       "    animation:\n",
       "      spin 1s steps(1) infinite;\n",
       "  }\n",
       "\n",
       "  @keyframes spin {\n",
       "    0% {\n",
       "      border-color: transparent;\n",
       "      border-bottom-color: var(--fill-color);\n",
       "      border-left-color: var(--fill-color);\n",
       "    }\n",
       "    20% {\n",
       "      border-color: transparent;\n",
       "      border-left-color: var(--fill-color);\n",
       "      border-top-color: var(--fill-color);\n",
       "    }\n",
       "    30% {\n",
       "      border-color: transparent;\n",
       "      border-left-color: var(--fill-color);\n",
       "      border-top-color: var(--fill-color);\n",
       "      border-right-color: var(--fill-color);\n",
       "    }\n",
       "    40% {\n",
       "      border-color: transparent;\n",
       "      border-right-color: var(--fill-color);\n",
       "      border-top-color: var(--fill-color);\n",
       "    }\n",
       "    60% {\n",
       "      border-color: transparent;\n",
       "      border-right-color: var(--fill-color);\n",
       "    }\n",
       "    80% {\n",
       "      border-color: transparent;\n",
       "      border-right-color: var(--fill-color);\n",
       "      border-bottom-color: var(--fill-color);\n",
       "    }\n",
       "    90% {\n",
       "      border-color: transparent;\n",
       "      border-bottom-color: var(--fill-color);\n",
       "    }\n",
       "  }\n",
       "</style>\n",
       "\n",
       "  <script>\n",
       "    async function quickchart(key) {\n",
       "      const quickchartButtonEl =\n",
       "        document.querySelector('#' + key + ' button');\n",
       "      quickchartButtonEl.disabled = true;  // To prevent multiple clicks.\n",
       "      quickchartButtonEl.classList.add('colab-df-spinner');\n",
       "      try {\n",
       "        const charts = await google.colab.kernel.invokeFunction(\n",
       "            'suggestCharts', [key], {});\n",
       "      } catch (error) {\n",
       "        console.error('Error during call to suggestCharts:', error);\n",
       "      }\n",
       "      quickchartButtonEl.classList.remove('colab-df-spinner');\n",
       "      quickchartButtonEl.classList.add('colab-df-quickchart-complete');\n",
       "    }\n",
       "    (() => {\n",
       "      let quickchartButtonEl =\n",
       "        document.querySelector('#df-7d291769-b79a-410a-9059-a968e9d6c413 button');\n",
       "      quickchartButtonEl.style.display =\n",
       "        google.colab.kernel.accessAllowed ? 'block' : 'none';\n",
       "    })();\n",
       "  </script>\n",
       "</div>\n",
       "\n",
       "  <div id=\"id_5c62338a-1afb-49f0-8994-f5f87f16720c\">\n",
       "    <style>\n",
       "      .colab-df-generate {\n",
       "        background-color: #E8F0FE;\n",
       "        border: none;\n",
       "        border-radius: 50%;\n",
       "        cursor: pointer;\n",
       "        display: none;\n",
       "        fill: #1967D2;\n",
       "        height: 32px;\n",
       "        padding: 0 0 0 0;\n",
       "        width: 32px;\n",
       "      }\n",
       "\n",
       "      .colab-df-generate:hover {\n",
       "        background-color: #E2EBFA;\n",
       "        box-shadow: 0px 1px 2px rgba(60, 64, 67, 0.3), 0px 1px 3px 1px rgba(60, 64, 67, 0.15);\n",
       "        fill: #174EA6;\n",
       "      }\n",
       "\n",
       "      [theme=dark] .colab-df-generate {\n",
       "        background-color: #3B4455;\n",
       "        fill: #D2E3FC;\n",
       "      }\n",
       "\n",
       "      [theme=dark] .colab-df-generate:hover {\n",
       "        background-color: #434B5C;\n",
       "        box-shadow: 0px 1px 3px 1px rgba(0, 0, 0, 0.15);\n",
       "        filter: drop-shadow(0px 1px 2px rgba(0, 0, 0, 0.3));\n",
       "        fill: #FFFFFF;\n",
       "      }\n",
       "    </style>\n",
       "    <button class=\"colab-df-generate\" onclick=\"generateWithVariable('df')\"\n",
       "            title=\"Generate code using this dataframe.\"\n",
       "            style=\"display:none;\">\n",
       "\n",
       "  <svg xmlns=\"http://www.w3.org/2000/svg\" height=\"24px\"viewBox=\"0 0 24 24\"\n",
       "       width=\"24px\">\n",
       "    <path d=\"M7,19H8.4L18.45,9,17,7.55,7,17.6ZM5,21V16.75L18.45,3.32a2,2,0,0,1,2.83,0l1.4,1.43a1.91,1.91,0,0,1,.58,1.4,1.91,1.91,0,0,1-.58,1.4L9.25,21ZM18.45,9,17,7.55Zm-12,3A5.31,5.31,0,0,0,4.9,8.1,5.31,5.31,0,0,0,1,6.5,5.31,5.31,0,0,0,4.9,4.9,5.31,5.31,0,0,0,6.5,1,5.31,5.31,0,0,0,8.1,4.9,5.31,5.31,0,0,0,12,6.5,5.46,5.46,0,0,0,6.5,12Z\"/>\n",
       "  </svg>\n",
       "    </button>\n",
       "    <script>\n",
       "      (() => {\n",
       "      const buttonEl =\n",
       "        document.querySelector('#id_5c62338a-1afb-49f0-8994-f5f87f16720c button.colab-df-generate');\n",
       "      buttonEl.style.display =\n",
       "        google.colab.kernel.accessAllowed ? 'block' : 'none';\n",
       "\n",
       "      buttonEl.onclick = () => {\n",
       "        google.colab.notebook.generateWithVariable('df');\n",
       "      }\n",
       "      })();\n",
       "    </script>\n",
       "  </div>\n",
       "\n",
       "    </div>\n",
       "  </div>\n"
      ],
      "text/plain": [
       "            Volume  ClosePrice  DELTA_T     MEAN_PRICE  MEAN_VOLUME\n",
       "Seconds                                                            \n",
       "61045175.0     0.0    114590.0      0.0  114590.000000     0.000000\n",
       "61045176.0     0.0    114590.0      1.0  114590.000000     0.000000\n",
       "61045177.0     0.0    114590.0      1.0  114590.000000     0.000000\n",
       "61045178.0     0.0    114590.0      1.0  114590.000000     0.000000\n",
       "61045179.0     0.0    114590.0      1.0  114590.000000     0.000000\n",
       "...            ...         ...      ...            ...          ...\n",
       "72899705.0     0.0    121200.0      1.0  118761.903649     1.988666\n",
       "72899706.0     0.0    121200.0      1.0  118761.928030     1.968779\n",
       "72899707.0     0.0    121200.0      1.0  118761.952411     1.949092\n",
       "72899708.0     0.0    121200.0      1.0  118761.976791     1.929601\n",
       "72900218.0    10.0    121220.0    510.0  118762.001371     2.010305\n",
       "\n",
       "[2649168 rows x 5 columns]"
      ]
     },
     "execution_count": 108,
     "metadata": {},
     "output_type": "execute_result"
    }
   ],
   "source": [
    "df"
   ]
  },
  {
   "cell_type": "code",
   "execution_count": 83,
   "metadata": {
    "colab": {
     "base_uri": "https://localhost:8080/",
     "height": 455
    },
    "id": "gmJw0uBBsNDO",
    "outputId": "f997a81c-447e-467f-ac0a-49ff5de69c84"
   },
   "outputs": [
    {
     "data": {
      "text/plain": [
       "(2649168, 5)"
      ]
     },
     "execution_count": 83,
     "metadata": {},
     "output_type": "execute_result"
    }
   ],
   "source": [
    "data = df.to_numpy().copy()\n",
    "data.shape"
   ]
  },
  {
   "cell_type": "code",
   "execution_count": 84,
   "metadata": {},
   "outputs": [
    {
     "data": {
      "text/plain": [
       "(array([[3.07000000e+03, 1.25440000e+05, 4.12148000e+05, 1.22677965e+05,\n",
       "         3.34229098e+01]]),\n",
       " array([[     0.        , 107350.        ,      0.        ,\n",
       "         111930.82176845,      0.        ]]))"
      ]
     },
     "execution_count": 84,
     "metadata": {},
     "output_type": "execute_result"
    }
   ],
   "source": [
    "min_vals = data.min(axis=0, keepdims=True)\n",
    "max_vals = data.max(axis=0, keepdims=True)\n",
    "min_vals.shape\n",
    "max_vals, min_vals"
   ]
  },
  {
   "cell_type": "code",
   "execution_count": 85,
   "metadata": {},
   "outputs": [
    {
     "data": {
      "text/plain": [
       "'Volume'"
      ]
     },
     "execution_count": 85,
     "metadata": {},
     "output_type": "execute_result"
    }
   ],
   "source": [
    "df.columns[0]"
   ]
  },
  {
   "cell_type": "code",
   "execution_count": 86,
   "metadata": {},
   "outputs": [
    {
     "data": {
      "image/png": "[encoded data removed]",
      "text/plain": [
       "<Figure size 432x288 with 1 Axes>"
      ]
     },
     "metadata": {
      "needs_background": "light"
     },
     "output_type": "display_data"
    },
    {
     "data": {
      "image/png": "[encoded data removed]",
      "text/plain": [
       "<Figure size 432x288 with 1 Axes>"
      ]
     },
     "metadata": {
      "needs_background": "light"
     },
     "output_type": "display_data"
    },
    {
     "data": {
      "image/png": "[encoded data removed]",
      "text/plain": [
       "<Figure size 432x288 with 1 Axes>"
      ]
     },
     "metadata": {
      "needs_background": "light"
     },
     "output_type": "display_data"
    },
    {
     "data": {
      "image/png": "[encoded data removed]",
      "text/plain": [
       "<Figure size 432x288 with 1 Axes>"
      ]
     },
     "metadata": {
      "needs_background": "light"
     },
     "output_type": "display_data"
    },
    {
     "data": {
      "image/png": "[encoded data removed]",
      "text/plain": [
       "<Figure size 432x288 with 1 Axes>"
      ]
     },
     "metadata": {
      "needs_background": "light"
     },
     "output_type": "display_data"
    }
   ],
   "source": [
    "for i in range(5):\n",
    "    plt.title(str(i) + \" \"+df.columns[i])\n",
    "    plt.hist(data[...,i], 50)\n",
    "    plt.yscale(\"log\")\n",
    "    plt.show()"
   ]
  },
  {
   "cell_type": "code",
   "execution_count": 87,
   "metadata": {},
   "outputs": [
    {
     "data": {
      "image/png": "[encoded data removed]",
      "text/plain": [
       "<Figure size 432x288 with 1 Axes>"
      ]
     },
     "metadata": {
      "needs_background": "light"
     },
     "output_type": "display_data"
    }
   ],
   "source": [
    "plt.title(data[...,0].mean())\n",
    "plt.hist( np.clip(data[...,0], 0, 500), 50)\n",
    "plt.yscale(\"log\")\n",
    "plt.show()"
   ]
  },
  {
   "cell_type": "code",
   "execution_count": null,
   "metadata": {},
   "outputs": [],
   "source": [
    "# Normalização dos dados\n",
    "# Volume: média=1\n",
    "# ClosePrice: minmax\n",
    "# Delta_t: Sem normalização\n",
    "# Mean_price: minmax (na escala do ClosePrice)\n",
    "# Mean_Volume: média=1 (na escala do Volume)"
   ]
  },
  {
   "cell_type": "code",
   "execution_count": 90,
   "metadata": {},
   "outputs": [
    {
     "name": "stdout",
     "output_type": "stream",
     "text": [
      "3.1689164296111083\n"
     ]
    }
   ],
   "source": [
    "data = df.to_numpy().copy()\n",
    "\n",
    "#Volumes:\n",
    "mean_volumes = data[...,0].mean().copy()\n",
    "print(mean_volumes)\n",
    "data[...,0] = data[...,0]/mean_volumes\n",
    "data[...,4] = data[...,4]/mean_volumes\n",
    "\n",
    "#Prices:\n",
    "max_price = data[...,1].max()\n",
    "min_price = data[...,1].min()\n",
    "data[...,1] = (data[...,1]-min_price)/(max_price-min_price)\n",
    "data[...,3] = (data[...,3]-min_price)/(max_price-min_price)\n"
   ]
  },
  {
   "cell_type": "code",
   "execution_count": 95,
   "metadata": {},
   "outputs": [
    {
     "data": {
      "image/png": "[encoded data removed]",
      "text/plain": [
       "<Figure size 432x288 with 1 Axes>"
      ]
     },
     "metadata": {
      "needs_background": "light"
     },
     "output_type": "display_data"
    },
    {
     "data": {
      "image/png": "[encoded data removed]",
      "text/plain": [
       "<Figure size 432x288 with 1 Axes>"
      ]
     },
     "metadata": {
      "needs_background": "light"
     },
     "output_type": "display_data"
    },
    {
     "data": {
      "image/png": "[encoded data removed]",
      "text/plain": [
       "<Figure size 432x288 with 1 Axes>"
      ]
     },
     "metadata": {
      "needs_background": "light"
     },
     "output_type": "display_data"
    },
    {
     "data": {
      "image/png": "[encoded data removed]",
      "text/plain": [
       "<Figure size 432x288 with 1 Axes>"
      ]
     },
     "metadata": {
      "needs_background": "light"
     },
     "output_type": "display_data"
    },
    {
     "data": {
      "image/png": "[encoded data removed]",
      "text/plain": [
       "<Figure size 432x288 with 1 Axes>"
      ]
     },
     "metadata": {
      "needs_background": "light"
     },
     "output_type": "display_data"
    }
   ],
   "source": [
    "for i in range(5):\n",
    "    plt.title(str(i) + \" \"+df.columns[i] + \"\\n\" + f\"{data[...,i].mean():.2f}\")\n",
    "    plt.hist(data[...,i], 50)\n",
    "    plt.yscale(\"log\")\n",
    "    plt.show()"
   ]
  },
  {
   "cell_type": "code",
   "execution_count": 100,
   "metadata": {},
   "outputs": [
    {
     "data": {
      "text/plain": [
       "(2384251, 264917)"
      ]
     },
     "execution_count": 100,
     "metadata": {},
     "output_type": "execute_result"
    }
   ],
   "source": [
    "cut = int(len(data)*0.9)\n",
    "data_train = data[:cut]\n",
    "data_test = data[cut:]\n",
    "len(data_train), len(data_test)"
   ]
  },
  {
   "cell_type": "code",
   "execution_count": 108,
   "metadata": {},
   "outputs": [
    {
     "data": {
      "text/plain": [
       "1"
      ]
     },
     "execution_count": 108,
     "metadata": {},
     "output_type": "execute_result"
    }
   ],
   "source": [
    "random.randint(1,5)"
   ]
  },
  {
   "cell_type": "code",
   "execution_count": 404,
   "metadata": {},
   "outputs": [],
   "source": [
    "def generator(d, window_size=100, future_deep=5, jitter=0):\n",
    "    i = window_size\n",
    "    while True:\n",
    "        print(i)\n",
    "        yield d[i-window_size:i], d[i:i+future_deep,1]\n",
    "        \n",
    "        if jitter!=0:\n",
    "            i+=random.randint(1,jitter+1)\n",
    "        else:\n",
    "            i+=1\n",
    "        if i >= (len(d)-future_deep):\n",
    "            i = window_size"
   ]
  },
  {
   "cell_type": "code",
   "execution_count": 405,
   "metadata": {},
   "outputs": [],
   "source": [
    "train_g = generator(data_train[20000:], 1000, future_deep=20, jitter=30)\n"
   ]
  },
  {
   "cell_type": "code",
   "execution_count": 406,
   "metadata": {},
   "outputs": [
    {
     "name": "stdout",
     "output_type": "stream",
     "text": [
      "1000\n"
     ]
    },
    {
     "data": {
      "text/plain": [
       "<matplotlib.image.AxesImage at 0x21b4c486988>"
      ]
     },
     "execution_count": 406,
     "metadata": {},
     "output_type": "execute_result"
    },
    {
     "data": {
      "image/png": "[encoded data removed]",
      "text/plain": [
       "<Figure size 1440x1440 with 1 Axes>"
      ]
     },
     "metadata": {
      "needs_background": "light"
     },
     "output_type": "display_data"
    }
   ],
   "source": [
    "X, Y = next(train_g)\n",
    "plt.figure(figsize=(20,20))\n",
    "plt.imshow(cv2.resize(X.T,(20,5))[[0,1,3,4],:], cmap=\"gray\")"
   ]
  },
  {
   "cell_type": "code",
   "execution_count": 407,
   "metadata": {},
   "outputs": [
    {
     "data": {
      "text/plain": [
       "(20,)"
      ]
     },
     "execution_count": 407,
     "metadata": {},
     "output_type": "execute_result"
    }
   ],
   "source": [
    "Y.shape"
   ]
  },
  {
   "cell_type": "code",
   "execution_count": 408,
   "metadata": {},
   "outputs": [
    {
     "name": "stdout",
     "output_type": "stream",
     "text": [
      "1007\n"
     ]
    },
    {
     "data": {
      "image/png": "[encoded data removed]",
      "text/plain": [
       "<Figure size 432x288 with 1 Axes>"
      ]
     },
     "metadata": {
      "needs_background": "light"
     },
     "output_type": "display_data"
    },
    {
     "data": {
      "text/plain": [
       "[<matplotlib.lines.Line2D at 0x21b4fc6cc08>]"
      ]
     },
     "execution_count": 408,
     "metadata": {},
     "output_type": "execute_result"
    },
    {
     "data": {
      "image/png": "[encoded data removed]",
      "text/plain": [
       "<Figure size 432x288 with 1 Axes>"
      ]
     },
     "metadata": {
      "needs_background": "light"
     },
     "output_type": "display_data"
    }
   ],
   "source": [
    "X, Y = next(train_g)\n",
    "plt.plot(X[...,1])\n",
    "plt.show()\n",
    "plt.plot(X[...,1][-10:])\n",
    "plt.plot(range(10,10+len(Y)),Y)"
   ]
  },
  {
   "cell_type": "code",
   "execution_count": 409,
   "metadata": {},
   "outputs": [
    {
     "data": {
      "text/plain": [
       "((1000, 5), (20,))"
      ]
     },
     "execution_count": 409,
     "metadata": {},
     "output_type": "execute_result"
    }
   ],
   "source": [
    "X.shape, Y.shape"
   ]
  },
  {
   "cell_type": "code",
   "execution_count": null,
   "metadata": {},
   "outputs": [],
   "source": [
    "X.shape"
   ]
  },
  {
   "cell_type": "code",
   "execution_count": 412,
   "metadata": {},
   "outputs": [],
   "source": [
    "model = Sequential()"
   ]
  },
  {
   "cell_type": "code",
   "execution_count": 427,
   "metadata": {},
   "outputs": [
    {
     "name": "stdout",
     "output_type": "stream",
     "text": [
      "Model: \"sequential_16\"\n",
      "_________________________________________________________________\n",
      "Layer (type)                 Output Shape              Param #   \n",
      "=================================================================\n",
      "conv2d_29 (Conv2D)           (None, 971, 1, 64)        9664      \n",
      "_________________________________________________________________\n",
      "conv2d_30 (Conv2D)           (None, 942, 1, 64)        122944    \n",
      "_________________________________________________________________\n",
      "conv2d_31 (Conv2D)           (None, 913, 1, 64)        122944    \n",
      "_________________________________________________________________\n",
      "conv2d_32 (Conv2D)           (None, 884, 1, 64)        122944    \n",
      "_________________________________________________________________\n",
      "conv2d_33 (Conv2D)           (None, 855, 1, 64)        122944    \n",
      "_________________________________________________________________\n",
      "flatten_1 (Flatten)          (None, 54720)             0         \n",
      "=================================================================\n",
      "Total params: 501,440\n",
      "Trainable params: 501,440\n",
      "Non-trainable params: 0\n",
      "_________________________________________________________________\n"
     ]
    }
   ],
   "source": [
    "import tensorflow as tf\n",
    "from tensorflow.keras.models import Sequential\n",
    "from tensorflow.keras.layers import Dense, Conv2D, Flatten\n",
    "\n",
    "# Initialize the model\n",
    "model = Sequential()\n",
    "\n",
    "# Add five Conv2D layers\n",
    "# Since one of the spatial dimensions (5) is much smaller than the other,\n",
    "# you might want to use a kernel that spans the entire width of 5\n",
    "# and only moves along the height (1000).\n",
    "model.add(Conv2D(filters=64, kernel_size=(30, 5), activation='relu', input_shape=(1000, 5, 1)))\n",
    "model.add(Conv2D(filters=64, kernel_size=(30, 1), activation='relu'))\n",
    "model.add(Conv2D(filters=64, kernel_size=(30, 1), activation='relu'))\n",
    "model.add(Conv2D(filters=64, kernel_size=(30, 1), activation='relu'))\n",
    "model.add(Conv2D(filters=64, kernel_size=(30, 1), activation='relu'))\n",
    "\n",
    "# Flatten the output of the conv layers to feed into the dense layers\n",
    "model.add(Flatten())\n",
    "\n",
    "# Add two dense layers\n",
    "#model.add(Dense(100, activation='relu'))\n",
    "#model.add(Dense(50, activation='relu'))\n",
    "\n",
    "# Output layer with 20 units\n",
    "#model.add(Dense(20, activation='softmax'))  # Use softmax for classification or another activation for regression\n",
    "\n",
    "# Compile the model\n",
    "#model.compile(optimizer='adam', loss='categorical_crossentropy')  # Use the appropriate loss function for your task\n",
    "\n",
    "model.summary()"
   ]
  },
  {
   "cell_type": "code",
   "execution_count": 219,
   "metadata": {},
   "outputs": [
    {
     "name": "stdout",
     "output_type": "stream",
     "text": [
      "4864\n",
      "0.49972360420121614 0.4994472084024323\n",
      "4870\n",
      "0.5 0.5\n",
      "4893\n",
      "0.49917081260364843 0.4994472084024323\n",
      "4920\n",
      "0.4994472084024323 0.49917081260364843\n",
      "4941\n",
      "0.49889441680486457 0.49889441680486457\n",
      "4966\n",
      "0.498065229408513 0.498065229408513\n",
      "4996\n",
      "0.4994472084024323 0.4994472084024323\n",
      "4997\n",
      "0.4994472084024323 0.49972360420121614\n",
      "5004\n",
      "0.5002763957987839 0.5002763957987839\n",
      "5005\n",
      "0.5002763957987839 0.5002763957987839\n",
      "5019\n",
      "0.4994472084024323 0.5\n",
      "5027\n",
      "0.49972360420121614 0.49972360420121614\n",
      "5031\n",
      "0.49917081260364843 0.49917081260364843\n",
      "5032\n",
      "0.49917081260364843 0.49889441680486457\n",
      "5057\n",
      "0.4986180210060807 0.4986180210060807\n",
      "5088\n",
      "0.49834162520729686 0.49834162520729686\n",
      "5102\n",
      "0.496130458817026 0.49585406301824214\n",
      "5117\n",
      "0.49585406301824214 0.49585406301824214\n",
      "5129\n",
      "0.4972360420121614 0.4972360420121614\n",
      "5131\n",
      "0.4972360420121614 0.4972360420121614\n"
     ]
    }
   ],
   "source": [
    "for i in range(20):\n",
    "    X, Y = next(g)\n",
    "    print(X[-1,1], Y)"
   ]
  },
  {
   "cell_type": "code",
   "execution_count": null,
   "metadata": {},
   "outputs": [],
   "source": [
    "plt.imshow(X[...,])"
   ]
  },
  {
   "cell_type": "code",
   "execution_count": 1,
   "metadata": {
    "colab": {
     "base_uri": "https://localhost:8080/"
    },
    "id": "oC1K8EpGtIdo",
    "outputId": "2253d659-c9d5-476f-a8ed-776cfde6da1b"
   },
   "outputs": [
    {
     "name": "stdout",
     "output_type": "stream",
     "text": [
      "Requirement already satisfied: dlib in /usr/local/lib/python3.10/dist-packages (19.24.2)\n"
     ]
    }
   ],
   "source": [
    "!pip install dlib\n",
    "import dlib"
   ]
  },
  {
   "cell_type": "code",
   "execution_count": 2,
   "metadata": {
    "colab": {
     "base_uri": "https://localhost:8080/"
    },
    "id": "xcIiVtTVzjE0",
    "outputId": "e80ea772-45bb-46dc-9e95-00352c8eed2e"
   },
   "outputs": [
    {
     "name": "stdout",
     "output_type": "stream",
     "text": [
      "Collecting face_recognition\n",
      "  Downloading face_recognition-1.3.0-py2.py3-none-any.whl (15 kB)\n",
      "Collecting face-recognition-models>=0.3.0 (from face_recognition)\n",
      "  Downloading face_recognition_models-0.3.0.tar.gz (100.1 MB)\n",
      "\u001b[2K     \u001b[90m━━━━━━━━━━━━━━━━━━━━━━━━━━━━━━━━━━━━━━━━\u001b[0m \u001b[32m100.1/100.1 MB\u001b[0m \u001b[31m5.5 MB/s\u001b[0m eta \u001b[36m0:00:00\u001b[0m\n",
      "\u001b[?25h  Preparing metadata (setup.py) ... \u001b[?25l\u001b[?25hdone\n",
      "Requirement already satisfied: Click>=6.0 in /usr/local/lib/python3.10/dist-packages (from face_recognition) (8.1.7)\n",
      "Requirement already satisfied: dlib>=19.7 in /usr/local/lib/python3.10/dist-packages (from face_recognition) (19.24.2)\n",
      "Requirement already satisfied: numpy in /usr/local/lib/python3.10/dist-packages (from face_recognition) (1.25.2)\n",
      "Requirement already satisfied: Pillow in /usr/local/lib/python3.10/dist-packages (from face_recognition) (9.4.0)\n",
      "Building wheels for collected packages: face-recognition-models\n",
      "  Building wheel for face-recognition-models (setup.py) ... \u001b[?25l\u001b[?25hdone\n",
      "  Created wheel for face-recognition-models: filename=face_recognition_models-0.3.0-py2.py3-none-any.whl size=100566170 sha256=bf92497fed846044879f729c36903e441c21bf9c64ed4fdbca7176ec9f839fb3\n",
      "  Stored in directory: /root/.cache/pip/wheels/7a/eb/cf/e9eced74122b679557f597bb7c8e4c739cfcac526db1fd523d\n",
      "Successfully built face-recognition-models\n",
      "Installing collected packages: face-recognition-models, face_recognition\n",
      "Successfully installed face-recognition-models-0.3.0 face_recognition-1.3.0\n"
     ]
    }
   ],
   "source": [
    "!pip install face_recognition"
   ]
  },
  {
   "cell_type": "code",
   "execution_count": 13,
   "metadata": {
    "id": "TPO_nOAtzqhN"
   },
   "outputs": [],
   "source": [
    "import face_recognition"
   ]
  },
  {
   "cell_type": "code",
   "execution_count": 4,
   "metadata": {
    "colab": {
     "base_uri": "https://localhost:8080/"
    },
    "id": "kpLCFNOyz6-S",
    "outputId": "471ac80b-6fa5-4f06-f5e6-addcbc36d7a5"
   },
   "outputs": [
    {
     "name": "stdout",
     "output_type": "stream",
     "text": [
      "--2024-03-31 23:29:49--  http://vis-www.cs.umass.edu/lfw/lfw-a.tgz\n",
      "Resolving vis-www.cs.umass.edu (vis-www.cs.umass.edu)... 128.119.244.95\n",
      "Connecting to vis-www.cs.umass.edu (vis-www.cs.umass.edu)|128.119.244.95|:80... connected.\n",
      "HTTP request sent, awaiting response... 200 OK\n",
      "Length: 14486641 (14M) [application/x-gzip]\n",
      "Saving to: ‘lfw-a.tgz’\n",
      "\n",
      "lfw-a.tgz           100%[===================>]  13.82M  1.67MB/s    in 10s     \n",
      "\n",
      "2024-03-31 23:30:00 (1.32 MB/s) - ‘lfw-a.tgz’ saved [14486641/14486641]\n",
      "\n"
     ]
    }
   ],
   "source": [
    "!wget http://vis-www.cs.umass.edu/lfw/lfw-a.tgz"
   ]
  },
  {
   "cell_type": "code",
   "execution_count": 9,
   "metadata": {
    "id": "ZRAmlVPT2OMa"
   },
   "outputs": [],
   "source": [
    "!tar -xzf lfw-a.tgz"
   ]
  },
  {
   "cell_type": "code",
   "execution_count": 14,
   "metadata": {
    "id": "lOO8P0oj2Wzh"
   },
   "outputs": [],
   "source": [
    "all_files = glob(\"./lfw/**/*.*\", recursive=True)"
   ]
  },
  {
   "cell_type": "code",
   "execution_count": 15,
   "metadata": {
    "id": "iUtpI_rj3aup"
   },
   "outputs": [],
   "source": [
    "faces = {}\n",
    "for f in all_files[:]:\n",
    "  k = f.split(os.sep)[-2]\n",
    "  try:\n",
    "    faces[k]+=[f]\n",
    "  except:\n",
    "    faces[k]=[f]\n"
   ]
  },
  {
   "cell_type": "code",
   "execution_count": null,
   "metadata": {
    "id": "RA6qpk6R5aye"
   },
   "outputs": [],
   "source": []
  },
  {
   "cell_type": "code",
   "execution_count": 16,
   "metadata": {
    "id": "esmy2LI43j-h"
   },
   "outputs": [],
   "source": [
    "for k in list(faces.keys()):\n",
    "  if len(faces[k])<2:\n",
    "    faces.pop(k, None)\n",
    "    #print(k)"
   ]
  },
  {
   "cell_type": "code",
   "execution_count": 17,
   "metadata": {
    "colab": {
     "base_uri": "https://localhost:8080/"
    },
    "id": "mxTe9wEz4jOv",
    "outputId": "3b6c3f96-593b-43fc-d2dd-d3440031cd0e"
   },
   "outputs": [
    {
     "data": {
      "text/plain": [
       "dict_keys(['Aaron_Peirsol', 'Aaron_Sorkin', 'Abdel_Nasser_Assidi', 'Abdoulaye_Wade', 'Abdullah', 'Abdullah_al-Attiyah', 'Abdullah_Gul', 'Abdullatif_Sener', 'Abel_Pacheco', 'Abid_Hamid_Mahmud_Al-Tikriti', 'Adam_Sandler', 'Adam_Scott', 'Adel_Al-Jubeir', 'Adolfo_Aguilar_Zinser', 'Adolfo_Rodriguez_Saa', 'Adrian_McPherson', 'Adrian_Nastase', 'Adrien_Brody', 'Ahmad_Masood', 'Ahmed_Chalabi', 'Ahmet_Necdet_Sezer', 'Aicha_El_Ouafi', 'Aitor_Gonzalez', 'Ai_Sugiyama', 'Akbar_Hashemi_Rafsanjani', 'Akhmed_Zakayev', 'Alan_Ball', 'Alan_Greenspan', 'Alan_Mulally', 'Alastair_Campbell', 'Alberto_Fujimori', 'Alberto_Ruiz_Gallardon', 'Albert_Costa', 'Albrecht_Mentz', 'Aldo_Paredes', 'Alec_Baldwin', 'Alejandro_Atchugarry', 'Alejandro_Avila', 'Alejandro_Toledo', 'Aleksander_Kwasniewski', 'Alexander_Downer', 'Alexander_Losyukov', 'Alexander_Rumyantsev', 'Alexandra_Stevenson', 'Alexandra_Vodjanikova', 'Alex_Barros', 'Alex_Penelas', 'Alex_Sink', 'Alice_Fisher', 'Alicia_Silverstone', 'Alimzhan_Tokhtakhounov', 'Alison_Lohman', 'Ali_Abbas', 'Ali_Khamenei', 'Ali_Naimi', 'Allen_Iverson', 'Allison_Janney', 'Allyson_Felix', 'Alvaro_Noboa', 'Alvaro_Silva_Calderon', 'Alvaro_Uribe', 'Al_Davis', 'Al_Gore', 'Al_Pacino', 'Al_Sharpton', 'Amanda_Beard', 'Amanda_Bynes', 'Amanda_Coetzer', 'Amber_Tamblyn', 'Amelia_Vega', 'Amelie_Mauresmo', 'Amer_al-Saadi', 'Amram_Mitzna', 'Anastasia_Myskina', 'Ana_Guevara', 'Ana_Palacio', 'Anders_Ebbeson', 'Anders_Fogh_Rasmussen', 'Andrei_Mikhnevich', 'Andrew_Bunner', 'Andrew_Cuomo', 'Andrew_Niccol', 'Andrew_Weissmann', 'Andre_Agassi', 'Andy_Hebb', 'Andy_Roddick', 'Angela_Bassett', 'Angela_Lansbury', 'Angela_Merkel', 'Angelina_Jolie', 'Angelo_Reyes', 'Anibal_Ibarra', 'Anna_Kournikova', 'Anna_Nicole_Smith', 'Anneli_Jaatteenmaki', 'Annette_Bening', 'Annette_Lu', 'Anne_Krueger', 'Anne_McLellan', 'Ann_Veneman', 'Anthony_Fauci', 'Anthony_Hopkins', 'Anthony_LaPaglia', 'Antonio_Banderas', 'Antonio_Palocci', 'Antonio_Trillanes', 'Antony_Leung', 'Anwar_Ibrahim', 'Arantxa_Sanchez-Vicario', 'Arianna_Huffington', 'Ariel_Sharon', 'Ari_Fleischer', 'Arlen_Specter', 'Arminio_Fraga', 'Arnaud_Clement', 'Arnoldo_Aleman', 'Arnold_Palmer', 'Arnold_Schwarzenegger', 'Aron_Ralston', 'Arsinee_Khanjian', 'Arturo_Gatti', 'Art_Hoffmann', 'Art_Howe', 'Arye_Mekel', 'Asa_Hutchinson', 'Ashanti', 'Ashton_Kutcher', 'Atal_Bihari_Vajpayee', 'Augustin_Calleri', 'Augusto_Pinochet', 'Augusto_Roa_Bastos', 'Aung_San_Suu_Kyi', 'Azra_Akin'])"
      ]
     },
     "execution_count": 17,
     "metadata": {},
     "output_type": "execute_result"
    }
   ],
   "source": [
    "faces.keys()"
   ]
  },
  {
   "cell_type": "code",
   "execution_count": 18,
   "metadata": {
    "colab": {
     "base_uri": "https://localhost:8080/"
    },
    "id": "b0dIfTDi5oX_",
    "outputId": "9a8c1fb7-d7d6-49ce-8248-fa63f0103f8a"
   },
   "outputs": [
    {
     "name": "stdout",
     "output_type": "stream",
     "text": [
      "Aaron_Peirsol\n",
      "Aaron_Sorkin\n",
      "Abdel_Nasser_Assidi\n",
      "Abdoulaye_Wade\n",
      "Abdullah\n",
      "Abdullah_al-Attiyah\n",
      "Abdullah_Gul\n",
      "Abdullatif_Sener\n",
      "Abel_Pacheco\n",
      "Abid_Hamid_Mahmud_Al-Tikriti\n",
      "Adam_Sandler\n",
      "Adam_Scott\n",
      "Adel_Al-Jubeir\n",
      "Adolfo_Aguilar_Zinser\n",
      "Adolfo_Rodriguez_Saa\n",
      "Adrian_McPherson\n",
      "Adrian_Nastase\n",
      "Adrien_Brody\n",
      "Ahmad_Masood\n",
      "Ahmed_Chalabi\n",
      "Ahmet_Necdet_Sezer\n",
      "Aicha_El_Ouafi\n",
      "Aitor_Gonzalez\n",
      "Ai_Sugiyama\n",
      "Akbar_Hashemi_Rafsanjani\n",
      "Akhmed_Zakayev\n",
      "Alan_Ball\n",
      "Alan_Greenspan\n",
      "Alan_Mulally\n",
      "Alastair_Campbell\n",
      "Alberto_Fujimori\n",
      "Alberto_Ruiz_Gallardon\n",
      "Albert_Costa\n",
      "Albrecht_Mentz\n",
      "Aldo_Paredes\n",
      "Alec_Baldwin\n",
      "Alejandro_Atchugarry\n",
      "Alejandro_Avila\n",
      "Alejandro_Toledo\n",
      "Aleksander_Kwasniewski\n",
      "Alexander_Downer\n",
      "Alexander_Losyukov\n",
      "Alexander_Rumyantsev\n",
      "Alexandra_Stevenson\n",
      "Alexandra_Vodjanikova\n",
      "Alex_Barros\n",
      "Alex_Penelas\n",
      "Alex_Sink\n",
      "Alice_Fisher\n",
      "Alicia_Silverstone\n",
      "Alimzhan_Tokhtakhounov\n",
      "Alison_Lohman\n",
      "Ali_Abbas\n",
      "Ali_Khamenei\n",
      "Ali_Naimi\n",
      "Allen_Iverson\n",
      "Allison_Janney\n",
      "Allyson_Felix\n",
      "Alvaro_Noboa\n",
      "Alvaro_Silva_Calderon\n",
      "Alvaro_Uribe\n",
      "Al_Davis\n",
      "Al_Gore\n",
      "Al_Pacino\n",
      "Al_Sharpton\n",
      "Amanda_Beard\n",
      "Amanda_Bynes\n",
      "Amanda_Coetzer\n",
      "Amber_Tamblyn\n",
      "Amelia_Vega\n",
      "Amelie_Mauresmo\n",
      "Amer_al-Saadi\n",
      "Amram_Mitzna\n",
      "Anastasia_Myskina\n",
      "Ana_Guevara\n",
      "Ana_Palacio\n",
      "Anders_Ebbeson\n",
      "Anders_Fogh_Rasmussen\n",
      "Andrei_Mikhnevich\n",
      "Andrew_Bunner\n",
      "Andrew_Cuomo\n",
      "Andrew_Niccol\n",
      "Andrew_Weissmann\n",
      "Andre_Agassi\n",
      "Andy_Hebb\n",
      "Andy_Roddick\n",
      "Angela_Bassett\n",
      "Angela_Lansbury\n",
      "Angela_Merkel\n",
      "Angelina_Jolie\n",
      "Angelo_Reyes\n",
      "Anibal_Ibarra\n",
      "Anna_Kournikova\n",
      "Anna_Nicole_Smith\n",
      "Anneli_Jaatteenmaki\n",
      "Annette_Bening\n",
      "Annette_Lu\n",
      "Anne_Krueger\n",
      "Anne_McLellan\n",
      "Ann_Veneman\n",
      "Anthony_Fauci\n",
      "Anthony_Hopkins\n",
      "Anthony_LaPaglia\n",
      "Antonio_Banderas\n",
      "Antonio_Palocci\n",
      "Antonio_Trillanes\n",
      "Antony_Leung\n",
      "Anwar_Ibrahim\n",
      "Arantxa_Sanchez-Vicario\n",
      "Arianna_Huffington\n",
      "Ariel_Sharon\n",
      "Ari_Fleischer\n",
      "Arlen_Specter\n",
      "Arminio_Fraga\n",
      "Arnaud_Clement\n",
      "Arnoldo_Aleman\n",
      "Arnold_Palmer\n",
      "Arnold_Schwarzenegger\n",
      "Aron_Ralston\n",
      "Arsinee_Khanjian\n",
      "Arturo_Gatti\n",
      "Art_Hoffmann\n",
      "Art_Howe\n",
      "Arye_Mekel\n",
      "Asa_Hutchinson\n",
      "Ashanti\n",
      "Ashton_Kutcher\n",
      "Atal_Bihari_Vajpayee\n",
      "Augustin_Calleri\n",
      "Augusto_Pinochet\n",
      "Augusto_Roa_Bastos\n",
      "Aung_San_Suu_Kyi\n",
      "Azra_Akin\n"
     ]
    }
   ],
   "source": [
    "embeddings = {_:[] for _ in faces.keys()}\n",
    "for k in faces.keys():\n",
    "  print(k)\n",
    "  for f in faces[k]:\n",
    "    try:\n",
    "      embeddings[k] += [face_recognition.face_encodings(face_recognition.load_image_file(f))[0]]\n",
    "    except:\n",
    "      embeddings[k] += [None]\n"
   ]
  },
  {
   "cell_type": "code",
   "execution_count": 19,
   "metadata": {
    "colab": {
     "base_uri": "https://localhost:8080/"
    },
    "id": "yb96RW2z6bZV",
    "outputId": "c2b146a1-c1a2-4f6c-9fdc-8c2cca3563e8"
   },
   "outputs": [
    {
     "data": {
      "text/plain": [
       "62"
      ]
     },
     "execution_count": 19,
     "metadata": {},
     "output_type": "execute_result"
    }
   ],
   "source": [
    "len(embeddings[\"Arnold_Schwarzenegger\"])+len(embeddings[\"Angelina_Jolie\"])"
   ]
  },
  {
   "cell_type": "code",
   "execution_count": 20,
   "metadata": {
    "colab": {
     "base_uri": "https://localhost:8080/"
    },
    "id": "KjWLPZjJ7L9m",
    "outputId": "2962566b-fa8e-4317-b938-b0940144b095"
   },
   "outputs": [
    {
     "data": {
      "text/plain": [
       "(73, 128)"
      ]
     },
     "execution_count": 20,
     "metadata": {},
     "output_type": "execute_result"
    }
   ],
   "source": [
    "embs = np.array(embeddings[\"Arnold_Schwarzenegger\"]+embeddings[\"Angelina_Jolie\"]+embeddings[\"Al_Pacino\"]+embeddings[\"Al_Gore\"])\n",
    "embs.shape"
   ]
  },
  {
   "cell_type": "code",
   "execution_count": 21,
   "metadata": {
    "colab": {
     "base_uri": "https://localhost:8080/",
     "height": 450
    },
    "id": "s-hAvCGN7aF-",
    "outputId": "cdcaeb74-b56f-4bb5-ee99-270ada2cb6c0"
   },
   "outputs": [
    {
     "data": {
      "text/plain": [
       "<matplotlib.image.AxesImage at 0x21a96d0c708>"
      ]
     },
     "execution_count": 21,
     "metadata": {},
     "output_type": "execute_result"
    },
    {
     "data": {
      "image/png": "[encoded data removed]",
      "text/plain": [
       "<Figure size 432x288 with 1 Axes>"
      ]
     },
     "metadata": {
      "needs_background": "light"
     },
     "output_type": "display_data"
    }
   ],
   "source": [
    "plt.imshow(np.array([ ((embs-_)**2).sum(axis=1) for _ in embs]), cmap=\"gray\")"
   ]
  },
  {
   "cell_type": "code",
   "execution_count": 22,
   "metadata": {
    "colab": {
     "base_uri": "https://localhost:8080/",
     "height": 450
    },
    "id": "vhRtzyyk_iEi",
    "outputId": "6391296f-afaa-4e50-d82b-2f4018e6ec87"
   },
   "outputs": [
    {
     "data": {
      "text/plain": [
       "<matplotlib.image.AxesImage at 0x21ae6c78cc8>"
      ]
     },
     "execution_count": 22,
     "metadata": {},
     "output_type": "execute_result"
    },
    {
     "data": {
      "image/png": "[encoded data removed]",
      "text/plain": [
       "<Figure size 432x288 with 1 Axes>"
      ]
     },
     "metadata": {
      "needs_background": "light"
     },
     "output_type": "display_data"
    }
   ],
   "source": [
    "plt.imshow(np.array([ ((embs-_)**2).sum(axis=1) for _ in embs])<0.4, cmap=\"gray\")"
   ]
  },
  {
   "cell_type": "code",
   "execution_count": null,
   "metadata": {
    "id": "0zszcabp_ykT"
   },
   "outputs": [],
   "source": []
  }
 ],
 "metadata": {
  "accelerator": "GPU",
  "colab": {
   "authorship_tag": "ABX9TyNM4e9pJv7cOe2zw5SYRRHr",
   "gpuType": "T4",
   "include_colab_link": true,
   "provenance": []
  },
  "kernelspec": {
   "display_name": "Python 3 (ipykernel)",
   "language": "python",
   "name": "python3"
  },
  "language_info": {
   "codemirror_mode": {
    "name": "ipython",
    "version": 3
   },
   "file_extension": ".py",
   "mimetype": "text/x-python",
   "name": "python",
   "nbconvert_exporter": "python",
   "pygments_lexer": "ipython3",
   "version": "3.7.10"
  }
 },
 "nbformat": 4,
 "nbformat_minor": 1
}
